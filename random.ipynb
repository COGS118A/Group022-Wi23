{
 "cells": [
  {
   "cell_type": "markdown",
   "metadata": {},
   "source": [
    "# COGS 118A - Final Project"
   ]
  },
  {
   "cell_type": "markdown",
   "metadata": {},
   "source": [
    "\n",
    "## Group members\n",
    "\n",
    "- Neil Bajaj\n",
    "- Ria Singh\n",
    "- Pratheek Sankeshi \n",
    "- Shenova Davis"
   ]
  },
  {
   "cell_type": "markdown",
   "metadata": {},
   "source": [
    "# Abstract \n",
    "The goal of this project is to predict whether to approve a credit card for an applicant based on a variety of factors that were asked on their application. We will predict using a machine learning algorithm. The data we will be using is from the Kaggle dataset: A Credit Card Dataset for Machine Learning. The link is https://www.kaggle.com/datasets/caesarmario/application-data/. We will be using factors such as Total Income, Education Type, Applicant Age, etc. More will be described in the data section. Furthermore, we will drop unnecessary columns like Owned Phone, Owned Email, etc while also replacing null values to perform EDA. We will then run various supervised machine learning algorithms to create models to predict the data and use the best one. The performance will be measured on how accurately we predict the data against the status column of the data which is whether the application was approved or not. \n",
    "\n",
    "\n",
    "__NB:__ this final project form is much more report-like than the proposal and the checkpoint. Think in terms of writing a paper with bits of code in the middle to make the plots/tables"
   ]
  },
  {
   "cell_type": "markdown",
   "metadata": {},
   "source": [
    "# Background\n",
    "\n",
    "As we get deeper into the age of Big Data, we see that, where possible, we are attempting to move from human evaluation to machine learning prediction. There has also been an uptick in the number of credit card defaulters. Using this logic, credit card companies need a new way to decide whether or not to approve credit cards based on prior history. \n",
    "\n",
    "A previous study done by Dr. Hemkiran[1] evaluated whether applicants should be approved for a credit card by using a Logistic Regression with and without a grid search technique. They found that using a grid search technique improved the competency of their model. Additionally, they also used an Artificial Neural Network (ANN) and found it to be better than the linear regression model. Another study by Dr. Kibria[2] aimed to create a deep learning model to aid credit card approval decision-making. They also used a logistic regression model and a support vector machine (SVM) model to compare their results. They found that the deep learning model was better than the logistic regression and SVM models. However, the ANN model and deep learning model are more computationally expensive and time-consuming. \n",
    "\n",
    "We are attempting to create a predictive machine learning model that models whether or not the application has the right credentials to have their credit card application approved using the following variables: Applicant Gender, Owned property, Total Children, Owned Car, Total Income, Housing Type, Total Family Members, Applicant Age, Education Type, and Family Status. This is to avoid future credit card defaulters. We will use models such as Naive Bayes Classifier, Linear SVM, and Linear Regression and use them to compare our model’s performance as well. \n"
   ]
  },
  {
   "cell_type": "markdown",
   "metadata": {},
   "source": [
    "# Problem Statement\n",
    "\n",
    "We are building this model to measure if there are any discrepancies when approving credit card applications. We additionally want to check if we could use big data and machine learning to build a model that predicts if a credit card is approved or not. This would take out human bias from the equation and make sure every application is fairly reviewed. Creating a machine learning model will attempt to eliminate the human bias towards race, class, gender, etc - an issue that plagues the financial ratings of individuals. Additionally, a machine-learning system can significantly reduce the human power and costs of a credit card company, increasing revenue. If our model can accurately predict whether an application can be accepted, we could conclude our hypothesis. This problem is quantifiable since we are trying to model a binary predictor. This problem is measurable because we would be using the metric of accuracy to validate the performance of our model. Lastly, our model is replicable because we could run it on different datasets and check its accuracy on each dataset. The model we will create will be composed of supervised machine-learning algorithms and techniques such as logistic regression, linear SVM, K fold validation, etc. We will train our model on previously collected data from credit card companies to understand what attributes make an individual more or less likely to get approved for a credit card. "
   ]
  },
  {
   "cell_type": "markdown",
   "metadata": {},
   "source": [
    "# Data\n",
    "\n",
    "- Link for our data: https://www.kaggle.com/datasets/caesarmario/application-data\n",
    "\n",
    "- This data set has about 25,100 observations with 21 variables. \n",
    "\n",
    "- The variables that will be used are Applicant Gender, Owned property, Total Children, Owned Car, Total Income, Housing Type, Total Family Members, Applicant Age, Education Type,Family Status, Total Good Debt, and Total Bad Debt. \n",
    "\n",
    "- The dataset we are using has already been cleaned to drop any data points with null values and yet the dataset remains robust so we will not be addressing it any further.\n",
    "\n",
    "- We will additionally drop all the features that we will not be using to further declutter the dataset.\n",
    "\n",
    "- In addition to cleaning we one hot encoded all other categorical data which wasn't already binary which is displayed below\n",
    "\n",
    "\n",
    "\n"
   ]
  },
  {
   "cell_type": "code",
   "execution_count": null,
   "metadata": {
    "tags": [
     "hide_cell"
    ]
   },
   "outputs": [],
   "source": [
    "import pandas as pd\n",
    "import numpy as np\n",
    "import os\n",
    "import matplotlib.pyplot as plt\n",
    "import seaborn as sns    \n",
    "from matplotlib.pyplot import figure\n",
    "import sklearn\n",
    "import numpy as np\n",
    "import matplotlib.pyplot as plt\n",
    "from scipy import stats\n",
    "# use seaborn plotting defaults\n",
    "import seaborn as sns; sns.set()\n",
    "from sklearn.datasets import make_blobs\n",
    "\n",
    "import matplotlib.pyplot as plt\n",
    "from sklearn.datasets import make_classification\n",
    "from sklearn.model_selection import train_test_split\n",
    "from sklearn.linear_model import LogisticRegression\n",
    "from sklearn.tree import DecisionTreeClassifier\n",
    "from sklearn.svm import SVC\n",
    "from sklearn.neighbors import KNeighborsClassifier\n",
    "from sklearn.ensemble import RandomForestClassifier\n",
    "from sklearn.metrics import accuracy_score, confusion_matrix, classification_report\n",
    "\n",
    "#models importing\n",
    "from sklearn.linear_model import LogisticRegression\n",
    "from sklearn.model_selection import train_test_split\n",
    "from sklearn.naive_bayes import GaussianNB \n",
    "\n",
    "#linear svm\n",
    "from sklearn.svm import LinearSVC\n",
    "from sklearn.pipeline import make_pipeline\n",
    "from sklearn.preprocessing import StandardScaler\n",
    "from sklearn.datasets import make_classification\n",
    "\n",
    "from sklearn.kernel_ridge import KernelRidge\n",
    "\n",
    "credit = pd.read_csv('Application_Data.csv')\n",
    "\n",
    "#Keeping only the columns we intend on using along with the status \n",
    "#column which contains the true status of the applicant\n",
    "\n",
    "credit = credit[[\"Applicant_Gender\", \"Applicant_Age\",\"Owned_Realty\",\n",
    "                 \"Total_Children\", \"Owned_Car\", \"Total_Income\", \"Housing_Type\",\n",
    "                 \"Total_Family_Members\", \"Education_Type\", \"Family_Status\", 'Status', 'Total_Bad_Debt', 'Total_Good_Debt']]"
   ]
  },
  {
   "cell_type": "code",
   "execution_count": null,
   "metadata": {},
   "outputs": [],
   "source": [
    "credit.head()"
   ]
  },
  {
   "cell_type": "markdown",
   "metadata": {},
   "source": [
    "### One Hot Encoding and SMOTE"
   ]
  },
  {
   "cell_type": "markdown",
   "metadata": {},
   "source": [
    "\n",
    "While doing the initial EDA, we realised that our dataset only had 0.4% negative class. To rectify this discrepancy, we used SMOTE to generate data such that the data is split at an even 50% - similar to actual credit card approval rates. However, before running SMOTE we need to One Hot Encode our data.\n",
    "\n",
    "Before One Hot Encoding, we check for null or NAN values - as seen below our dataset doesn't have any hence handling them is not required."
   ]
  },
  {
   "cell_type": "code",
   "execution_count": null,
   "metadata": {},
   "outputs": [],
   "source": [
    "credit.isnull().values.any()"
   ]
  },
  {
   "cell_type": "code",
   "execution_count": null,
   "metadata": {},
   "outputs": [],
   "source": [
    "from sklearn.compose import ColumnTransformer\n",
    "from sklearn.compose import make_column_selector as selector\n",
    "from sklearn.preprocessing import OneHotEncoder, StandardScaler\n",
    "from sklearn.pipeline import Pipeline\n",
    "from sklearn.linear_model import LogisticRegression\n",
    "from sklearn.model_selection import train_test_split, GridSearchCV\n",
    "\n",
    "X_train, X_test, y_train, y_test = train_test_split(credit.drop('Status', axis = 1), \n",
    "                                                    credit['Status'], #Y variable target\n",
    "                                                    train_size = 0.8,\n",
    "                                                    random_state = 123)\n",
    "\n",
    "categorical_features = [\"Applicant_Gender\", \"Housing_Type\", \"Education_Type\", \"Family_Status\"]\n",
    "\n",
    "\n",
    "# Define numerical and categorical column selectors\n",
    "numerical_columns_selector = selector(dtype_exclude=object)\n",
    "categorical_columns_selector = selector(dtype_include=object)\n",
    "\n",
    "# Get numerical and categorical column names\n",
    "numerical_columns = numerical_columns_selector(X_train)\n",
    "categorical_columns = categorical_columns_selector(X_train)\n",
    "\n",
    "# Define one-hot encoder and scaler\n",
    "numerical_transformer = StandardScaler()\n",
    "\n",
    "#Drop original categorical features, could combine with if binary but unnecessary\n",
    "categorical_transformer = OneHotEncoder(drop='first') \n",
    "\n",
    "preprocessor = ColumnTransformer(\n",
    "    transformers=[ \n",
    "        ('num', numerical_transformer, numerical_columns),\n",
    "        ('cat', categorical_transformer, categorical_columns)\n",
    "    ])"
   ]
  },
  {
   "cell_type": "markdown",
   "metadata": {},
   "source": [
    "### Running Smote"
   ]
  },
  {
   "cell_type": "markdown",
   "metadata": {},
   "source": [
    "The data generation results in the increasing of the number of data points from 25,000 to 40,000."
   ]
  },
  {
   "cell_type": "code",
   "execution_count": null,
   "metadata": {},
   "outputs": [],
   "source": [
    "from imblearn.over_sampling import SMOTE\n",
    "\n",
    "X_train_processed = preprocessor.fit_transform(X_train)\n",
    "\n",
    "sm = SMOTE(random_state=42)\n",
    "X_res, y_res = sm.fit_resample(X_train_processed, y_train)\n",
    "X_res.shape"
   ]
  },
  {
   "cell_type": "markdown",
   "metadata": {},
   "source": [
    "Doing some additional data cleaning"
   ]
  },
  {
   "cell_type": "code",
   "execution_count": null,
   "metadata": {},
   "outputs": [],
   "source": [
    "num_columns = list(numerical_columns)\n",
    "\n",
    "preprocessor.fit(X_train)\n",
    "\n",
    "cat_columns = list(preprocessor.named_transformers_['cat'].get_feature_names_out(categorical_columns))\n",
    "column_names = num_columns + cat_columns\n",
    "column_names = num_columns + cat_columns\n",
    "\n",
    "X_res_df = pd.DataFrame(X_res, columns=column_names)\n"
   ]
  },
  {
   "cell_type": "code",
   "execution_count": null,
   "metadata": {},
   "outputs": [],
   "source": [
    "X_res_df['Total_Income'].describe()"
   ]
  },
  {
   "cell_type": "code",
   "execution_count": null,
   "metadata": {},
   "outputs": [],
   "source": [
    "X_train['Total_Income'].describe()"
   ]
  },
  {
   "cell_type": "markdown",
   "metadata": {},
   "source": [
    "The reason why the standardized training data and the original training data look different and transformed is due to standard scaling. We used standard scaling for a few reasons. \n",
    "\n",
    "First, it aids in the normalization of the data by transforming the data to have no mean and unit variance, which is helpful for data with different measurement units and magnitudes. Additionally, it improves the perfomance of some machine learning algorithms such as K-Nearest Neighbors and Support Vector Machines, because they are sensitive to the scale of the input. Standard scaling also helps optimization algorithms, such as gradient descent, converge faster when the features are on the same scaled. Lastly, when performing a models with coefficients, such as linear regression, standard scaling ensures that the coefficients are compared fairly. Overall, standard scaling is a common preprocessing step that can improve the performance of many machine learning models and make the interpretation of results easier by having features on the same scale.\n",
    "\n",
    "This concludes our data cleaning process and make the data ready to be used in our models"
   ]
  },
  {
   "cell_type": "markdown",
   "metadata": {},
   "source": [
    "# Proposed Solution\n",
    "\n",
    "Our proposed solution to predicting whether individuals get approved for a credit card and understanding what variables play a role in making that decision is to use classifiers based on the techniques we’ve learnt in class. \n",
    "First, we will use k-fold validation to determine our model of choice by validating over logistic classifiers/ regression, naive Bayes, Linear SVM, kernel ridge regression with l1, l2, and elastic net penalty. We will choose the model that gives us the highest accuracy score. \n",
    "\n",
    "We are using K-fold validation since with the train-validation-test model split we always run the issue of overfitting on the training data. K-fold validation instead trains and evaluates on all available data by splitting the data amongst each fold training on that and testing on the rest. \n",
    "\n",
    "We are using logistic classifiers/ regression, naive Bayes, Linear SVM, and kernel ridge regression since they are machine learning classifiers. Our proposed problem is to predict whether to approve a credit card for an applicant based on a variety of factors that were asked on their application. This is a yes or no question which makes it a binary classification task. As a result, it makes a lot of sense to use machine learning classification algorithms that can also be used to solve binary classification problems like the algorithms above. We are using these specific algorithms since we are familiar with these algorithms and understand how to run and evaluate them effectively. Furthermore, we use L1, L2, and elasticnet penalty on kernel ridge regression since these are regularization terms that will curb overfitting and make generalization better. \n",
    "\n",
    "With the chosen model we will validate across parameters. In the case of logistic regression, we will validate over the values of C = [0.01, 0.1, 1, 10, 100] to find our best model. \n",
    "For Naive Bayes, we will validate over Gaussian Naive Bayes and Multinomial Naive Bayes and choose our alpha from the following values - [0.01,0.05, 0.1, 0.2, 0.25].\n",
    "\n",
    "For Linear SVM, we will validate over different kernel functions - 'linear', 'poly', 'rbf', and 'sigmoid' and we will choose over values of C = [0.01, 0.1, 1, 10, 100] to find the best model. \n",
    "\n",
    "For Kernel Ridge, we will validate over the following values of alpha - [0.01, 0.1, 1.0, 10.0, 100.0], the kernel functions of linear, polynomial, and RBF and related kernel-specific parameters.\n",
    "\n",
    "Our extensive search over the models and their parameters will make our classification model accurate. As our dataset is not super large, we are not as concerned about computational efficiency - something to improve on while expanding on the project. \n",
    "\n",
    "We will finally train our model and test it to see its accuracy and compare it to existing models available on Kaggle to compare our performance. We will set up a confusion matrix to see how the model fares and plot the ROC/AUC. \n"
   ]
  },
  {
   "attachments": {
    "Screen%20Shot%202023-03-22%20at%207.10.23%20PM.png": {
     "image/png": "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"
    }
   },
   "cell_type": "markdown",
   "metadata": {},
   "source": [
    "# Evaluation Metrics\n",
    "\n",
    "We will use both precision and recall metrics to evaluate our model as both false negatives and false positives are of significant concern to our model. A credit card company would need to maximize eligible customers to increase revenue by minimizing the number of false negatives and also would need to minimize the number of individuals who may default to cut losses hence minimizing the false positives. Since neither one of the metrics is more important to our model, we will additionally use the f1 score which incorporates both precision and recall to finally measure the performance of our model. \n",
    "\n",
    "![Screen%20Shot%202023-03-22%20at%207.10.23%20PM.png](attachment:Screen%20Shot%202023-03-22%20at%207.10.23%20PM.png)\n"
   ]
  },
  {
   "attachments": {
    "image.png": {
     "image/png": "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"
    }
   },
   "cell_type": "markdown",
   "metadata": {},
   "source": [
    "# Results\n",
    "\n",
<<<<<<< HEAD
    "After cleaning and balancing our dataset,we proceed to train and validate our data on the training set using reapeated KFold crossvalidation where K = 5."
=======
    "After cleaning and balancing our dataset,we proceed to train and validate our data on the training set using repeated KFold crossvalidation where K=5. We choose repeated K-Fold(5X5) over 25 fold as it provides less variance and higher accuracy as seen by the graph below.\n",
    "\n",
    "\n",
    "![image.png](attachment:image.png)"
>>>>>>> 4e0a6fe72b8c19ccbaec5590a7a79540217f15a0
   ]
  },
  {
   "cell_type": "markdown",
   "metadata": {},
   "source": [
    "The code below is the baseline model we created where applicants with income higher than median income of the dataset get approved for the credit card."
   ]
  },
  {
   "cell_type": "code",
   "execution_count": null,
   "metadata": {},
   "outputs": [],
   "source": [
    "train_income_mean = X_train['Total_Income'].mean()\n",
    "\n",
    "\n",
    "Baseline = [1 if i >= train_income_mean else 0 for i in X_train['Total_Income']]\n",
    "X_train['prediction'] = Baseline\n",
    "\n",
    "\n",
    "y_true_num = list(y_train)\n",
    "y_pred_num = list(X_train['prediction'])\n",
    "\n",
    "fp = 0\n",
    "tp = 0\n",
    "fn = 0\n",
    "tn = 0\n",
    "\n",
    "tpPoints = []\n",
    "xTp = []\n",
    "fpPoints = []\n",
    "xFp = []\n",
    "fnPoints = []\n",
    "xFn = []\n",
    "tnPoints = []\n",
    "xTn = []\n",
    "\n",
    "for i in range (len(y_true_num)):\n",
    "    if y_true_num[i] == 1 and y_pred_num[i] == 1:\n",
    "        tp += 1\n",
    "        tpPoints.append(credit['Total_Income'].iloc[i])\n",
    "        xTp.append(i)\n",
    "        #tpPoints.append(credits['Total_Income'][i]) #fix this doesnt make sense\n",
    "    if y_true_num[i] == 0 and y_pred_num[i] == 1:\n",
    "        fp += 1\n",
    "        fpPoints.append(credit['Total_Income'].iloc[i])\n",
    "        xFp.append(i)\n",
    "        #fpPoints.append(y_true_)\n",
    "    if y_true_num[i] == 1 and y_pred_num[i] == 0:\n",
    "        fn += 1\n",
    "        fnPoints.append(credit['Total_Income'].iloc[i])\n",
    "        xFn.append(i)\n",
    "    if y_true_num[i] == 0 and y_pred_num[i] == 0:\n",
    "        tn += 1\n",
    "        tnPoints.append(credit['Total_Income'].iloc[i])\n",
    "        xTn.append(i)\n",
    "        \n",
    "\n",
    "precision = float (tp) / float(tp + fp)\n",
    "recall = float(tp) / float(tp + fn)\n",
    "       \n",
    "print(\"Precision: \", precision)\n",
    "print()\n",
    "print(\"Recall: \", recall)\n",
    "print()\n",
    "print(\"False Positive: \", fp)\n",
    "print()\n",
    "print(\"False Negative: \", fn)\n",
    "print()\n",
    "f1 = 2*precision *recall / (precision + recall)\n",
    "print(\"F1 Score: \", f1)"
   ]
  },
  {
   "cell_type": "markdown",
   "metadata": {},
   "source": [
    "As we can see, the classfier fails to correctly predict positives very well and has an overall low accuracy and F1 score."
   ]
  },
  {
   "cell_type": "markdown",
   "metadata": {},
   "source": [
    "### Classifier 1 - Logistic Classifier"
   ]
  },
  {
   "cell_type": "markdown",
   "metadata": {},
   "source": [
    "#### Finding our best model \n",
    "\n",
    "Here are the pros and cons of each solver:\n",
    "\n",
    "'saga': This solver supports both L1 and L2 regularization and is capable of handling large datasets. It is recommended when the number of samples is significantly larger than the number of features. However, it may be slower than other solvers when the number of features is large.\n",
    "\n",
    "'lbfgs': This solver is recommended when the dataset is small or medium-sized. It is a limited-memory quasi-Newton method that uses a line search algorithm. It can handle both L1 and L2 regularization, but it may not be suitable for large datasets.\n",
    "\n",
    "'newton-cg': This solver is a quasi-Newton method that uses a Hessian matrix approximation. It can handle both L1 and L2 regularization, but it may not be suitable for large datasets.\n",
    "\n",
    "'sag': This solver is a stochastic gradient descent (SGD) algorithm. It is recommended when the dataset is large and cannot fit into memory. It is fast and can handle both L1 and L2 regularization. However, it may not converge as fast as other solvers.\n",
    "\n",
    "'newton-cholesky': This solver is a quasi-Newton method that uses a Cholesky decomposition to compute the inverse of the Hessian matrix. It can handle both L1 and L2 regularization, but it may not be suitable for large datasets.\n",
    "\n",
    "'liblinear': This solver is a linear algorithm that uses a coordinate descent method. It is recommended when the dataset is small or medium-sized and the number of samples is greater than the number of features. It can only handle L1 regularization.\n",
    "\n",
    "\n",
    "C values: smaller c-value is equal to greater generalization (simpler model) and stronger regularization\n",
    "but maybe too much while larger could mean greater overfitting (more complex model) and weaker regularization\n",
    "\n",
    "# @Shenova\n",
    "The two penalties I will leave to u to write about:\n"
   ]
  },
  {
   "cell_type": "code",
   "execution_count": null,
   "metadata": {},
   "outputs": [],
   "source": [
    "from sklearn.compose import ColumnTransformer\n",
    "from sklearn.compose import make_column_selector as selector\n",
    "from sklearn.preprocessing import OneHotEncoder, StandardScaler\n",
    "from sklearn.pipeline import Pipeline\n",
    "from sklearn.linear_model import LogisticRegression\n",
    "from sklearn.model_selection import train_test_split, GridSearchCV\n",
    "\n",
    "numerical_columns_selector = selector(dtype_exclude=object)\n",
    "categorical_columns_selector = selector(dtype_include=object)\n",
    "\n",
    "numerical_columns = numerical_columns_selector(X_res)\n",
    "categorical_columns = categorical_columns_selector(X_res)\n",
    "\n",
    "onehot = OneHotEncoder()\n",
    "scaler = StandardScaler()\n",
    "\n",
    "preprocessor = ColumnTransformer([\n",
    "    ('onehot', onehot, categorical_columns),\n",
    "    ('zscore', scaler, numerical_columns)])\n",
    "\n",
    "\n",
    "# Create a pipeline \n",
    "pipe = Pipeline([('make_features', preprocessor),\n",
    "                 ('classifier', LogisticRegression(max_iter=10000))])\n",
    "\n",
    "search_space = {'classifier__C': np.logspace(-4, 4, 9),\n",
    "               'classifier__penalty': ['l2', 'l1', 'elasticnet'],\n",
    "               'classifier__solver': ['saga', 'lbfgs', 'newton-cg', 'sag', 'newton-cholesky', 'liblinear']}\n",
    "\n",
    "# Create a grid search object to find the best model\n",
    "best_model = GridSearchCV(pipe, search_space, cv=5, verbose=2, n_jobs=-1)"
   ]
  },
  {
   "cell_type": "code",
   "execution_count": null,
   "metadata": {},
   "outputs": [],
   "source": [
    "\n",
    "# Fit grid search\n",
    "best_model.fit(X_res, y_res)"
   ]
  },
  {
   "cell_type": "markdown",
   "metadata": {},
   "source": [
    "### Results"
   ]
  },
  {
   "cell_type": "markdown",
   "metadata": {},
   "source": [
    "#### possible overfit as results are showing 1.0\n",
    "##need to paste "
   ]
  },
  {
   "cell_type": "code",
   "execution_count": null,
   "metadata": {},
   "outputs": [],
   "source": [
    "best_model.best_params_, best_model.best_score_ #maybe too good?"
   ]
  },
  {
   "cell_type": "markdown",
   "metadata": {},
   "source": [
    "Our Best model is Solver = 'lbfgs',  C = 1000.0,  PENALTY = l2, and accuracy of 100\n",
    "\n",
    "PASTE PICTURE OF OUTPUT"
   ]
  },
  {
   "cell_type": "markdown",
   "metadata": {},
   "source": [
    "### Classifier 2 - SVM"
   ]
  },
  {
   "cell_type": "markdown",
   "metadata": {},
   "source": [
    "'''\n",
    "We also need to explain why we choose svc rather than svm's other classifiers in sklearn\n",
    "\n",
    "\n",
    "'classifier__C': np.logspace(-4, 4, 9), <- just the usual C value stuff\n",
    "               'classifier__kernel': ['linear', 'rbf', 'sigmoid', 'poly'], <-\n",
    "        'linear': This kernel is a linear transformation that maps the data to a higher-dimensional \n",
    "        space using a linear function. It is suitable for linearly separable datasets and works well \n",
    "        when there are many features. The 'linear' kernel is computationally efficient and is less prone\n",
    "        to overfitting than other kernels. However, it may not work well on nonlinear datasets.\n",
    "\n",
    "        'rbf' (Radial basis function): This kernel is a popular choice for nonlinear datasets. \n",
    "        It maps the data to a high-dimensional feature space using a Gaussian function. \n",
    "        It can capture complex relationships between features and is very flexible. \n",
    "        However, the 'rbf' kernel can be sensitive to the choice of hyperparameters, such as the \n",
    "        width of the Gaussian function, and can overfit when the number of features is large.\n",
    "\n",
    "        'sigmoid': This kernel maps the data to a high-dimensional feature space using a sigmoid \n",
    "        function. It is suitable for problems that require a logistic function as a decision function.\n",
    "        However, the 'sigmoid' kernel is less popular than the other kernels and may not perform as \n",
    "        well on many datasets.\n",
    "\n",
    "        'poly' (Polynomial): This kernel maps the data to a high-dimensional feature space using \n",
    "        a polynomial function. It is suitable for datasets with nonlinear relationships between \n",
    "        features. However, the 'poly' kernel can be sensitive to the degree of the polynomial \n",
    "        and can overfit when the degree is too high. <- was the best before i had to refit the data not sure whats happening\n",
    "        rn\n",
    "               \n",
    "               \n",
    "               \n",
    "               \n",
    "               \n",
    "            'classifier__gamma': ['scale', 'auto', 0.1, 1, 10] <-Kernel coefficient for ‘rbf’, ‘poly’ and ‘sigmoid’.\n",
    "\n",
    "if gamma='scale' (default) is passed then it uses 1 / (n_features * X.var()) as value of gamma,\n",
    "\n",
    "if ‘auto’, uses 1 / n_features\n",
    "\n",
    "if float, must be non-negative.\n",
    "\n",
    "\n",
    "\n",
    "\n",
    "\n",
    "\n",
    "\n",
    "\n",
    "\n",
    "'''\n"
   ]
  },
  {
   "cell_type": "code",
   "execution_count": null,
   "metadata": {},
   "outputs": [],
   "source": [
    "\n",
    "from sklearn.compose import ColumnTransformer\n",
    "from sklearn.compose import make_column_selector as selector\n",
    "from sklearn.preprocessing import OneHotEncoder, StandardScaler\n",
    "from sklearn.pipeline import Pipeline\n",
    "from sklearn.svm import SVC\n",
    "from sklearn.model_selection import train_test_split, GridSearchCV\n",
    "\n",
    "numerical_columns_selector = selector(dtype_exclude=object)\n",
    "categorical_columns_selector = selector(dtype_include=object)\n",
    "\n",
    "numerical_columns = numerical_columns_selector(X_res)\n",
    "categorical_columns = categorical_columns_selector(X_res)\n",
    "\n",
    "onehot = OneHotEncoder()\n",
    "scaler = StandardScaler()\n",
    "\n",
    "preprocessor = ColumnTransformer([\n",
    "    ('onehot', onehot, categorical_columns),\n",
    "    ('zscore', scaler, numerical_columns)])\n",
    "\n",
    "\n",
    "# Create a pipeline \n",
    "pipe = Pipeline([('make_features', preprocessor),\n",
    "                 ('classifier', SVC())])\n",
    "\n",
    "# Create search space of hyperparameters\n",
    "# the variable namespace looks like this\n",
    "# pipe.classifier.C is represented as 'classifier__C'\n",
    "# if we'd just chucked a LogisticRegression() in as the model\n",
    "# instead of a pipe, then we'd only have had 'C' w/o the 'classifier__' bit \n",
    "search_space = {'classifier__C': np.logspace(-4, 4, 9),\n",
    "               'classifier__kernel': ['linear', 'rbf', 'sigmoid', 'poly'],\n",
    "               'classifier__gamma': ['scale', 'auto', 0.1, 1, 10]}\n",
    "\n",
    "# Create a grid search object to find the best model\n",
    "best_model = GridSearchCV(pipe, search_space, cv=5, verbose=3, n_jobs=-1) #idk why the verbose isnt showing for me anymore\n",
    "#it just runs\n"
   ]
  },
  {
   "cell_type": "code",
   "execution_count": null,
   "metadata": {},
   "outputs": [],
   "source": [
    "#FITTING OUR BEST MODEL \n",
    "#FINDING THE BEST ACCUARACY \n",
    "\n",
    "best_model.fit(X_res, y_res)"
   ]
  },
  {
   "cell_type": "code",
   "execution_count": null,
   "metadata": {},
   "outputs": [],
   "source": [
    "best_model.best_params_, best_model.best_score_"
   ]
  },
  {
   "cell_type": "markdown",
   "metadata": {},
   "source": [
    "### Results"
   ]
  },
  {
   "cell_type": "markdown",
   "metadata": {},
   "source": [
    "Our best model is ....\n",
    "\n",
    "PASTE RESULTS"
   ]
  },
  {
   "cell_type": "markdown",
   "metadata": {},
   "source": [
    "### Classifier 3 - Naive Bayes"
   ]
  },
  {
   "cell_type": "markdown",
   "metadata": {},
   "source": [
    "Naive bayes has no hyperparameter so just explain naive bayes itself"
   ]
  },
  {
   "cell_type": "code",
   "execution_count": null,
   "metadata": {},
   "outputs": [],
   "source": [
    "from sklearn.naive_bayes import GaussianNB\n",
    "from sklearn.compose import ColumnTransformer\n",
    "from sklearn.compose import make_column_selector as selector\n",
    "from sklearn.preprocessing import OneHotEncoder, StandardScaler\n",
    "from sklearn.pipeline import Pipeline\n",
    "from sklearn.model_selection import train_test_split, GridSearchCV\n",
    "\n",
    "# Define numerical and categorical column selectors\n",
    "numerical_columns_selector = selector(dtype_exclude=object)\n",
    "categorical_columns_selector = selector(dtype_include=object)\n",
    "\n",
    "# Get numerical and categorical column names\n",
    "numerical_columns = numerical_columns_selector(X_res)\n",
    "categorical_columns = categorical_columns_selector(X_res)\n",
    "\n",
    "# Define one-hot encoder and scaler\n",
    "onehot = OneHotEncoder()\n",
    "scaler = StandardScaler()\n",
    "\n",
    "# Define preprocessor\n",
    "preprocessor = ColumnTransformer([\n",
    "    ('onehot', onehot, categorical_columns),\n",
    "    ('zscore', scaler, numerical_columns)\n",
    "])\n",
    "\n",
    "# Create a pipeline \n",
    "pipe = Pipeline([\n",
    "    ('make_features', preprocessor),\n",
    "    ('classifier', GaussianNB())\n",
    "])\n",
    "\n",
    "# Create search space of hyperparameters\n",
    "search_space = {}\n",
    "\n",
    "# Create a grid search object to find the best model\n",
    "best_model = GridSearchCV(pipe, search_space, cv=5, verbose=3, n_jobs = -1)"
   ]
  },
  {
   "cell_type": "code",
   "execution_count": null,
   "metadata": {},
   "outputs": [],
   "source": [
    "# Fit grid search\n",
    "best_model.fit(X_res, y_res)"
   ]
  },
  {
   "cell_type": "code",
   "execution_count": null,
   "metadata": {},
   "outputs": [],
   "source": [
    "best_model.best_params_, best_model.best_score_"
   ]
  },
  {
   "cell_type": "markdown",
   "metadata": {},
   "source": [
    "### Results"
   ]
  },
  {
   "cell_type": "markdown",
   "metadata": {},
   "source": [
    "Our best model is ....\n",
    "\n",
    "PASTE RESULTS"
   ]
  },
  {
   "cell_type": "markdown",
   "metadata": {},
   "source": [
    "### Classifier 4 - KNN"
   ]
  },
  {
   "cell_type": "markdown",
   "metadata": {},
   "source": [
    "the weights are quite literally that uniform is just 1/n and distance values the closer the neighbors \n",
    "the more value it willhave\n",
    "\n",
    "finally the algorithms: \n",
    "'auto': This is the default algorithm, which selects the most appropriate algorithm \n",
    "based on the characteristics of the data. It is a good choice for most datasets.\n",
    "\n",
    "Pros:\n",
    "\n",
    "Automatic selection of the best algorithm based on the input data.\n",
    "Suitable for most datasets.\n",
    "Cons:\n",
    "\n",
    "None.\n",
    "\n",
    "\n",
    "'ball_tree': This algorithm constructs a ball tree data structure to find the nearest \n",
    "neighbors. It is a good choice when the number of features is large compared to the number of samples. #not good for ours\n",
    "\n",
    "Pros:\n",
    "\n",
    "Efficient for high-dimensional datasets.\n",
    "Can be faster than brute force algorithm for some datasets.\n",
    "Cons:\n",
    "\n",
    "Slower than brute force algorithm for low-dimensional datasets. Memory-intensive.\n",
    "\n",
    "\n",
    "'kd_tree': This algorithm constructs a kd-tree data structure to find the nearest neighbors. \n",
    "It is a good choice when the number of features is small compared to the number of samples. #good for ours\n",
    "\n",
    "Pros:\n",
    "\n",
    "Efficient for low-dimensional datasets.\n",
    "Can be faster than brute force algorithm for some datasets.\n",
    "Cons:\n",
    "\n",
    "Slower than brute force algorithm for high-dimensional datasets.\n",
    "Memory-intensive.\n",
    "\n",
    "\n",
    "'brute': This algorithm computes the distances between all pairs of points in the dataset to find the nearest\n",
    "neighbors. It is a good choice for small datasets. #ok for ours i think kd-tree is better\n",
    "\n",
    "Pros:\n",
    "\n",
    "Simple and easy to understand.\n",
    "Suitable for small datasets.\n",
    "Cons:\n",
    "\n",
    "Slow and inefficient for large datasets. Memory-intensive.\n",
    "\n",
    "In general, the choice of algorithm depends on the size and characteristics of the dataset. \n",
    "If the number of features is large, ball tree algorithm may be a good choice, whereas if the number of samples is small and the number of features is low, kd-tree algorithm may be a good choice. If the dataset is small, brute force algorithm may be a good choice. The auto option can be a good\n"
   ]
  },
  {
   "cell_type": "code",
   "execution_count": null,
   "metadata": {},
   "outputs": [],
   "source": [
    "from sklearn.neighbors import KNeighborsClassifier\n",
    "from sklearn.compose import ColumnTransformer\n",
    "from sklearn.compose import make_column_selector as selector\n",
    "from sklearn.preprocessing import OneHotEncoder, StandardScaler\n",
    "from sklearn.pipeline import Pipeline\n",
    "from sklearn.model_selection import train_test_split, GridSearchCV\n",
    "\n",
    "# Define numerical and categorical column selectors\n",
    "numerical_columns_selector = selector(dtype_exclude=object)\n",
    "categorical_columns_selector = selector(dtype_include=object)\n",
    "\n",
    "# Get numerical and categorical column names\n",
    "numerical_columns = numerical_columns_selector(X_res)\n",
    "categorical_columns = categorical_columns_selector(X_res)\n",
    "\n",
    "# Define one-hot encoder and scaler\n",
    "onehot = OneHotEncoder()\n",
    "scaler = StandardScaler()\n",
    "\n",
    "# Define preprocessor\n",
    "preprocessor = ColumnTransformer([\n",
    "    ('onehot', onehot, categorical_columns),\n",
    "    ('zscore', scaler, numerical_columns)\n",
    "])\n",
    "\n",
    "# Create a pipeline \n",
    "pipe = Pipeline([\n",
    "    ('make_features', preprocessor),\n",
    "    ('classifier', KNeighborsClassifier())\n",
    "])\n",
    "\n",
    "# Create search space of hyperparameters\n",
    "search_space = {\n",
    "    'classifier__n_neighbors': range(1, 31),\n",
    "    'classifier__weights': ['uniform', 'distance'],\n",
    "    'classifier__algorithm': ['auto', 'ball_tree', 'kd_tree', 'brute']\n",
    "}\n",
    "\n",
    "# Create a grid search object to find the best model\n",
    "best_model = GridSearchCV(pipe, search_space, cv=5, verbose=3, n_jobs = -1)\n"
   ]
  },
  {
   "cell_type": "code",
   "execution_count": null,
   "metadata": {},
   "outputs": [],
   "source": [
    "best_model.fit(X_res, y_res)"
   ]
  },
  {
   "cell_type": "code",
   "execution_count": null,
   "metadata": {},
   "outputs": [],
   "source": [
    "best_model.best_params_, best_model.best_score_"
   ]
  },
  {
   "cell_type": "markdown",
   "metadata": {},
   "source": [
    "### Results\n",
    "\n",
    "Our best model is ....\n",
    "\n",
    "PASTE RESULTS"
   ]
  },
  {
   "cell_type": "markdown",
   "metadata": {},
   "source": [
    "### Classifier 5 - Kernel Ridge"
   ]
  },
  {
   "cell_type": "markdown",
   "metadata": {},
   "source": [
    "We covered the kernel values here \n",
    "\n",
    "the gamma value  determines the inverse of the width of the kernel function, \n",
    "which in turn affects the degree of smoothing of the resulting regression function.\n",
    "\n",
    "The 'scale' value of the regressor__gamma hyperparameter specifies \n",
    "that gamma should be set to 1 / (n_features * X.var()), where n_features is \n",
    "the number of features in the input data X. This is equivalent to scaling each feature \n",
    "to have unit variance before computing gamma.\n",
    "\n",
    "The 'auto' value of regressor__gamma specifies that gamma should be set to 1 / n_features. \n",
    "This is equivalent to using the median of the distances between all pairs of points in the \n",
    "input data X to set the scale of the kernel function.\n",
    "\n",
    "Finally the alpha value a lower value like 0.001 means weak regularization and more complex model\n",
    "with greater overfittign and vice versa for values like a 1000"
   ]
  },
  {
   "cell_type": "code",
   "execution_count": null,
   "metadata": {},
   "outputs": [],
   "source": [
    "from sklearn.kernel_ridge import KernelRidge\n",
    "from sklearn.compose import ColumnTransformer\n",
    "from sklearn.compose import make_column_selector as selector\n",
    "from sklearn.preprocessing import OneHotEncoder, StandardScaler\n",
    "from sklearn.pipeline import Pipeline\n",
    "from sklearn.model_selection import train_test_split, GridSearchCV\n",
    "\n",
    "# Define numerical and categorical column selectors\n",
    "numerical_columns_selector = selector(dtype_exclude=object)\n",
    "categorical_columns_selector = selector(dtype_include=object)\n",
    "\n",
    "# Get numerical and categorical column names\n",
    "numerical_columns = numerical_columns_selector(X_res)\n",
    "categorical_columns = categorical_columns_selector(X_res)\n",
    "\n",
    "# Define one-hot encoder and scaler\n",
    "onehot = OneHotEncoder()\n",
    "scaler = StandardScaler()\n",
    "\n",
    "# Define preprocessor\n",
    "preprocessor = ColumnTransformer([\n",
    "    ('onehot', onehot, categorical_columns),\n",
    "    ('zscore', scaler, numerical_columns)\n",
    "])\n",
    "\n",
    "# Create a pipeline \n",
    "pipe = Pipeline([\n",
    "    ('make_features', preprocessor),\n",
    "    ('regressor', KernelRidge())\n",
    "])\n",
    "\n",
    "# Create search space of hyperparameters\n",
    "search_space = {\n",
    "    'regressor__alpha': [0.1, 1, 10],\n",
    "    'regressor__kernel': ['linear', 'rbf', 'polynomial'],\n",
    "    'regressor__gamma': ['scale', 'auto']\n",
    "}\n",
    "\n",
    "# Create a grid search object to find the best model\n",
    "best_model = GridSearchCV(pipe, search_space, cv=5, verbose=3, n_jobs = -1)\n"
   ]
  },
  {
   "cell_type": "code",
   "execution_count": null,
   "metadata": {},
   "outputs": [],
   "source": [
    "#FITTING OUR BEST MODEL \n",
    "#FINDING THE BEST ACCUARACY \n",
    "#why are we splitting again here? shouldnt we fit on res anyways\n",
    "\n",
    "\n",
    "# Fit grid search\n",
    "\n",
    "best_model.fit(X_res, y_res)"
   ]
  },
  {
   "cell_type": "code",
   "execution_count": null,
   "metadata": {},
   "outputs": [],
   "source": [
    "\n",
    "best_model.best_params_, best_model.best_score_\n",
    "\n",
    "#this method doesnt run well since it takes up too much ram about 7.5 gb of ram and thus isnt possible to do with our systems"
   ]
  },
  {
   "cell_type": "markdown",
   "metadata": {},
   "source": [
    "Results"
   ]
  },
  {
   "cell_type": "markdown",
   "metadata": {},
   "source": [
    "### Classifier 6 - Ensemble(AdaBoost)"
   ]
  },
  {
   "cell_type": "code",
   "execution_count": null,
   "metadata": {},
   "outputs": [],
   "source": [
    "from sklearn.ensemble import RandomForestClassifier\n",
    "from sklearn.compose import ColumnTransformer\n",
    "from sklearn.compose import make_column_selector as selector\n",
    "from sklearn.preprocessing import OneHotEncoder, StandardScaler\n",
    "from sklearn.pipeline import Pipeline\n",
    "from sklearn.model_selection import train_test_split, GridSearchCV\n",
    "\n",
    "# Define numerical and categorical column selectors\n",
    "numerical_columns_selector = selector(dtype_exclude=object)\n",
    "categorical_columns_selector = selector(dtype_include=object)\n",
    "\n",
    "# Get numerical and categorical column names\n",
    "numerical_columns = numerical_columns_selector(X_res)\n",
    "categorical_columns = categorical_columns_selector(X_res)\n",
    "\n",
    "# Define one-hot encoder and scaler\n",
    "onehot = OneHotEncoder()\n",
    "scaler = StandardScaler()\n",
    "\n",
    "# Define preprocessor\n",
    "preprocessor = ColumnTransformer([\n",
    "    ('onehot', onehot, categorical_columns),\n",
    "    ('zscore', scaler, numerical_columns)\n",
    "])\n",
    "\n",
    "# Create a pipeline \n",
    "pipe = Pipeline([\n",
    "    ('make_features', preprocessor),\n",
    "    ('classifier', AdaBoostClassifier())\n",
    "])\n",
    "\n",
    "# Create search space of hyperparameters\n",
    "search_space = {\n",
    "    'classifier__n_estimators': [50, 100, 150, 200],\n",
    "    'classifier__learning_rate': [0.01, 0.1, 1, 10],\n",
    "    'classifier__algorithm': ['SAMME', 'SAMME.R']\n",
    "}\n",
    "\n",
    "# Create a grid search object to find the best model\n",
    "best_model = GridSearchCV(pipe, search_space, cv=5, verbose=3, n_jobs = -1)\n"
   ]
  },
  {
   "cell_type": "code",
   "execution_count": null,
   "metadata": {},
   "outputs": [],
   "source": [
    "%%timeit\n",
    "#FITTING OUR BEST MODEL \n",
    "#FINDING THE BEST ACCUARACY \n",
    "#why are we splitting again here? shouldnt we fit on res anyways\n",
    "\n",
    "\n",
    "# Fit grid search\n",
    "best_model.fit(X_res, y_res)"
   ]
  },
  {
   "cell_type": "code",
   "execution_count": null,
   "metadata": {},
   "outputs": [],
   "source": [
    "best_model.best_params_, best_model.best_score_"
   ]
  },
  {
   "cell_type": "markdown",
   "metadata": {},
   "source": [
    "#### Results"
   ]
  },
  {
   "cell_type": "markdown",
   "metadata": {},
   "source": [
    "### Classifier 7 - Ensemble(Gradient tree boosting)"
   ]
  },
  {
   "cell_type": "markdown",
   "metadata": {},
   "source": [
    "estimators and learning rate i covered above\n",
    "and since its a tree we know what the depth, leaves, and split  means as well\n",
    "only the max features are left:\n",
    "\n",
    "The max_features parameter in gradient tree boosting determines the maximum number of \n",
    "features to consider when looking for the best split at each node. Here are some pros \n",
    "and cons of using different options for this parameter:\n",
    "\n",
    "Pros of 'auto':\n",
    "\n",
    "Default value for this parameter\n",
    "Results in a good balance between bias and variance\n",
    "Can help avoid overfitting by limiting the number of features considered\n",
    "Cons of 'auto':\n",
    "\n",
    "May not always select the most informative features\n",
    "May result in a slightly higher bias than other options\n",
    "Pros of 'sqrt':\n",
    "\n",
    "Generally results in a lower bias than 'auto'\n",
    "Limits the number of features considered, helping to avoid overfitting\n",
    "Cons of 'sqrt':\n",
    "\n",
    "May not always select the most informative features\n",
    "May result in a slightly higher variance than 'auto'\n",
    "Pros of 'log2':\n",
    "\n",
    "Similar to 'sqrt', but may result in an even lower bias\n",
    "Limits the number of features considered, helping to avoid overfitting\n",
    "Cons of 'log2':\n",
    "\n",
    "May not always select the most informative features\n",
    "May result in a slightly higher variance than 'auto' or 'sqrt'\n",
    "Overall, the choice of max_features depends on the specific problem and dataset\n",
    "being analyzed. In general, it is a good idea to try out multiple options\n",
    "and see which one performs best through cross-validation.\n"
   ]
  },
  {
   "cell_type": "code",
   "execution_count": null,
   "metadata": {},
   "outputs": [],
   "source": [
    "from sklearn.ensemble import GradientBoostingClassifier\n",
    "from sklearn.compose import ColumnTransformer\n",
    "from sklearn.compose import make_column_selector as selector\n",
    "from sklearn.preprocessing import OneHotEncoder, StandardScaler\n",
    "from sklearn.pipeline import Pipeline\n",
    "from sklearn.model_selection import train_test_split, GridSearchCV\n",
    "\n",
    "# Define numerical and categorical column selectors\n",
    "numerical_columns_selector = selector(dtype_exclude=object)\n",
    "categorical_columns_selector = selector(dtype_include=object)\n",
    "\n",
    "# Get numerical and categorical column names\n",
    "numerical_columns = numerical_columns_selector(X_res)\n",
    "categorical_columns = categorical_columns_selector(X_res)\n",
    "\n",
    "# Define one-hot encoder and scaler\n",
    "onehot = OneHotEncoder()\n",
    "scaler = StandardScaler()\n",
    "\n",
    "# Define preprocessor\n",
    "preprocessor = ColumnTransformer([\n",
    "    ('onehot', onehot, categorical_columns),\n",
    "    ('zscore', scaler, numerical_columns)\n",
    "])\n",
    "\n",
    "# Create a pipeline \n",
    "pipe = Pipeline([\n",
    "    ('make_features', preprocessor),\n",
    "    ('classifier', GradientBoostingClassifier())\n",
    "])\n",
    "\n",
    "# Create search space of hyperparameters\n",
    "search_space = {\n",
    "    'classifier__n_estimators': [50, 100, 150, 200],\n",
    "    'classifier__learning_rate': [0.01, 0.1, 1, 10],\n",
    "    'classifier__max_depth': [3, 5, 7],\n",
    "    'classifier__min_samples_split': [2, 5, 10],\n",
    "    'classifier__min_samples_leaf': [1, 2, 4],\n",
    "    'classifier__max_features': ['auto', 'sqrt', 'log2']\n",
    "}\n",
    "\n",
    "# Create a grid search object to find the best model\n",
    "best_model = GridSearchCV(pipe, search_space, cv=5, verbose=3, n_jobs = -1)\n"
   ]
  },
  {
   "cell_type": "code",
   "execution_count": null,
   "metadata": {},
   "outputs": [],
   "source": [
    "%%timeit\n",
    "\n",
    "#FITTING OUR BEST MODEL \n",
    "#FINDING THE BEST ACCUARACY \n",
    "#why are we splitting again here? shouldnt we fit on res anyways\n",
    "\n",
    "\n",
    "# Fit grid search\n",
    "\n",
    "best_model.fit(X_res, y_res)"
   ]
  },
  {
   "cell_type": "code",
   "execution_count": null,
   "metadata": {},
   "outputs": [],
   "source": [
    "best_model.best_params_, best_model.best_score_"
   ]
  },
  {
   "cell_type": "markdown",
   "metadata": {},
   "source": [
    "### Classifier 8 - Random Forest"
   ]
  },
  {
   "cell_type": "code",
   "execution_count": null,
   "metadata": {},
   "outputs": [],
   "source": [
    "rom sklearn.ensemble import RandomForestClassifier\n",
    "from sklearn.compose import ColumnTransformer\n",
    "from sklearn.compose import make_column_selector as selector\n",
    "from sklearn.preprocessing import OneHotEncoder, StandardScaler\n",
    "from sklearn.pipeline import Pipeline\n",
    "from sklearn.model_selection import train_test_split, GridSearchCV\n",
    "\n",
    "# Define numerical and categorical column selectors\n",
    "numerical_columns_selector = selector(dtype_exclude=object)\n",
    "categorical_columns_selector = selector(dtype_include=object)\n",
    "\n",
    "# Get numerical and categorical column names\n",
    "numerical_columns = numerical_columns_selector(X_res)\n",
    "categorical_columns = categorical_columns_selector(X_res)\n",
    "\n",
    "# Define one-hot encoder and scaler\n",
    "onehot = OneHotEncoder()\n",
    "scaler = StandardScaler()\n",
    "\n",
    "# Define preprocessor\n",
    "preprocessor = ColumnTransformer([\n",
    "    ('onehot', onehot, categorical_columns),\n",
    "    ('zscore', scaler, numerical_columns)\n",
    "])\n",
    "\n",
    "# Create a pipeline \n",
    "pipe = Pipeline([\n",
    "    ('make_features', preprocessor),\n",
    "    ('classifier', RandomForestClassifier())\n",
    "])\n",
    "\n",
    "# Create search space of hyperparameters\n",
    "search_space = {\n",
    "    'classifier__n_estimators': [50, 100, 150, 200],\n",
    "    'classifier__criterion': ['gini', 'entropy'],\n",
    "    'classifier__max_depth': [3, 5, 7, None],\n",
    "    'classifier__min_samples_split': [2, 5, 10],\n",
    "    'classifier__min_samples_leaf': [1, 2, 4],\n",
    "    'classifier__max_features': ['auto', 'sqrt', 'log2']\n",
    "}\n",
    "\n",
    "# Create a grid search object to find the best model\n",
    "best_model = GridSearchCV(pipe, search_space, cv=5, verbose=3, n_jobs = -1)\n"
   ]
  },
  {
   "cell_type": "code",
   "execution_count": null,
   "metadata": {},
   "outputs": [],
   "source": [
    "#FITTING OUR BEST MODEL \n",
    "#FINDING THE BEST ACCUARACY \n",
    "#why are we splitting again here? shouldnt we fit on res anyways\n",
    "\n",
    "\n",
    "# Fit grid search\n",
    "best_model.fit(X_res, y_res)"
   ]
  },
  {
   "cell_type": "code",
   "execution_count": null,
   "metadata": {},
   "outputs": [],
   "source": [
    "best_model.best_params_, best_model.best_score_"
   ]
  },
  {
   "cell_type": "markdown",
   "metadata": {},
   "source": [
    "## Final testing\n",
    "Pick best model and run on test data"
   ]
  },
  {
   "cell_type": "markdown",
   "metadata": {},
   "source": [
    "# @Neil - can you choose the best model and run it on the test data and paste the results"
   ]
  },
  {
   "cell_type": "markdown",
   "metadata": {},
   "source": [
    "# Discussion\n",
    "\n",
    "### Interpreting the result\n",
    "\n",
    "OK, you've given us quite a bit of tech informaiton above, now its time to tell us what to pay attention to in all that.  Think clearly about your results, decide on one main point and 2-4 secondary points you want us to understand. Highlight HOW your results support those points.  You probably want 2-5 sentences per point.\n",
    "\n",
    "### Limitations\n",
    "\n",
    "Are there any problems with the work?  For instance would more data change the nature of the problem? Would it be good to explore more hyperparams than you had time for?   \n",
    "\n",
    "### Ethics & Privacy\n",
    "\n",
    "We referenced the ethics checklist at https://deon.drivendata.org. We have no knowledge of the data collection process since we are using a publicly available dataset at Kaggle, however, we do know that no names are part of the dataset since each applicant was identified by their  ID which protects them. One of the ethical issues with this data is that some information such as the name and date of birth can be identifiable,even though this data set has omitted such private information by using unidentifiable id numbers and age instead of the date of birth.  We haven’t gotten towards the modeling or the deployment therefore we can’t answer the ethics of these two yet. However, basing off of our base model we see that false negatives are a large ethical concern for us as many individuals are considered ineligible by just comparing income. Making our model robust with other economic and credit-worthy factors such as car and home ownership as well as number of family members can help predict individuals who can pay off credit debt more accurately. This ethical corncern will get addressed once a more robust and complex model is in place which takes many factors into account. We will continue to monitor this concern within our model by tracking false positivity rates more closely. Additionally, one confounding variable that could impact our data is race. This variable could possibly be biasing our data, however this variable is not tracked within our dataset hence it is difficult to evaluate whether it is biasing our data and hence biaisng our model. This can be resolved if our model is implemented and trained on data which tracks racial characteristics to further understand the bias.\n",
    "\n",
    "\n",
    "### Conclusion\n",
    "\n",
    "Reiterate your main point and in just a few sentences tell us how your results support it. Mention how this work would fit in the background/context of other work in this field if you can. Suggest directions for future work if you want to."
   ]
  },
  {
   "cell_type": "markdown",
   "metadata": {},
   "source": [
    "# Footnotes\n",
    "<a name=\"lorenznote\"></a>1.[^](#lorenz): Hemkiran, S., et al. “Design of Automatic Credit Card Approval System Using Machine Learning.” SpringerLink, Springer Singapore, 1 Jan. 1970, https://link.springer.com/chapter/10.1007/978-981-16-6448-9_1. <br> \n",
    "<a name=\"admonishnote\"></a>2.[^](#admonish): Kibria, Golam, and Mehmet Sevkli. “Application of Deep Learning for Credit Card Approval: A Comparison ...” Application of Deep Learning for Credit Card Approval: A Comparison with Two Machine Learning Techniques, https://www.researchgate.net/profile/Md-Kibria-12/publication/348755769_Application_of_Deep_Learning_for_Credit_Card_Approval_A_Comparison_with_Two_Machine_Learning_Techniques/links/600f495f92851c13fe39bb38/Application-of-Deep-Learning-for-Credit-Card-Approval-A-Comparison-with-Two-Machine-Learning-Techniques.pdf?origin=publication_detail. <br>\n",
    "<a name=\"sotanote\"></a>3.[^](#sota):Markova, Maya. “Credit Card Approval Model: An Application of Deep Neural Networks.” AIP Publishing, AIP Publishing LLC AIP Publishing, 24 Feb. 2021, https://aip.scitation.org/doi/abs/10.1063/5.0040744?journalCode=apc. \n"
   ]
  },
  {
   "cell_type": "code",
   "execution_count": null,
   "metadata": {},
   "outputs": [],
   "source": []
  }
 ],
 "metadata": {
  "kernelspec": {
   "display_name": "Python 3 (ipykernel)",
   "language": "python",
   "name": "python3"
  },
  "language_info": {
   "codemirror_mode": {
    "name": "ipython",
    "version": 3
   },
   "file_extension": ".py",
   "mimetype": "text/x-python",
   "name": "python",
   "nbconvert_exporter": "python",
   "pygments_lexer": "ipython3",
   "version": "3.9.13"
  }
 },
 "nbformat": 4,
 "nbformat_minor": 2
}
