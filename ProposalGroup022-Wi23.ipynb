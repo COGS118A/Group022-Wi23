{
 "cells": [
  {
   "cell_type": "markdown",
   "metadata": {},
   "source": [
    "# COGS 118A- Project Proposal"
   ]
  },
  {
   "cell_type": "markdown",
   "metadata": {},
   "source": [
    "# Names\n",
    "\n",
    "- Pratheek Sankeshi\n",
    "- Ria Singh\n",
    "- Neil Bajaj\n",
    "- Shenova Davis"
   ]
  },
  {
   "cell_type": "markdown",
   "metadata": {},
   "source": [
    "# Abstract \n",
    "\n",
    "The goal of this project is to predict whether to approve a credit card for an applicant based on a variety of factors that were asked on their application. We will predict using a machine learning algorithm. The data we will be using is from the kaggle dataset: A Credit Card Dataset for Machine Learning. The link is https://www.kaggle.com/datasets/caesarmario/application-data/. We will be using factors such as Total_Income, Education_Type, Applicant_Age, etc. More will be described in the data section. Furthermore, we will drop unused columns like Owned_Phone, Owned_Email, etc while also replacing null values to perform EDA. We will then run various supervised machine learning algorithms to create models to predict the data and use the best one. The performance will be measured on how accurately we predict the data against the status column of the data which is whether the application was approved or not. "
   ]
  },
  {
   "cell_type": "markdown",
   "metadata": {},
   "source": [
    "# Background\n",
    "\n",
    "As we get deeper into the age of Big Data, we see that where possible, we are attempting to move from human evaluation to machine learning prediction. There has also been an uptick in the number of credit card defaulters. Using this logic credit card companies need a new way to decide whether or not to approve credit cards based on prior history. We are attempting to create a machine learning predictive model that uses machine learning algorithms to predict whether or not the application has the right credentials to have their credit card application approved. This is to better avoid future credit card defaulters. Prior research that has gone into this topic includes attempts to use deep learning <a name=\"admonish\"></a>[<sup>[2]</sup>](#admonishnote) and Artifical Neural Networks<a name=\"lorenz\"></a>[<sup>[1]</sup>](#lorenznote). We will use models such as Naive Bayes Classifier, Linear SVM, Linear Regression which other research papers also use and  compare our model’s performance against these models to determine which works the best. "
   ]
  },
  {
   "cell_type": "markdown",
   "metadata": {},
   "source": [
    "# Problem Statement\n",
    "We are building this model to measure if there are any discrepancies when approving credit card applications. We additionally want to check if we could use big data to build a model that predicts if a credit card is approved or not, this would take out human bias from the equation and make sure every applicant’s application is fairly reviewed. If our model can accurately predict whether an application can be accepted, we could conclude our hypothesis. This problem is quantifiable since we are trying to model a binary predictor (yes/no). This problem is measurable because we would be using the metric of accuracy to validate the performance of our model. Lastly, our model is replicable because we could run it on different datasets and check its accuracy on each dataset. \n"
   ]
  },
  {
   "cell_type": "markdown",
   "metadata": {},
   "source": [
    "# Data\n",
    "\n",
    "- Link for our data: https://www.kaggle.com/datasets/caesarmario/application-data\n",
    "- This data set has about 25,100 observations with 21 variables. \n",
    "- The variables that will be used are Applicant Gender, Owned property, Total Children, Owned Car, Total Income, Housing Type, Total Family Members, Applicant Age, Education Type, and Family Status. \n",
    "- We will need to clean the data to remove any null and unknown values. \n"
   ]
  },
  {
   "cell_type": "markdown",
   "metadata": {},
   "source": [
    "# Proposed Solution\n",
    "\n",
    "Our proposed solution to predicting whether individuals get approved for a credit card and understanding what variables play a role in making that decision is to use classifiers based on the techniques we’ve learnt in class. \n",
    "First, we will use k fold validation to determine our model of choice by validating over logistic classifiers/ regression, naive Bayes, Linear SVM , kernel ridge regression with l1, l2, and elasticnet penalty. We will choose the model that gives us the highest accuracy score. \n",
    "\n",
    "\n",
    "With the chosen model we will validate across parameters. In the case of logistic regression we will validate over the values of C = [0.01, 0.1, 1, 10, 100] to find our best model. \n",
    "\n",
    "\n",
    "For Naive bayes, we will validate over Gaussian Naive Bayes and Multinomial Naive Bayes and choose our alpha from the following values - [0.01,0.05, 0.1, 0.2, 0.25].\n",
    "\n",
    "\n",
    "For Linear SVM, we will validate over different kernel functions - 'linear', 'poly', 'rbf', and 'sigmoid' and we will choose over values of C = [0.01, 0.1, 1, 10, 100] to find the best model. \n",
    "\n",
    "\n",
    "For Kernel Ridge, we will validate over the following values of alpha - [0.01, 0.1, 1.0, 10.0, 100.0], the kernel functions of linear, polynomial, and RBF and related kernel specific parameters.\n",
    "\n",
    "\n",
    "Our extensive search over the models and their parameters will make our classification model accurate. As our dataset is not super large, we are not as concerned about computational efficiency - something to improve on while expanding on the project. \n",
    "\n",
    "\n",
    "We will finally train our model and test it to see its accuracy and compare it to existing models available on Kaggle to compare our performance. We will set up a confusion matrix to see how the model fares and plot the ROC/AUC. \n"
   ]
  },
  {
   "cell_type": "markdown",
   "metadata": {},
   "source": [
    "# Evaluation Metrics\n",
    "\n",
    "The evaluation metric we would use to quantify the performance of our model would be accuracy. We would calculate accuracy by dividing the number of correct predictions by the total number of predictions we make (number of observations). Additionally, we could also use the evaluation metric of MSE (mean square error), which is calculated by the square root of the summation of the square of the difference between the observed and predicted values. We can also use balanced accuracy ((sensitivity + specificity)/2) to evaluate. "
   ]
  },
  {
   "cell_type": "markdown",
   "metadata": {},
   "source": [
    "# Ethics & Privacy"
   ]
  },
  {
   "cell_type": "markdown",
   "metadata": {},
   "source": [
    "We referenced the ethics checklist at https://deon.drivendata.org. We have no knowledge of the data collection process since we are using a publicly available dataset at Kaggle, however, we do know that no names are part of the dataset since each applicant was identified by their  ID which protects them. One of the ethical issues with this data is that some information such as the name and date of birth can be identifiable,even though this data set has omitted such private information by using unidentifiable id numbers and age instead of the date of birth.  We haven’t gotten towards the modeling or the deployment therefore we can’t answer the ethics of these two yet. Additionally, one confounding variable that could impact our data is race. This variable could possibly be biasing our data, however this variable is not taken into account in our dataset. If our training data has a racial bias that we are unaware of, it can affect the prediction our model makes and hence can cause issues if left uncorrected and deployed for real-world use.\n"
   ]
  },
  {
   "cell_type": "markdown",
   "metadata": {},
   "source": [
    "# Team Expectations "
   ]
  },
  {
   "cell_type": "markdown",
   "metadata": {},
   "source": [
    "\n",
    "- *We will communicate multiple times a week through our messages groupchat to collaborate on the project components.*\n",
    "- *We have set aside weekly meetings to work together in person and online via Zoom.* \n",
    "- *We expect to split all components equally and have multiple people working on different sections of the project to have the best output.*\n"
   ]
  },
  {
   "cell_type": "markdown",
   "metadata": {},
   "source": [
    "# Project Timeline Proposal"
   ]
  },
  {
   "cell_type": "markdown",
   "metadata": {},
   "source": [
    "\n",
    "| Meeting Date  | Meeting Time| Completed Before Meeting  | Discuss at Meeting |\n",
    "|---|---|---|---|\n",
    "| 2/19  |  6 PM |  Brainstorm topics/questions. Everyone brought different project ideas to the meeting.  | Discussed different project ideas; Finalized topic for the project;  discuss hypothesis; began background research | \n",
    "| 2/20  |  N/A |  Found background information. |Presented the background information we found. | \n",
    "| 2/21  | 6 PM  | Edit, finalize, and submit proposal; Search for datasets   | Discuss Wrangling and possible analytical approaches; Assign group members to lead each specific part; Figured out timeline to work for the project |\n",
    "| 2/28  | 6 PM  | Import & Wrangle Data, do  EDA |Review/Edit wrangling/EDA; Discuss Analysis Plan |\n",
    "| 3/1  | 6 PM  | Finalize wrangling/EDA; Begin programming for project |Discuss/edit project code; Complete project |\n",
    "| 3/13  | NA  | Complete analysis; Draft results/conclusion/discussion | Discuss/edit full project |\n",
    "| 3/22  | Before 11:59 PM  | NA | Turn in Final Project  |"
   ]
  },
  {
   "cell_type": "markdown",
   "metadata": {},
   "source": [
    "# Footnotes\n",
    "<a name=\"lorenznote\"></a>1.[^](#lorenz): Hemkiran, S., et al. “Design of Automatic Credit Card Approval System Using Machine Learning.” SpringerLink, Springer Singapore, 1 Jan. 1970, https://link.springer.com/chapter/10.1007/978-981-16-6448-9_1. <br> \n",
    "<a name=\"admonishnote\"></a>2.[^](#admonish): Kibria, Golam, and Mehmet Sevkli. “Application of Deep Learning for Credit Card Approval: A Comparison ...” Application of Deep Learning for Credit Card Approval: A Comparison with Two Machine Learning Techniques, https://www.researchgate.net/profile/Md-Kibria-12/publication/348755769_Application_of_Deep_Learning_for_Credit_Card_Approval_A_Comparison_with_Two_Machine_Learning_Techniques/links/600f495f92851c13fe39bb38/Application-of-Deep-Learning-for-Credit-Card-Approval-A-Comparison-with-Two-Machine-Learning-Techniques.pdf?origin=publication_detail. <br>\n",
    "<a name=\"sotanote\"></a>3.[^](#sota):Markova, Maya. “Credit Card Approval Model: An Application of Deep Neural Networks.” AIP Publishing, AIP Publishing LLC AIP Publishing, 24 Feb. 2021, https://aip.scitation.org/doi/abs/10.1063/5.0040744?journalCode=apc. \n"
   ]
  }
 ],
 "metadata": {
  "kernelspec": {
   "display_name": "Python 3 (ipykernel)",
   "language": "python",
   "name": "python3"
  },
  "language_info": {
   "codemirror_mode": {
    "name": "ipython",
    "version": 3
   },
   "file_extension": ".py",
   "mimetype": "text/x-python",
   "name": "python",
   "nbconvert_exporter": "python",
   "pygments_lexer": "ipython3",
   "version": "3.9.7"
  }
 },
 "nbformat": 4,
 "nbformat_minor": 2
}
