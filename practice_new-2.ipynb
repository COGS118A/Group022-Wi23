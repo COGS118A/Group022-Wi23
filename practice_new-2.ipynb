{
 "cells": [
  {
   "cell_type": "markdown",
   "metadata": {},
   "source": [
    "# COGS 118A - Project Checkpoint"
   ]
  },
  {
   "cell_type": "markdown",
   "metadata": {},
   "source": [
    "# Names\n",
    "\n",
    "- Neil Bajaj\n",
    "- Pratheek Sankeshi\n",
    "- Shenova Davis\n",
    "- Ria Singh\n"
   ]
  },
  {
   "cell_type": "markdown",
   "metadata": {},
   "source": [
    "# Abstract \n",
    "The goal of this project is to predict whether to approve a credit card for an applicant based on a variety of factors that were asked on their application. We will predict using a machine learning algorithm. The data we will be using is from the Kaggle dataset: A Credit Card Dataset for Machine Learning. The link is https://www.kaggle.com/datasets/caesarmario/application-data/. We will be using factors such as Total Income, Education Type, Applicant Age, etc. More will be described in the data section. Furthermore, we will drop unnecessary columns like Owned Phone, Owned Email, etc while also replacing null values to perform EDA. We will then run various supervised machine learning algorithms to create models to predict the data and use the best one. The performance will be measured on how accurately we predict the data against the status column of the data which is whether the application was approved or not. \n"
   ]
  },
  {
   "cell_type": "markdown",
   "metadata": {},
   "source": [
    "# Background\n",
    "\n",
    "As we get deeper into the age of Big Data, we see that, where possible, we are attempting to move from human evaluation to machine learning prediction. There has also been an uptick in the number of credit card defaulters. Using this logic, credit card companies need a new way to decide whether or not to approve credit cards based on prior history. \n",
    "\n",
    "A previous study done by Dr. Hemkiran[1] evaluated whether applicants should be approved for a credit card by using a Logistic Regression with and without a grid search technique. They found that using a grid search technique improved the competency of their model. Additionally, they also used an Artificial Neural Network (ANN) and found it to be better than the linear regression model. Another study by Dr. Kibria[2] aimed to create a deep learning model to aid credit card approval decision-making. They also used a logistic regression model and a support vector machine (SVM) model to compare their results. They found that the deep learning model was better than the logistic regression and SVM models. However, the ANN model and deep learning model are more computationally expensive and time-consuming. \n",
    "\n",
    "We are attempting to create a predictive machine learning model that models whether or not the application has the right credentials to have their credit card application approved using the following variables: Applicant Gender, Owned property, Total Children, Owned Car, Total Income, Housing Type, Total Family Members, Applicant Age, Education Type, and Family Status. This is to avoid future credit card defaulters. We will use models such as Naive Bayes Classifier, Linear SVM, and Linear Regression and use them to compare our model’s performance as well. \n"
   ]
  },
  {
   "cell_type": "markdown",
   "metadata": {},
   "source": [
    "# Problem Statement\n",
    "\n",
    "We are building this model to measure if there are any discrepancies when approving credit card applications. We additionally want to check if we could use big data and machine learning to build a model that predicts if a credit card is approved or not. This would take out human bias from the equation and make sure every application is fairly reviewed. Creating a machine learning model will attempt to eliminate the human bias towards race, class, gender, etc - an issue that plagues the financial ratings of individuals. Additionally, a machine-learning system can significantly reduce the human power and costs of a credit card company, increasing revenue. If our model can accurately predict whether an application can be accepted, we could conclude our hypothesis. This problem is quantifiable since we are trying to model a binary predictor. This problem is measurable because we would be using the metric of accuracy to validate the performance of our model. Lastly, our model is replicable because we could run it on different datasets and check its accuracy on each dataset. The model we will create will be composed of supervised machine-learning algorithms and techniques such as logistic regression, linear SVM, K fold validation, etc. We will train our model on previously collected data from credit card companies to understand what attributes make an individual more or less likely to get approved for a credit card. \n"
   ]
  },
  {
   "cell_type": "markdown",
   "metadata": {},
   "source": [
    "# Data\n",
    "\n",
    "\n",
    "- Link for our data: https://www.kaggle.com/datasets/caesarmario/application-data\n",
    "\n",
    "- This data set has about 25,100 observations with 21 variables. \n",
    "\n",
    "- The variables that will be used are Applicant Gender, Owned property, Total Children, Owned Car, Total Income, Housing Type, Total Family Members, Applicant Age, Education Type, and Family Status. \n",
    "\n",
    "- The dataset we are using has already been cleaned to drop any data points with null values and yet the dataset remains robust so we will not be addressing it any further.\n",
    "\n",
    "- We will additionally drop all the features that we will not be using to further declutter the dataset.\n",
    "\n",
    "- In addition to cleaning we one hot encoded all other categorical data which wasn't already binary which is displayed below\n",
    "\n"
   ]
  },
  {
   "cell_type": "code",
   "execution_count": 1,
   "metadata": {},
   "outputs": [],
   "source": [
    "import pandas as pd\n",
    "import numpy as np\n",
    "import os\n",
    "import matplotlib.pyplot as plt\n",
    "import seaborn as sns    \n",
    "from matplotlib.pyplot import figure\n",
    "import sklearn\n",
    "import numpy as np\n",
    "import matplotlib.pyplot as plt\n",
    "from scipy import stats\n",
    "# use seaborn plotting defaults\n",
    "import seaborn as sns; sns.set()\n",
    "from sklearn.datasets import make_blobs\n",
    "\n",
    "import matplotlib.pyplot as plt\n",
    "from sklearn.datasets import make_classification\n",
    "from sklearn.model_selection import train_test_split\n",
    "from sklearn.linear_model import LogisticRegression\n",
    "from sklearn.tree import DecisionTreeClassifier\n",
    "from sklearn.svm import SVC\n",
    "from sklearn.neighbors import KNeighborsClassifier\n",
    "from sklearn.ensemble import RandomForestClassifier\n",
    "from sklearn.metrics import accuracy_score, confusion_matrix, classification_report\n",
    "\n",
    "#models importing\n",
    "from sklearn.linear_model import LogisticRegression\n",
    "from sklearn.model_selection import train_test_split\n",
    "from sklearn.naive_bayes import GaussianNB \n",
    "\n",
    "#linear svm stuff\n",
    "from sklearn.svm import LinearSVC\n",
    "from sklearn.pipeline import make_pipeline\n",
    "from sklearn.preprocessing import StandardScaler\n",
    "from sklearn.datasets import make_classification\n",
    "\n",
    "from sklearn.kernel_ridge import KernelRidge"
   ]
  },
  {
   "cell_type": "code",
   "execution_count": 2,
   "metadata": {},
   "outputs": [
    {
     "data": {
      "text/html": [
       "<div>\n",
       "<style scoped>\n",
       "    .dataframe tbody tr th:only-of-type {\n",
       "        vertical-align: middle;\n",
       "    }\n",
       "\n",
       "    .dataframe tbody tr th {\n",
       "        vertical-align: top;\n",
       "    }\n",
       "\n",
       "    .dataframe thead th {\n",
       "        text-align: right;\n",
       "    }\n",
       "</style>\n",
       "<table border=\"1\" class=\"dataframe\">\n",
       "  <thead>\n",
       "    <tr style=\"text-align: right;\">\n",
       "      <th></th>\n",
       "      <th>Applicant_ID</th>\n",
       "      <th>Applicant_Gender</th>\n",
       "      <th>Owned_Car</th>\n",
       "      <th>Owned_Realty</th>\n",
       "      <th>Total_Children</th>\n",
       "      <th>Total_Income</th>\n",
       "      <th>Income_Type</th>\n",
       "      <th>Education_Type</th>\n",
       "      <th>Family_Status</th>\n",
       "      <th>Housing_Type</th>\n",
       "      <th>...</th>\n",
       "      <th>Owned_Work_Phone</th>\n",
       "      <th>Owned_Phone</th>\n",
       "      <th>Owned_Email</th>\n",
       "      <th>Job_Title</th>\n",
       "      <th>Total_Family_Members</th>\n",
       "      <th>Applicant_Age</th>\n",
       "      <th>Years_of_Working</th>\n",
       "      <th>Total_Bad_Debt</th>\n",
       "      <th>Total_Good_Debt</th>\n",
       "      <th>Status</th>\n",
       "    </tr>\n",
       "  </thead>\n",
       "  <tbody>\n",
       "    <tr>\n",
       "      <th>0</th>\n",
       "      <td>5008806</td>\n",
       "      <td>M</td>\n",
       "      <td>1</td>\n",
       "      <td>1</td>\n",
       "      <td>0</td>\n",
       "      <td>112500</td>\n",
       "      <td>Working                                       ...</td>\n",
       "      <td>Secondary / secondary special                 ...</td>\n",
       "      <td>Married                                       ...</td>\n",
       "      <td>House / apartment                             ...</td>\n",
       "      <td>...</td>\n",
       "      <td>0</td>\n",
       "      <td>0</td>\n",
       "      <td>0</td>\n",
       "      <td>Security staff                                ...</td>\n",
       "      <td>2</td>\n",
       "      <td>59</td>\n",
       "      <td>4</td>\n",
       "      <td>0</td>\n",
       "      <td>30</td>\n",
       "      <td>1</td>\n",
       "    </tr>\n",
       "    <tr>\n",
       "      <th>1</th>\n",
       "      <td>5008808</td>\n",
       "      <td>F</td>\n",
       "      <td>0</td>\n",
       "      <td>1</td>\n",
       "      <td>0</td>\n",
       "      <td>270000</td>\n",
       "      <td>Commercial associate                          ...</td>\n",
       "      <td>Secondary / secondary special                 ...</td>\n",
       "      <td>Single / not married                          ...</td>\n",
       "      <td>House / apartment                             ...</td>\n",
       "      <td>...</td>\n",
       "      <td>0</td>\n",
       "      <td>1</td>\n",
       "      <td>1</td>\n",
       "      <td>Sales staff                                   ...</td>\n",
       "      <td>1</td>\n",
       "      <td>53</td>\n",
       "      <td>9</td>\n",
       "      <td>0</td>\n",
       "      <td>5</td>\n",
       "      <td>1</td>\n",
       "    </tr>\n",
       "    <tr>\n",
       "      <th>2</th>\n",
       "      <td>5008809</td>\n",
       "      <td>F</td>\n",
       "      <td>0</td>\n",
       "      <td>1</td>\n",
       "      <td>0</td>\n",
       "      <td>270000</td>\n",
       "      <td>Commercial associate                          ...</td>\n",
       "      <td>Secondary / secondary special                 ...</td>\n",
       "      <td>Single / not married                          ...</td>\n",
       "      <td>House / apartment                             ...</td>\n",
       "      <td>...</td>\n",
       "      <td>0</td>\n",
       "      <td>1</td>\n",
       "      <td>1</td>\n",
       "      <td>Sales staff                                   ...</td>\n",
       "      <td>1</td>\n",
       "      <td>53</td>\n",
       "      <td>9</td>\n",
       "      <td>0</td>\n",
       "      <td>5</td>\n",
       "      <td>1</td>\n",
       "    </tr>\n",
       "    <tr>\n",
       "      <th>3</th>\n",
       "      <td>5008810</td>\n",
       "      <td>F</td>\n",
       "      <td>0</td>\n",
       "      <td>1</td>\n",
       "      <td>0</td>\n",
       "      <td>270000</td>\n",
       "      <td>Commercial associate                          ...</td>\n",
       "      <td>Secondary / secondary special                 ...</td>\n",
       "      <td>Single / not married                          ...</td>\n",
       "      <td>House / apartment                             ...</td>\n",
       "      <td>...</td>\n",
       "      <td>0</td>\n",
       "      <td>1</td>\n",
       "      <td>1</td>\n",
       "      <td>Sales staff                                   ...</td>\n",
       "      <td>1</td>\n",
       "      <td>53</td>\n",
       "      <td>9</td>\n",
       "      <td>0</td>\n",
       "      <td>27</td>\n",
       "      <td>1</td>\n",
       "    </tr>\n",
       "    <tr>\n",
       "      <th>4</th>\n",
       "      <td>5008811</td>\n",
       "      <td>F</td>\n",
       "      <td>0</td>\n",
       "      <td>1</td>\n",
       "      <td>0</td>\n",
       "      <td>270000</td>\n",
       "      <td>Commercial associate                          ...</td>\n",
       "      <td>Secondary / secondary special                 ...</td>\n",
       "      <td>Single / not married                          ...</td>\n",
       "      <td>House / apartment                             ...</td>\n",
       "      <td>...</td>\n",
       "      <td>0</td>\n",
       "      <td>1</td>\n",
       "      <td>1</td>\n",
       "      <td>Sales staff                                   ...</td>\n",
       "      <td>1</td>\n",
       "      <td>53</td>\n",
       "      <td>9</td>\n",
       "      <td>0</td>\n",
       "      <td>39</td>\n",
       "      <td>1</td>\n",
       "    </tr>\n",
       "  </tbody>\n",
       "</table>\n",
       "<p>5 rows × 21 columns</p>\n",
       "</div>"
      ],
      "text/plain": [
       "   Applicant_ID Applicant_Gender  Owned_Car  Owned_Realty  Total_Children  \\\n",
       "0       5008806          M                1             1               0   \n",
       "1       5008808          F                0             1               0   \n",
       "2       5008809          F                0             1               0   \n",
       "3       5008810          F                0             1               0   \n",
       "4       5008811          F                0             1               0   \n",
       "\n",
       "   Total_Income                                        Income_Type  \\\n",
       "0        112500  Working                                       ...   \n",
       "1        270000  Commercial associate                          ...   \n",
       "2        270000  Commercial associate                          ...   \n",
       "3        270000  Commercial associate                          ...   \n",
       "4        270000  Commercial associate                          ...   \n",
       "\n",
       "                                      Education_Type  \\\n",
       "0  Secondary / secondary special                 ...   \n",
       "1  Secondary / secondary special                 ...   \n",
       "2  Secondary / secondary special                 ...   \n",
       "3  Secondary / secondary special                 ...   \n",
       "4  Secondary / secondary special                 ...   \n",
       "\n",
       "                                       Family_Status  \\\n",
       "0  Married                                       ...   \n",
       "1  Single / not married                          ...   \n",
       "2  Single / not married                          ...   \n",
       "3  Single / not married                          ...   \n",
       "4  Single / not married                          ...   \n",
       "\n",
       "                                        Housing_Type  ...  Owned_Work_Phone  \\\n",
       "0  House / apartment                             ...  ...                 0   \n",
       "1  House / apartment                             ...  ...                 0   \n",
       "2  House / apartment                             ...  ...                 0   \n",
       "3  House / apartment                             ...  ...                 0   \n",
       "4  House / apartment                             ...  ...                 0   \n",
       "\n",
       "   Owned_Phone  Owned_Email  \\\n",
       "0            0            0   \n",
       "1            1            1   \n",
       "2            1            1   \n",
       "3            1            1   \n",
       "4            1            1   \n",
       "\n",
       "                                           Job_Title Total_Family_Members  \\\n",
       "0  Security staff                                ...                    2   \n",
       "1  Sales staff                                   ...                    1   \n",
       "2  Sales staff                                   ...                    1   \n",
       "3  Sales staff                                   ...                    1   \n",
       "4  Sales staff                                   ...                    1   \n",
       "\n",
       "   Applicant_Age  Years_of_Working  Total_Bad_Debt  Total_Good_Debt  Status  \n",
       "0             59                 4               0               30       1  \n",
       "1             53                 9               0                5       1  \n",
       "2             53                 9               0                5       1  \n",
       "3             53                 9               0               27       1  \n",
       "4             53                 9               0               39       1  \n",
       "\n",
       "[5 rows x 21 columns]"
      ]
     },
     "execution_count": 2,
     "metadata": {},
     "output_type": "execute_result"
    }
   ],
   "source": [
    "credit  = pd.read_csv('Application_Data.csv')\n",
    "credit.head() "
   ]
  },
  {
   "cell_type": "code",
   "execution_count": 3,
   "metadata": {},
   "outputs": [
    {
     "name": "stdout",
     "output_type": "stream",
     "text": [
      "0.004815345431391276\n"
     ]
    }
   ],
   "source": [
    "status = credit['Status']\n",
    "status_0_len = len(status[status==0])\n",
    "status_1_len = len(status[status==1])\n",
    "print(status_0_len/len(status))"
   ]
  },
  {
   "cell_type": "code",
   "execution_count": 4,
   "metadata": {},
   "outputs": [
    {
     "data": {
      "text/plain": [
       "'\\nMODELS TO USE \\n- LOGISTIC REGRESSION / CLASSIFIER \\n- ADA BOOST \\n- GRADIENT BOOST \\n- RANDOM FOREST \\n- SVM ?\\n'"
      ]
     },
     "execution_count": 4,
     "metadata": {},
     "output_type": "execute_result"
    }
   ],
   "source": [
    "#note: we noticed here that the datset mainly leading to approving the credit card, we cannot use a regular model\n",
    "# because the best one would be just approving the credit card application every time. \n",
    "\n",
    "#we need to find a model that takes care of imbalanced data and looking fo that we found pyCaret. \n",
    "#we could also use scikit learn for this. \n",
    "\n",
    "#SMOTE\n",
    "#ADASYN\n",
    "\n",
    "'''\n",
    "MODELS TO USE \n",
    "- LOGISTIC REGRESSION / CLASSIFIER \n",
    "- ADA BOOST \n",
    "- GRADIENT BOOST \n",
    "- RANDOM FOREST \n",
    "- SVM ?\n",
    "'''"
   ]
  },
  {
   "cell_type": "code",
   "execution_count": 5,
   "metadata": {},
   "outputs": [
    {
     "data": {
      "text/plain": [
       "Applicant_ID             int64\n",
       "Applicant_Gender        object\n",
       "Owned_Car                int64\n",
       "Owned_Realty             int64\n",
       "Total_Children           int64\n",
       "Total_Income             int64\n",
       "Income_Type             object\n",
       "Education_Type          object\n",
       "Family_Status           object\n",
       "Housing_Type            object\n",
       "Owned_Mobile_Phone       int64\n",
       "Owned_Work_Phone         int64\n",
       "Owned_Phone              int64\n",
       "Owned_Email              int64\n",
       "Job_Title               object\n",
       "Total_Family_Members     int64\n",
       "Applicant_Age            int64\n",
       "Years_of_Working         int64\n",
       "Total_Bad_Debt           int64\n",
       "Total_Good_Debt          int64\n",
       "Status                   int64\n",
       "dtype: object"
      ]
     },
     "execution_count": 5,
     "metadata": {},
     "output_type": "execute_result"
    }
   ],
   "source": [
    "credit.dtypes"
   ]
  },
  {
   "cell_type": "code",
   "execution_count": 6,
   "metadata": {},
   "outputs": [],
   "source": [
    "#first we will only keep columns that we need. These columns are covered under Data along with \n",
    "#status which says whether or not it was approved\n",
    "#RIA - ADD GOOD DEBT AND BAD DEBT\n",
    "credit = credit[[\"Applicant_Gender\", \"Applicant_Age\",\"Owned_Realty\",\n",
    "                 \"Total_Children\", \"Owned_Car\", \"Total_Income\", \"Housing_Type\",\n",
    "                 \"Total_Family_Members\", \"Education_Type\", \"Family_Status\", 'Status']] "
   ]
  },
  {
   "cell_type": "code",
   "execution_count": 7,
   "metadata": {},
   "outputs": [
    {
     "data": {
      "text/plain": [
       "Applicant_Gender        object\n",
       "Applicant_Age            int64\n",
       "Owned_Realty             int64\n",
       "Total_Children           int64\n",
       "Owned_Car                int64\n",
       "Total_Income             int64\n",
       "Housing_Type            object\n",
       "Total_Family_Members     int64\n",
       "Education_Type          object\n",
       "Family_Status           object\n",
       "Status                   int64\n",
       "dtype: object"
      ]
     },
     "execution_count": 7,
     "metadata": {},
     "output_type": "execute_result"
    }
   ],
   "source": [
    "credit.dtypes"
   ]
  },
  {
   "cell_type": "code",
   "execution_count": 8,
   "metadata": {},
   "outputs": [],
   "source": [
    "from sklearn.model_selection import train_test_split\n",
    "from sklearn.preprocessing import OneHotEncoder\n",
    "from imblearn.over_sampling import ADASYN\n",
    "from imblearn.pipeline import make_pipeline\n",
    "from sklearn.compose import make_column_transformer\n",
    "from sklearn.ensemble import RandomForestClassifier"
   ]
  },
  {
   "cell_type": "code",
   "execution_count": 9,
   "metadata": {},
   "outputs": [],
   "source": [
    "X_train, X_test, y_train, y_test = train_test_split(credit.drop('Status', axis=1), #\n",
    "                                                    credit['Status'], #Y variable target\n",
    "                                                    train_size=0.8,\n",
    "                                                    random_state=123)\n",
    "categorical_features = [\"Applicant_Gender\", \"Housing_Type\", \"Education_Type\", \"Family_Status\"]"
   ]
  },
  {
   "cell_type": "code",
   "execution_count": 10,
   "metadata": {},
   "outputs": [],
   "source": [
    "#THE CODE IN THE CELL BELOW USES SMOTE TO FIX DATA IMBALANCES \n",
    "# OUR DATAPOINTS WENT FROM 20K IN THE TRAINSET TO 40K IN THE TRAINSET \n",
    "#we have shifted our status to the y_test and y_train because that is what we are going to compare with "
   ]
  },
  {
   "cell_type": "code",
   "execution_count": 11,
   "metadata": {},
   "outputs": [],
   "source": [
    "from imblearn.over_sampling import SMOTE\n",
    "X_train = X_train.drop(columns = [\"Housing_Type\", \"Family_Status\",\"Education_Type\", \"Applicant_Gender\"])\n",
    "sm = SMOTE(random_state=42)\n",
    "X_res, y_res = sm.fit_resample(X_train, y_train)\n"
   ]
  },
  {
   "cell_type": "code",
   "execution_count": 12,
   "metadata": {},
   "outputs": [
    {
     "name": "stdout",
     "output_type": "stream",
     "text": [
      "40004\n"
     ]
    }
   ],
   "source": [
    "print(len(X_res)) #length of our new dataset - REMOVE"
   ]
  },
  {
   "cell_type": "code",
   "execution_count": 13,
   "metadata": {},
   "outputs": [
    {
     "data": {
      "text/html": [
       "<div>\n",
       "<style scoped>\n",
       "    .dataframe tbody tr th:only-of-type {\n",
       "        vertical-align: middle;\n",
       "    }\n",
       "\n",
       "    .dataframe tbody tr th {\n",
       "        vertical-align: top;\n",
       "    }\n",
       "\n",
       "    .dataframe thead th {\n",
       "        text-align: right;\n",
       "    }\n",
       "</style>\n",
       "<table border=\"1\" class=\"dataframe\">\n",
       "  <thead>\n",
       "    <tr style=\"text-align: right;\">\n",
       "      <th></th>\n",
       "      <th>Applicant_Age</th>\n",
       "      <th>Owned_Realty</th>\n",
       "      <th>Total_Children</th>\n",
       "      <th>Owned_Car</th>\n",
       "      <th>Total_Income</th>\n",
       "      <th>Total_Family_Members</th>\n",
       "    </tr>\n",
       "  </thead>\n",
       "  <tbody>\n",
       "    <tr>\n",
       "      <th>0</th>\n",
       "      <td>52</td>\n",
       "      <td>0</td>\n",
       "      <td>0</td>\n",
       "      <td>0</td>\n",
       "      <td>112500</td>\n",
       "      <td>2</td>\n",
       "    </tr>\n",
       "    <tr>\n",
       "      <th>1</th>\n",
       "      <td>35</td>\n",
       "      <td>0</td>\n",
       "      <td>1</td>\n",
       "      <td>0</td>\n",
       "      <td>135000</td>\n",
       "      <td>3</td>\n",
       "    </tr>\n",
       "    <tr>\n",
       "      <th>2</th>\n",
       "      <td>31</td>\n",
       "      <td>1</td>\n",
       "      <td>1</td>\n",
       "      <td>1</td>\n",
       "      <td>157500</td>\n",
       "      <td>3</td>\n",
       "    </tr>\n",
       "    <tr>\n",
       "      <th>3</th>\n",
       "      <td>55</td>\n",
       "      <td>0</td>\n",
       "      <td>0</td>\n",
       "      <td>0</td>\n",
       "      <td>135000</td>\n",
       "      <td>1</td>\n",
       "    </tr>\n",
       "    <tr>\n",
       "      <th>4</th>\n",
       "      <td>38</td>\n",
       "      <td>0</td>\n",
       "      <td>0</td>\n",
       "      <td>0</td>\n",
       "      <td>180000</td>\n",
       "      <td>2</td>\n",
       "    </tr>\n",
       "  </tbody>\n",
       "</table>\n",
       "</div>"
      ],
      "text/plain": [
       "   Applicant_Age  Owned_Realty  Total_Children  Owned_Car  Total_Income  \\\n",
       "0             52             0               0          0        112500   \n",
       "1             35             0               1          0        135000   \n",
       "2             31             1               1          1        157500   \n",
       "3             55             0               0          0        135000   \n",
       "4             38             0               0          0        180000   \n",
       "\n",
       "   Total_Family_Members  \n",
       "0                     2  \n",
       "1                     3  \n",
       "2                     3  \n",
       "3                     1  \n",
       "4                     2  "
      ]
     },
     "execution_count": 13,
     "metadata": {},
     "output_type": "execute_result"
    }
   ],
   "source": [
    "X_res.head() - #REMOVE"
   ]
  },
  {
   "cell_type": "code",
   "execution_count": 14,
   "metadata": {},
   "outputs": [
    {
     "name": "stdout",
     "output_type": "stream",
     "text": [
      "Fitting 25 folds for each of 3 candidates, totalling 75 fits\n",
      "{'mean_fit_time': array([0.07590873, 0.04972374, 0.06366924]), 'std_fit_time': array([0.04530723, 0.02861248, 0.03521781]), 'mean_score_time': array([0.00563568, 0.003563  , 0.00460288]), 'std_score_time': array([0.00234075, 0.00090748, 0.00183625]), 'param_C': masked_array(data=[0.01, 0.05, 10],\n",
      "             mask=[False, False, False],\n",
      "       fill_value='?',\n",
      "            dtype=object), 'params': [{'C': 0.01}, {'C': 0.05}, {'C': 10}], 'split0_test_score': array([0.47806524, 0.47806524, 0.47806524]), 'split1_test_score': array([0.50006249, 0.50006249, 0.50006249]), 'split2_test_score': array([0.48781402, 0.48781402, 0.48781402]), 'split3_test_score': array([0.50518685, 0.50518685, 0.50518685]), 'split4_test_score': array([0.489, 0.489, 0.489]), 'split5_test_score': array([0.50443695, 0.50443695, 0.50443695]), 'split6_test_score': array([0.55943007, 0.55980502, 0.55993001]), 'split7_test_score': array([0.50356205, 0.50356205, 0.50356205]), 'split8_test_score': array([0.49731284, 0.49731284, 0.49731284]), 'split9_test_score': array([0.4875, 0.4875, 0.4875]), 'split10_test_score': array([0.48806399, 0.48806399, 0.48806399]), 'split11_test_score': array([0.48856393, 0.48856393, 0.48856393]), 'split12_test_score': array([0.50168729, 0.50168729, 0.50168729]), 'split13_test_score': array([0.50618673, 0.50618673, 0.50618673]), 'split14_test_score': array([0.501, 0.501, 0.501]), 'split15_test_score': array([0.50018748, 0.50018748, 0.50018748]), 'split16_test_score': array([0.50268716, 0.50268716, 0.50268716]), 'split17_test_score': array([0.49531309, 0.49531309, 0.49531309]), 'split18_test_score': array([0.47944007, 0.47944007, 0.47944007]), 'split19_test_score': array([0.50175, 0.50175, 0.50175]), 'split20_test_score': array([0.49243845, 0.49243845, 0.49243845]), 'split21_test_score': array([0.49243845, 0.49243845, 0.49243845]), 'split22_test_score': array([0.48343957, 0.48343957, 0.48343957]), 'split23_test_score': array([0.50618673, 0.50618673, 0.50618673]), 'split24_test_score': array([0.492875, 0.492875, 0.492875]), 'mean_test_score': array([0.49778514, 0.49780014, 0.49780513]), 'std_test_score': array([0.01500759, 0.01506925, 0.01508982]), 'rank_test_score': array([3, 2, 1], dtype=int32)}\n"
     ]
    }
   ],
   "source": [
    "# REPEATED K FOLD CROSS VALIDATION \n",
    "# 25 FOLDS FOR EACH OF THE 3 CANDIDATES - TOTALLING 75 FITS\n",
    "\n",
    "# Import here\n",
    "from sklearn import svm, datasets\n",
    "from sklearn.model_selection import GridSearchCV\n",
    "from sklearn.model_selection import RepeatedKFold\n",
    "\n",
    "params ={'C':[0.01, 0.05, 10]}\n",
    "rkf = RepeatedKFold(n_splits=5, n_repeats=5, random_state = 42)\n",
    "\n",
    "clf1 = GridSearchCV(LogisticRegression(), params, cv = rkf, n_jobs=-1, verbose = 3)\n",
    "\n",
    "\n",
    "\n",
    "#clf1.fit(X_train, y_train)\n",
    "clf1.fit(X_res, y_res)\n",
    "# View the Grid Search CV Results\n",
    "print((clf1.cv_results_))"
   ]
  },
  {
   "cell_type": "code",
   "execution_count": 15,
   "metadata": {},
   "outputs": [
    {
     "name": "stdout",
     "output_type": "stream",
     "text": [
      "<class 'dict'>\n"
     ]
    }
   ],
   "source": [
    "print(type(clf1.cv_results_)) - #REMOVE"
   ]
  },
  {
   "cell_type": "code",
   "execution_count": 16,
   "metadata": {},
   "outputs": [
    {
     "name": "stdout",
     "output_type": "stream",
     "text": [
      "{'mean_fit_time': array([0.02172257, 0.01887686, 0.01777879]), 'std_fit_time': array([0.00946333, 0.00606657, 0.00577441]), 'mean_score_time': array([0.00182779, 0.00151047, 0.00140345]), 'std_score_time': array([0.00056837, 0.00027312, 0.00018928]), 'param_C': masked_array(data=[0.01, 0.5, 10],\n",
      "             mask=[False, False, False],\n",
      "       fill_value='?',\n",
      "            dtype=object), 'params': [{'C': 0.01}, {'C': 0.5}, {'C': 10}], 'split0_test_score': array([0.00374766, 0.00374766, 0.00374766]), 'split1_test_score': array([0.00562149, 0.00562149, 0.00562149]), 'split2_test_score': array([0.00249844, 0.00249844, 0.00249844]), 'split3_test_score': array([0.00437227, 0.00437227, 0.00437227]), 'split4_test_score': array([0.004375, 0.004375, 0.004375]), 'split5_test_score': array([0.005, 0.005, 0.005]), 'split6_test_score': array([0.00375, 0.00375, 0.00375]), 'split7_test_score': array([0.006875, 0.006875, 0.006875]), 'split8_test_score': array([0.01, 0.01, 0.01]), 'split9_test_score': array([0.005, 0.005, 0.005]), 'split10_test_score': array([0.006875, 0.006875, 0.006875]), 'split11_test_score': array([0.0025, 0.0025, 0.0025]), 'split12_test_score': array([0.520625, 0.520625, 0.520625]), 'split13_test_score': array([0., 0., 0.]), 'split14_test_score': array([0., 0., 0.]), 'split15_test_score': array([0., 0., 0.]), 'split16_test_score': array([0., 0., 0.]), 'split17_test_score': array([0., 0., 0.]), 'split18_test_score': array([0., 0., 0.]), 'split19_test_score': array([0., 0., 0.]), 'split20_test_score': array([0., 0., 0.]), 'split21_test_score': array([0., 0., 0.]), 'split22_test_score': array([0., 0., 0.]), 'split23_test_score': array([0., 0., 0.]), 'split24_test_score': array([0., 0., 0.]), 'mean_test_score': array([0.02324959, 0.02324959, 0.02324959]), 'std_test_score': array([0.10156609, 0.10156609, 0.10156609]), 'rank_test_score': array([1, 1, 1], dtype=int32)}\n"
     ]
    }
   ],
   "source": [
    "# NORMAL K FOLD CROSS VALIDATION SPLITS =25 \n",
    "\n",
    "\n",
    "from sklearn.model_selection import KFold, RepeatedKFold, GridSearchCV\n",
    "\n",
    "params = {'C': [0.01, 0.5, 10]}\n",
    "\n",
    "kf = KFold(n_splits = 25)\n",
    "clf2 = GridSearchCV(LogisticRegression(), params, cv = kf)\n",
    "\n",
    "clf2.fit(X_res, y_res)\n",
    "\n",
    "# View the Grid Search CV Results\n",
    "print(clf2.cv_results_)"
   ]
  },
  {
   "cell_type": "code",
   "execution_count": 17,
   "metadata": {},
   "outputs": [
    {
     "name": "stdout",
     "output_type": "stream",
     "text": [
      "[0.00374766 0.00562149 0.00249844 0.00437227 0.004375   0.005\n",
      " 0.00375    0.006875   0.01       0.005      0.006875   0.0025\n",
      " 0.520625   0.         0.         0.         0.         0.\n",
      " 0.         0.         0.         0.         0.         0.\n",
      " 0.        ]\n"
     ]
    }
   ],
   "source": [
    "# COMPARING THE TWO MODELS WE JUST RAN TO SEE WHICH MODEL RETURNS A BETTER ACCUARACY ON OUR DATASET\n",
    "\n",
    "clfi1Mat = np.zeros((25,3))\n",
    "clfi2Mat = np.zeros((25,3))\n",
    "i = 0\n",
    "for key in clf1.cv_results_.keys():\n",
    "    if 'split' in key:\n",
    "        clfi1Mat[i] = clf1.cv_results_[key]\n",
    "        clfi2Mat[i] = clf2.cv_results_[key]\n",
    "        i += 1\n",
    "#print(clfi1Mat.shape)\n",
    "#print(clfi2Mat)#so we go \n",
    "\n",
    "#next we have to get 9 different arrays for each c value\n",
    "clfi1MatC1 = clfi1Mat[:, 0] #go by column\n",
    "clfi2MatC1 = clfi2Mat[:, 0]\n",
    "print(clfi2MatC1)\n",
    "clfi1MatC2 = clfi1Mat[:, 1] #go by column\n",
    "clfi2MatC2 = clfi2Mat[:, 1]\n",
    "\n",
    "clfi1MatC3 = clfi1Mat[:, 2] #go by column\n",
    "clfi2MatC3 = clfi2Mat[:, 2]\n",
    "\n"
   ]
  },
  {
   "cell_type": "code",
   "execution_count": 18,
   "metadata": {},
   "outputs": [
    {
     "name": "stdout",
     "output_type": "stream",
     "text": [
      "0.5594300712410949\n",
      "0.5598050243719535\n",
      "0.5599300087489064\n",
      "0.520625\n",
      "0.520625\n",
      "0.520625\n"
     ]
    }
   ],
   "source": [
    "#ACCUARACY OF EACH COMBINATION OF OUR MODEL \n",
    "# MAXIMUM AXXURACY ACHIEVED HERE IS 55.9% WHICH ISNT GREAT AND IS WORSE THAN OUR BASELINE \n",
    "#HENCE WE NEED TO TRY OTHER MODELS\n",
    "\n",
    "print(max(clfi1MatC1))\n",
    "print(max(clfi1MatC2))\n",
    "print(max(clfi1MatC3))\n",
    "print(max(clfi2MatC1))\n",
    "print(max(clfi2MatC2))\n",
    "print(max(clfi2MatC3))\n"
   ]
  },
  {
   "cell_type": "code",
   "execution_count": 19,
   "metadata": {},
   "outputs": [
    {
     "name": "stdout",
     "output_type": "stream",
     "text": [
      "[ 0  1  2  3  4  5  6  7  8  9 10 11 12 13 14 15 16 17 18 19 20 21 22 23\n",
      " 24]\n"
     ]
    },
    {
     "data": {
      "text/plain": [
       "<matplotlib.legend.Legend at 0x7f97f79921c0>"
      ]
     },
     "execution_count": 19,
     "metadata": {},
     "output_type": "execute_result"
    },
    {
     "data": {
      "image/png": "[encoded data removed]",
      "text/plain": [
       "<Figure size 640x480 with 1 Axes>"
      ]
     },
     "metadata": {},
     "output_type": "display_data"
    }
   ],
   "source": [
    "# PLOT FOR OUR REPEATED K - FOLDS AND OUR K FOLD CROSS VALIDATION MODELS \n",
    "# WE CAN SEE THAT OUR REPEATED K FOLDS PERFORMS SIGNIFICANTLY BETTER \n",
    "\n",
    "#next we have to do 3 plots\n",
    "xVals = np.arange(25)\n",
    "print(xVals)\n",
    "plt.plot(xVals, clfi1MatC1, color = 'blue', label = \"5x5 C=0.01\")\n",
    "plt.plot(xVals, clfi2MatC1, color = 'orange', label = \"25 C=0.01\")\n",
    "plt.title(\"Repeated KFolds vs KFolds for C=0.01\")\n",
    "plt.legend()\n"
   ]
  },
  {
   "cell_type": "code",
   "execution_count": 20,
   "metadata": {},
   "outputs": [
    {
     "name": "stdout",
     "output_type": "stream",
     "text": [
      "[ 0  1  2  3  4  5  6  7  8  9 10 11 12 13 14 15 16 17 18 19 20 21 22 23\n",
      " 24]\n"
     ]
    },
    {
     "data": {
      "text/plain": [
       "<matplotlib.legend.Legend at 0x7f97f9f26af0>"
      ]
     },
     "execution_count": 20,
     "metadata": {},
     "output_type": "execute_result"
    },
    {
     "data": {
      "image/png": "[encoded data removed]",
      "text/plain": [
       "<Figure size 640x480 with 1 Axes>"
      ]
     },
     "metadata": {},
     "output_type": "display_data"
    }
   ],
   "source": [
    "# PLOT FOR OUR REPEATED K - FOLDS AND OUR K FOLD CROSS VALIDATION MODELS \n",
    "# WE CAN SEE THAT OUR REPEATED K FOLDS PERFORMS SIGNIFICANTLY BETTER \n",
    "\n",
    "\n",
    "#next we have to do 3 plots\n",
    "xVals = np.arange(25)\n",
    "print(xVals)\n",
    "plt.plot(xVals, clfi1MatC2, color = 'blue', label = \"5x5 C=0.5\")\n",
    "plt.plot(xVals, clfi2MatC2, color = 'orange', label = \"25 C=0.5\")\n",
    "plt.title(\"Repeated KFolds vs KFolds for C=0.5\")\n",
    "plt.legend()"
   ]
  },
  {
   "cell_type": "code",
   "execution_count": 21,
   "metadata": {},
   "outputs": [
    {
     "name": "stdout",
     "output_type": "stream",
     "text": [
      "[ 0  1  2  3  4  5  6  7  8  9 10 11 12 13 14 15 16 17 18 19 20 21 22 23\n",
      " 24]\n"
     ]
    },
    {
     "data": {
      "text/plain": [
       "<matplotlib.legend.Legend at 0x7f97f9f4b550>"
      ]
     },
     "execution_count": 21,
     "metadata": {},
     "output_type": "execute_result"
    },
    {
     "data": {
      "image/png": "[encoded data removed]",
      "text/plain": [
       "<Figure size 640x480 with 1 Axes>"
      ]
     },
     "metadata": {},
     "output_type": "display_data"
    }
   ],
   "source": [
    "# PLOT FOR OUR REPEATED K - FOLDS AND OUR K FOLD CROSS VALIDATION MODELS \n",
    "# WE CAN SEE THAT OUR REPEATED K FOLDS PERFORMS SIGNIFICANTLY BETTER \n",
    "\n",
    "\n",
    "#next we have to do 3 plots\n",
    "xVals = np.arange(25)\n",
    "print(xVals)\n",
    "plt.plot(xVals, clfi1MatC3, color = 'blue', label = \"5x5 C=10\")\n",
    "plt.plot(xVals, clfi2MatC3, color = 'orange', label = \"25 C=10\")\n",
    "plt.title(\"Repeated KFolds vs KFolds for C=10\")\n",
    "plt.legend()"
   ]
  },
  {
   "cell_type": "code",
   "execution_count": null,
   "metadata": {},
   "outputs": [],
   "source": []
  },
  {
   "cell_type": "code",
   "execution_count": 22,
   "metadata": {},
   "outputs": [
    {
     "data": {
      "text/plain": [
       "False"
      ]
     },
     "execution_count": 22,
     "metadata": {},
     "output_type": "execute_result"
    }
   ],
   "source": [
    "#NO NULL VALUES IN OUR DATA - JUST A CHECK \n",
    "\n",
    "#next we check for nulls and nans and if there exists any we will count them\n",
    "#and decide to drop the row containing that datapooint\n",
    "\n",
    "credit.isnull().values.any()\n",
    "#so there isnt any nan values so we dont need to replace any values anywhere"
   ]
  },
  {
   "cell_type": "code",
   "execution_count": 23,
   "metadata": {},
   "outputs": [
    {
     "data": {
      "text/plain": [
       "Applicant_Gender        object\n",
       "Applicant_Age            int64\n",
       "Owned_Realty             int64\n",
       "Total_Children           int64\n",
       "Owned_Car                int64\n",
       "Total_Income             int64\n",
       "Housing_Type            object\n",
       "Total_Family_Members     int64\n",
       "Education_Type          object\n",
       "Family_Status           object\n",
       "Status                   int64\n",
       "dtype: object"
      ]
     },
     "execution_count": 23,
     "metadata": {},
     "output_type": "execute_result"
    }
   ],
   "source": [
    "#next is making all columns which arent numerical numerical\n",
    "#first we will check which columns arent numerical\n",
    "credit.dtypes"
   ]
  },
  {
   "cell_type": "code",
   "execution_count": 24,
   "metadata": {},
   "outputs": [],
   "source": [
    "# IMPORTANT CODE - DROPPING COLUMNS WE DO NOT NEED (OF TYPE FLOAT AND DOESNT MAKE SENSE TO CONVERT USING ONE HOT ENCODING)\n",
    "\n",
    "X_test = X_test.drop(columns = ['Applicant_Gender', 'Housing_Type', 'Education_Type','Family_Status'])\n"
   ]
  },
  {
   "cell_type": "code",
   "execution_count": null,
   "metadata": {},
   "outputs": [],
   "source": []
  },
  {
   "cell_type": "code",
   "execution_count": 25,
   "metadata": {},
   "outputs": [
    {
     "name": "stdout",
     "output_type": "stream",
     "text": [
      "0.5827695980899323\n"
     ]
    }
   ],
   "source": [
    "# JUST A LOGISTIC CLASSIFIER - NO K FOLD OR REPEATED K FOLD USED HERE\n",
    "# ACCUARACY ACHIEVED WAS 58.27% WHICH IS BETTER BUT STILL NOT GOOD ENOUGH \n",
    "# L2 PENALTY USED \n",
    "\n",
    "\n",
    "#Just classifier no kfold or anything\n",
    "# Import Logistic Regression here\n",
    "from sklearn.linear_model import LogisticRegression\n",
    "#clf is the logistic rgression model\n",
    "clf = LogisticRegression(C = 1, random_state=0, penalty = \"l2\").fit(X_res, y_res)\n",
    "score = clf.score(X_test, y_test)\n",
    "print(score)"
   ]
  },
  {
   "cell_type": "code",
   "execution_count": 26,
   "metadata": {},
   "outputs": [
    {
     "ename": "ValueError",
     "evalue": "Solver lbfgs supports only 'l2' or 'none' penalties, got l1 penalty.",
     "output_type": "error",
     "traceback": [
      "\u001b[0;31m---------------------------------------------------------------------------\u001b[0m",
      "\u001b[0;31mValueError\u001b[0m                                Traceback (most recent call last)",
      "\u001b[0;32m/var/folders/t9/525lb30j29nfpyn7p38vpj2c0000gn/T/ipykernel_48202/929277607.py\u001b[0m in \u001b[0;36m<module>\u001b[0;34m\u001b[0m\n\u001b[1;32m      7\u001b[0m \u001b[0;32mfrom\u001b[0m \u001b[0msklearn\u001b[0m\u001b[0;34m.\u001b[0m\u001b[0mlinear_model\u001b[0m \u001b[0;32mimport\u001b[0m \u001b[0mLogisticRegression\u001b[0m\u001b[0;34m\u001b[0m\u001b[0;34m\u001b[0m\u001b[0m\n\u001b[1;32m      8\u001b[0m \u001b[0;31m#clf is the logistic rgression model\u001b[0m\u001b[0;34m\u001b[0m\u001b[0;34m\u001b[0m\u001b[0m\n\u001b[0;32m----> 9\u001b[0;31m \u001b[0mclf\u001b[0m \u001b[0;34m=\u001b[0m \u001b[0mLogisticRegression\u001b[0m\u001b[0;34m(\u001b[0m\u001b[0mC\u001b[0m \u001b[0;34m=\u001b[0m \u001b[0;36m1\u001b[0m\u001b[0;34m,\u001b[0m \u001b[0mrandom_state\u001b[0m\u001b[0;34m=\u001b[0m\u001b[0;36m0\u001b[0m\u001b[0;34m,\u001b[0m \u001b[0mpenalty\u001b[0m \u001b[0;34m=\u001b[0m \u001b[0;34m\"l1\"\u001b[0m\u001b[0;34m)\u001b[0m\u001b[0;34m.\u001b[0m\u001b[0mfit\u001b[0m\u001b[0;34m(\u001b[0m\u001b[0mX_res\u001b[0m\u001b[0;34m,\u001b[0m \u001b[0my_res\u001b[0m\u001b[0;34m)\u001b[0m\u001b[0;34m\u001b[0m\u001b[0;34m\u001b[0m\u001b[0m\n\u001b[0m\u001b[1;32m     10\u001b[0m \u001b[0mscore\u001b[0m \u001b[0;34m=\u001b[0m \u001b[0mclf\u001b[0m\u001b[0;34m.\u001b[0m\u001b[0mscore\u001b[0m\u001b[0;34m(\u001b[0m\u001b[0mX_test\u001b[0m\u001b[0;34m,\u001b[0m \u001b[0my_test\u001b[0m\u001b[0;34m)\u001b[0m\u001b[0;34m\u001b[0m\u001b[0;34m\u001b[0m\u001b[0m\n\u001b[1;32m     11\u001b[0m \u001b[0mprint\u001b[0m\u001b[0;34m(\u001b[0m\u001b[0mscore\u001b[0m\u001b[0;34m)\u001b[0m\u001b[0;34m\u001b[0m\u001b[0;34m\u001b[0m\u001b[0m\n",
      "\u001b[0;32m~/opt/anaconda3/lib/python3.9/site-packages/sklearn/linear_model/_logistic.py\u001b[0m in \u001b[0;36mfit\u001b[0;34m(self, X, y, sample_weight)\u001b[0m\n\u001b[1;32m   1459\u001b[0m         \u001b[0mThe\u001b[0m \u001b[0mSAGA\u001b[0m \u001b[0msolver\u001b[0m \u001b[0msupports\u001b[0m \u001b[0mboth\u001b[0m \u001b[0mfloat64\u001b[0m \u001b[0;32mand\u001b[0m \u001b[0mfloat32\u001b[0m \u001b[0mbit\u001b[0m \u001b[0marrays\u001b[0m\u001b[0;34m.\u001b[0m\u001b[0;34m\u001b[0m\u001b[0;34m\u001b[0m\u001b[0m\n\u001b[1;32m   1460\u001b[0m         \"\"\"\n\u001b[0;32m-> 1461\u001b[0;31m         \u001b[0msolver\u001b[0m \u001b[0;34m=\u001b[0m \u001b[0m_check_solver\u001b[0m\u001b[0;34m(\u001b[0m\u001b[0mself\u001b[0m\u001b[0;34m.\u001b[0m\u001b[0msolver\u001b[0m\u001b[0;34m,\u001b[0m \u001b[0mself\u001b[0m\u001b[0;34m.\u001b[0m\u001b[0mpenalty\u001b[0m\u001b[0;34m,\u001b[0m \u001b[0mself\u001b[0m\u001b[0;34m.\u001b[0m\u001b[0mdual\u001b[0m\u001b[0;34m)\u001b[0m\u001b[0;34m\u001b[0m\u001b[0;34m\u001b[0m\u001b[0m\n\u001b[0m\u001b[1;32m   1462\u001b[0m \u001b[0;34m\u001b[0m\u001b[0m\n\u001b[1;32m   1463\u001b[0m         \u001b[0;32mif\u001b[0m \u001b[0;32mnot\u001b[0m \u001b[0misinstance\u001b[0m\u001b[0;34m(\u001b[0m\u001b[0mself\u001b[0m\u001b[0;34m.\u001b[0m\u001b[0mC\u001b[0m\u001b[0;34m,\u001b[0m \u001b[0mnumbers\u001b[0m\u001b[0;34m.\u001b[0m\u001b[0mNumber\u001b[0m\u001b[0;34m)\u001b[0m \u001b[0;32mor\u001b[0m \u001b[0mself\u001b[0m\u001b[0;34m.\u001b[0m\u001b[0mC\u001b[0m \u001b[0;34m<\u001b[0m \u001b[0;36m0\u001b[0m\u001b[0;34m:\u001b[0m\u001b[0;34m\u001b[0m\u001b[0;34m\u001b[0m\u001b[0m\n",
      "\u001b[0;32m~/opt/anaconda3/lib/python3.9/site-packages/sklearn/linear_model/_logistic.py\u001b[0m in \u001b[0;36m_check_solver\u001b[0;34m(solver, penalty, dual)\u001b[0m\n\u001b[1;32m    445\u001b[0m \u001b[0;34m\u001b[0m\u001b[0m\n\u001b[1;32m    446\u001b[0m     \u001b[0;32mif\u001b[0m \u001b[0msolver\u001b[0m \u001b[0;32mnot\u001b[0m \u001b[0;32min\u001b[0m \u001b[0;34m[\u001b[0m\u001b[0;34m\"liblinear\"\u001b[0m\u001b[0;34m,\u001b[0m \u001b[0;34m\"saga\"\u001b[0m\u001b[0;34m]\u001b[0m \u001b[0;32mand\u001b[0m \u001b[0mpenalty\u001b[0m \u001b[0;32mnot\u001b[0m \u001b[0;32min\u001b[0m \u001b[0;34m(\u001b[0m\u001b[0;34m\"l2\"\u001b[0m\u001b[0;34m,\u001b[0m \u001b[0;34m\"none\"\u001b[0m\u001b[0;34m)\u001b[0m\u001b[0;34m:\u001b[0m\u001b[0;34m\u001b[0m\u001b[0;34m\u001b[0m\u001b[0m\n\u001b[0;32m--> 447\u001b[0;31m         raise ValueError(\n\u001b[0m\u001b[1;32m    448\u001b[0m             \u001b[0;34m\"Solver %s supports only 'l2' or 'none' penalties, got %s penalty.\"\u001b[0m\u001b[0;34m\u001b[0m\u001b[0;34m\u001b[0m\u001b[0m\n\u001b[1;32m    449\u001b[0m             \u001b[0;34m%\u001b[0m \u001b[0;34m(\u001b[0m\u001b[0msolver\u001b[0m\u001b[0;34m,\u001b[0m \u001b[0mpenalty\u001b[0m\u001b[0;34m)\u001b[0m\u001b[0;34m\u001b[0m\u001b[0;34m\u001b[0m\u001b[0m\n",
      "\u001b[0;31mValueError\u001b[0m: Solver lbfgs supports only 'l2' or 'none' penalties, got l1 penalty."
     ]
    }
   ],
   "source": [
    "#SAME AS ABOVE BUT NOW USING A L1 PENALTY - REMOVE\n",
    "# NOTICE THIS DOES NOT RUN WITH A L1 PENALTY \n",
    "# NOT NEEDED\n",
    "\n",
    "#Just classifier no kfold or anything\n",
    "# Import Logistic Regression here\n",
    "from sklearn.linear_model import LogisticRegression\n",
    "#clf is the logistic rgression model\n",
    "clf = LogisticRegression(C = 1, random_state=0, penalty = \"l1\").fit(X_res, y_res)\n",
    "score = clf.score(X_test, y_test)\n",
    "print(score)"
   ]
  },
  {
   "cell_type": "code",
   "execution_count": 27,
   "metadata": {},
   "outputs": [
    {
     "name": "stderr",
     "output_type": "stream",
     "text": [
      "/Users/neilbajaj/opt/anaconda3/lib/python3.9/site-packages/scipy/optimize/_linesearch.py:456: LineSearchWarning: The line search algorithm did not converge\n",
      "  warn('The line search algorithm did not converge', LineSearchWarning)\n",
      "/Users/neilbajaj/opt/anaconda3/lib/python3.9/site-packages/scipy/optimize/_linesearch.py:305: LineSearchWarning: The line search algorithm did not converge\n",
      "  warn('The line search algorithm did not converge', LineSearchWarning)\n",
      "/Users/neilbajaj/opt/anaconda3/lib/python3.9/site-packages/scipy/optimize/_linesearch.py:456: LineSearchWarning: The line search algorithm did not converge\n",
      "  warn('The line search algorithm did not converge', LineSearchWarning)\n",
      "/Users/neilbajaj/opt/anaconda3/lib/python3.9/site-packages/scipy/optimize/_linesearch.py:305: LineSearchWarning: The line search algorithm did not converge\n",
      "  warn('The line search algorithm did not converge', LineSearchWarning)\n",
      "/Users/neilbajaj/opt/anaconda3/lib/python3.9/site-packages/scipy/optimize/_linesearch.py:456: LineSearchWarning: The line search algorithm did not converge\n",
      "  warn('The line search algorithm did not converge', LineSearchWarning)\n",
      "/Users/neilbajaj/opt/anaconda3/lib/python3.9/site-packages/scipy/optimize/_linesearch.py:305: LineSearchWarning: The line search algorithm did not converge\n",
      "  warn('The line search algorithm did not converge', LineSearchWarning)\n",
      "/Users/neilbajaj/opt/anaconda3/lib/python3.9/site-packages/scipy/optimize/_linesearch.py:456: LineSearchWarning: The line search algorithm did not converge\n",
      "  warn('The line search algorithm did not converge', LineSearchWarning)\n",
      "/Users/neilbajaj/opt/anaconda3/lib/python3.9/site-packages/scipy/optimize/_linesearch.py:305: LineSearchWarning: The line search algorithm did not converge\n",
      "  warn('The line search algorithm did not converge', LineSearchWarning)\n",
      "/Users/neilbajaj/opt/anaconda3/lib/python3.9/site-packages/scipy/optimize/_linesearch.py:456: LineSearchWarning: The line search algorithm did not converge\n",
      "  warn('The line search algorithm did not converge', LineSearchWarning)\n",
      "/Users/neilbajaj/opt/anaconda3/lib/python3.9/site-packages/scipy/optimize/_linesearch.py:305: LineSearchWarning: The line search algorithm did not converge\n",
      "  warn('The line search algorithm did not converge', LineSearchWarning)\n",
      "/Users/neilbajaj/opt/anaconda3/lib/python3.9/site-packages/scipy/optimize/_linesearch.py:456: LineSearchWarning: The line search algorithm did not converge\n",
      "  warn('The line search algorithm did not converge', LineSearchWarning)\n",
      "/Users/neilbajaj/opt/anaconda3/lib/python3.9/site-packages/scipy/optimize/_linesearch.py:305: LineSearchWarning: The line search algorithm did not converge\n",
      "  warn('The line search algorithm did not converge', LineSearchWarning)\n",
      "/Users/neilbajaj/opt/anaconda3/lib/python3.9/site-packages/scipy/optimize/_linesearch.py:456: LineSearchWarning: The line search algorithm did not converge\n",
      "  warn('The line search algorithm did not converge', LineSearchWarning)\n",
      "/Users/neilbajaj/opt/anaconda3/lib/python3.9/site-packages/scipy/optimize/_linesearch.py:305: LineSearchWarning: The line search algorithm did not converge\n",
      "  warn('The line search algorithm did not converge', LineSearchWarning)\n",
      "/Users/neilbajaj/opt/anaconda3/lib/python3.9/site-packages/scipy/optimize/_linesearch.py:456: LineSearchWarning: The line search algorithm did not converge\n",
      "  warn('The line search algorithm did not converge', LineSearchWarning)\n",
      "/Users/neilbajaj/opt/anaconda3/lib/python3.9/site-packages/scipy/optimize/_linesearch.py:305: LineSearchWarning: The line search algorithm did not converge\n",
      "  warn('The line search algorithm did not converge', LineSearchWarning)\n",
      "/Users/neilbajaj/opt/anaconda3/lib/python3.9/site-packages/scipy/optimize/_linesearch.py:456: LineSearchWarning: The line search algorithm did not converge\n",
      "  warn('The line search algorithm did not converge', LineSearchWarning)\n",
      "/Users/neilbajaj/opt/anaconda3/lib/python3.9/site-packages/scipy/optimize/_linesearch.py:305: LineSearchWarning: The line search algorithm did not converge\n",
      "  warn('The line search algorithm did not converge', LineSearchWarning)\n",
      "/Users/neilbajaj/opt/anaconda3/lib/python3.9/site-packages/scipy/optimize/_linesearch.py:456: LineSearchWarning: The line search algorithm did not converge\n",
      "  warn('The line search algorithm did not converge', LineSearchWarning)\n",
      "/Users/neilbajaj/opt/anaconda3/lib/python3.9/site-packages/scipy/optimize/_linesearch.py:305: LineSearchWarning: The line search algorithm did not converge\n",
      "  warn('The line search algorithm did not converge', LineSearchWarning)\n",
      "/Users/neilbajaj/opt/anaconda3/lib/python3.9/site-packages/scipy/optimize/_linesearch.py:456: LineSearchWarning: The line search algorithm did not converge\n",
      "  warn('The line search algorithm did not converge', LineSearchWarning)\n",
      "/Users/neilbajaj/opt/anaconda3/lib/python3.9/site-packages/scipy/optimize/_linesearch.py:305: LineSearchWarning: The line search algorithm did not converge\n",
      "  warn('The line search algorithm did not converge', LineSearchWarning)\n",
      "/Users/neilbajaj/opt/anaconda3/lib/python3.9/site-packages/scipy/optimize/_linesearch.py:456: LineSearchWarning: The line search algorithm did not converge\n",
      "  warn('The line search algorithm did not converge', LineSearchWarning)\n",
      "/Users/neilbajaj/opt/anaconda3/lib/python3.9/site-packages/scipy/optimize/_linesearch.py:305: LineSearchWarning: The line search algorithm did not converge\n",
      "  warn('The line search algorithm did not converge', LineSearchWarning)\n",
      "/Users/neilbajaj/opt/anaconda3/lib/python3.9/site-packages/scipy/optimize/_linesearch.py:456: LineSearchWarning: The line search algorithm did not converge\n",
      "  warn('The line search algorithm did not converge', LineSearchWarning)\n",
      "/Users/neilbajaj/opt/anaconda3/lib/python3.9/site-packages/scipy/optimize/_linesearch.py:305: LineSearchWarning: The line search algorithm did not converge\n",
      "  warn('The line search algorithm did not converge', LineSearchWarning)\n",
      "/Users/neilbajaj/opt/anaconda3/lib/python3.9/site-packages/scipy/optimize/_linesearch.py:456: LineSearchWarning: The line search algorithm did not converge\n",
      "  warn('The line search algorithm did not converge', LineSearchWarning)\n",
      "/Users/neilbajaj/opt/anaconda3/lib/python3.9/site-packages/scipy/optimize/_linesearch.py:305: LineSearchWarning: The line search algorithm did not converge\n",
      "  warn('The line search algorithm did not converge', LineSearchWarning)\n",
      "/Users/neilbajaj/opt/anaconda3/lib/python3.9/site-packages/scipy/optimize/_linesearch.py:456: LineSearchWarning: The line search algorithm did not converge\n",
      "  warn('The line search algorithm did not converge', LineSearchWarning)\n",
      "/Users/neilbajaj/opt/anaconda3/lib/python3.9/site-packages/scipy/optimize/_linesearch.py:305: LineSearchWarning: The line search algorithm did not converge\n",
      "  warn('The line search algorithm did not converge', LineSearchWarning)\n"
     ]
    },
    {
     "name": "stdout",
     "output_type": "stream",
     "text": [
      "0.6480302427377637\n"
     ]
    },
    {
     "name": "stderr",
     "output_type": "stream",
     "text": [
      "/Users/neilbajaj/opt/anaconda3/lib/python3.9/site-packages/scipy/optimize/_linesearch.py:305: LineSearchWarning: The line search algorithm did not converge\n",
      "  warn('The line search algorithm did not converge', LineSearchWarning)\n",
      "/Users/neilbajaj/opt/anaconda3/lib/python3.9/site-packages/sklearn/utils/optimize.py:203: UserWarning: Line Search failed\n",
      "  warnings.warn(\"Line Search failed\")\n"
     ]
    }
   ],
   "source": [
    "# SAME AS ABOVE BUT NOW USING A NEW SOLVER WHICH IS NEWTON CG \n",
    "#OUR ACCUARACY IS SIGNIFIANTLY IMPROVED - NOW OUR ACCUARACY IS 64.8%\n",
    "\n",
    "#Just classifier no kfold or anything\n",
    "# Import Logistic Regression here\n",
    "from sklearn.linear_model import LogisticRegression\n",
    "#clf is the logistic rgression model\n",
    "clf = LogisticRegression(solver ='newton-cg', C = 1, random_state=0, penalty = \"l2\").fit(X_res, y_res)\n",
    "score = clf.score(X_test, y_test)\n",
    "print(score)"
   ]
  },
  {
   "cell_type": "code",
   "execution_count": 28,
   "metadata": {},
   "outputs": [
    {
     "name": "stdout",
     "output_type": "stream",
     "text": [
      "0.6273378432152805\n"
     ]
    }
   ],
   "source": [
    "# SAME AS ABOVE BUT NOW USING A NEW SOLVER WHICH IS LIBLINEAR \n",
    "#OUR ACCUARACY USING LIBLINEAR IS 62.7%\n",
    "\n",
    "#Just classifier no kfold or anything\n",
    "# Import Logistic Regression here\n",
    "from sklearn.linear_model import LogisticRegression\n",
    "#clf is the logistic rgression model\n",
    "clf = LogisticRegression(solver ='liblinear', C = 1, random_state=0, penalty = \"l2\").fit(X_res, y_res)\n",
    "score = clf.score(X_test, y_test)\n",
    "print(score)"
   ]
  },
  {
   "cell_type": "code",
   "execution_count": 29,
   "metadata": {},
   "outputs": [
    {
     "name": "stdout",
     "output_type": "stream",
     "text": [
      "0.004178272980501393\n"
     ]
    },
    {
     "name": "stderr",
     "output_type": "stream",
     "text": [
      "/Users/neilbajaj/opt/anaconda3/lib/python3.9/site-packages/sklearn/linear_model/_sag.py:352: ConvergenceWarning: The max_iter was reached which means the coef_ did not converge\n",
      "  warnings.warn(\n"
     ]
    }
   ],
   "source": [
    "# SAME AS ABOVE BUT NOW USING A NEW SOLVER WHICH IS saga - REMOVE, EXPLAIN WHY DIDNT USE\n",
    "# TERRIBLE MODEL DID NOT CONVERGE \n",
    "\n",
    "#Just classifier no kfold or anything\n",
    "# Import Logistic Regression here\n",
    "from sklearn.linear_model import LogisticRegression\n",
    "#clf is the logistic rgression model\n",
    "clf = LogisticRegression(solver ='sag', C = 1, random_state=0, penalty = \"l2\").fit(X_res, y_res)\n",
    "score = clf.score(X_test, y_test)\n",
    "print(score)"
   ]
  },
  {
   "cell_type": "code",
   "execution_count": 30,
   "metadata": {},
   "outputs": [],
   "source": [
    "#NOW TRYING TO USE SVM \n",
    "\n",
    "#SVM\n",
    "import numpy as np\n",
    "import matplotlib.pyplot as plt\n",
    "from sklearn.datasets import make_classification\n",
    "from sklearn.model_selection import train_test_split\n",
    "from sklearn.linear_model import LogisticRegression\n",
    "from sklearn.tree import DecisionTreeClassifier\n",
    "from sklearn.svm import SVC\n",
    "from sklearn.neighbors import KNeighborsClassifier\n",
    "from sklearn.ensemble import RandomForestClassifier\n",
    "from sklearn.metrics import accuracy_score, confusion_matrix, classification_report\n",
    "#from mlxtend.plotting import plot_decision_regions\n",
    "\n"
   ]
  },
  {
   "cell_type": "code",
   "execution_count": null,
   "metadata": {},
   "outputs": [],
   "source": [
    "#REMOVE\n",
    "#LINEAR SVM TAKING TOO LONG TO RUN \n",
    "#RADIAL SVM (RBF) GIVING SOME STUPID ERROR\n",
    "\n",
    "\n",
    "# Define and Fit your Model\n",
    "model = SVC(kernel='rbf', C=1000)\n",
    "model.fit(X_res, y_res)\n",
    "\n",
    "# Plot the Data and the Decision Boundary\n",
    "plt.scatter(X_res[:, 0], X_res[:, 1], c=y_res, s=50, cmap='Spectral')\n",
    "plot_svc_decision_function(model)\n"
   ]
  },
  {
   "cell_type": "code",
   "execution_count": 33,
   "metadata": {},
   "outputs": [],
   "source": [
    "#FINDING OUR BEST MODEL \n",
    "#USING SOME FEATURES TAUGHT IN LECTURE\n",
    "\n",
    "\n",
    "from sklearn.compose import ColumnTransformer\n",
    "from sklearn.compose import make_column_selector as selector\n",
    "from sklearn.preprocessing import OneHotEncoder, StandardScaler\n",
    "from sklearn.pipeline import Pipeline\n",
    "from sklearn.linear_model import LogisticRegression\n",
    "from sklearn.model_selection import train_test_split, GridSearchCV\n",
    "\n",
    "numerical_columns_selector = selector(dtype_exclude=object)\n",
    "categorical_columns_selector = selector(dtype_include=object)\n",
    "\n",
    "numerical_columns = numerical_columns_selector(X_res)\n",
    "categorical_columns = categorical_columns_selector(X_res)\n",
    "\n",
    "onehot = OneHotEncoder()\n",
    "scaler = StandardScaler()\n",
    "\n",
    "preprocessor = ColumnTransformer([\n",
    "    ('onehot', onehot, categorical_columns),\n",
    "    ('zscore', scaler, numerical_columns)])\n",
    "\n",
    "\n",
    "# Create a pipeline \n",
    "pipe = Pipeline([('make_features', preprocessor),\n",
    "                 ('classifier', LogisticRegression(solver='saga', max_iter=10000))])\n",
    "\n",
    "# Create search space of hyperparameters\n",
    "# the variable namespace looks like this\n",
    "# pipe.classifier.C is represented as 'classifier__C'\n",
    "# if we'd just chucked a LogisticRegression() in as the model\n",
    "# instead of a pipe, then we'd only have had 'C' w/o the 'classifier__' bit \n",
    "search_space = {'classifier__C': np.logspace(-4, 4, 9),\n",
    "               'classifier__penalty': ['l2', 'l1']}\n",
    "\n",
    "# Create a grid search object to find the best model\n",
    "best_model = GridSearchCV(pipe, search_space, cv=5, verbose=3)"
   ]
  },
  {
   "cell_type": "code",
   "execution_count": 35,
   "metadata": {},
   "outputs": [
    {
     "name": "stdout",
     "output_type": "stream",
     "text": [
      "Fitting 5 folds for each of 18 candidates, totalling 90 fits\n",
      "[CV 1/5] END classifier__C=0.0001, classifier__penalty=l2;, score=0.674 total time=   0.1s\n",
      "[CV 2/5] END classifier__C=0.0001, classifier__penalty=l2;, score=0.670 total time=   0.1s\n",
      "[CV 3/5] END classifier__C=0.0001, classifier__penalty=l2;, score=0.665 total time=   0.1s\n",
      "[CV 4/5] END classifier__C=0.0001, classifier__penalty=l2;, score=0.671 total time=   0.1s\n",
      "[CV 5/5] END classifier__C=0.0001, classifier__penalty=l2;, score=0.668 total time=   0.1s\n",
      "[CV 1/5] END classifier__C=0.0001, classifier__penalty=l1;, score=0.498 total time=   0.0s\n",
      "[CV 2/5] END classifier__C=0.0001, classifier__penalty=l1;, score=0.498 total time=   0.0s\n",
      "[CV 3/5] END classifier__C=0.0001, classifier__penalty=l1;, score=0.498 total time=   0.0s\n",
      "[CV 4/5] END classifier__C=0.0001, classifier__penalty=l1;, score=0.502 total time=   0.0s\n",
      "[CV 5/5] END classifier__C=0.0001, classifier__penalty=l1;, score=0.502 total time=   0.0s\n",
      "[CV 1/5] END classifier__C=0.001, classifier__penalty=l2;, score=0.682 total time=   0.1s\n",
      "[CV 2/5] END classifier__C=0.001, classifier__penalty=l2;, score=0.677 total time=   0.1s\n",
      "[CV 3/5] END classifier__C=0.001, classifier__penalty=l2;, score=0.674 total time=   0.1s\n",
      "[CV 4/5] END classifier__C=0.001, classifier__penalty=l2;, score=0.673 total time=   0.1s\n",
      "[CV 5/5] END classifier__C=0.001, classifier__penalty=l2;, score=0.673 total time=   0.1s\n",
      "[CV 1/5] END classifier__C=0.001, classifier__penalty=l1;, score=0.672 total time=   0.1s\n",
      "[CV 2/5] END classifier__C=0.001, classifier__penalty=l1;, score=0.663 total time=   0.1s\n",
      "[CV 3/5] END classifier__C=0.001, classifier__penalty=l1;, score=0.661 total time=   0.1s\n",
      "[CV 4/5] END classifier__C=0.001, classifier__penalty=l1;, score=0.664 total time=   0.1s\n",
      "[CV 5/5] END classifier__C=0.001, classifier__penalty=l1;, score=0.660 total time=   0.1s\n",
      "[CV 1/5] END classifier__C=0.01, classifier__penalty=l2;, score=0.684 total time=   0.1s\n",
      "[CV 2/5] END classifier__C=0.01, classifier__penalty=l2;, score=0.678 total time=   0.1s\n",
      "[CV 3/5] END classifier__C=0.01, classifier__penalty=l2;, score=0.676 total time=   0.1s\n",
      "[CV 4/5] END classifier__C=0.01, classifier__penalty=l2;, score=0.678 total time=   0.1s\n",
      "[CV 5/5] END classifier__C=0.01, classifier__penalty=l2;, score=0.677 total time=   0.1s\n",
      "[CV 1/5] END classifier__C=0.01, classifier__penalty=l1;, score=0.684 total time=   0.1s\n",
      "[CV 2/5] END classifier__C=0.01, classifier__penalty=l1;, score=0.678 total time=   0.1s\n",
      "[CV 3/5] END classifier__C=0.01, classifier__penalty=l1;, score=0.677 total time=   0.1s\n",
      "[CV 4/5] END classifier__C=0.01, classifier__penalty=l1;, score=0.675 total time=   0.1s\n",
      "[CV 5/5] END classifier__C=0.01, classifier__penalty=l1;, score=0.675 total time=   0.1s\n",
      "[CV 1/5] END classifier__C=0.1, classifier__penalty=l2;, score=0.687 total time=   0.1s\n",
      "[CV 2/5] END classifier__C=0.1, classifier__penalty=l2;, score=0.679 total time=   0.1s\n",
      "[CV 3/5] END classifier__C=0.1, classifier__penalty=l2;, score=0.677 total time=   0.1s\n",
      "[CV 4/5] END classifier__C=0.1, classifier__penalty=l2;, score=0.678 total time=   0.1s\n",
      "[CV 5/5] END classifier__C=0.1, classifier__penalty=l2;, score=0.676 total time=   0.1s\n",
      "[CV 1/5] END classifier__C=0.1, classifier__penalty=l1;, score=0.686 total time=   0.1s\n",
      "[CV 2/5] END classifier__C=0.1, classifier__penalty=l1;, score=0.678 total time=   0.1s\n",
      "[CV 3/5] END classifier__C=0.1, classifier__penalty=l1;, score=0.677 total time=   0.1s\n",
      "[CV 4/5] END classifier__C=0.1, classifier__penalty=l1;, score=0.678 total time=   0.1s\n",
      "[CV 5/5] END classifier__C=0.1, classifier__penalty=l1;, score=0.677 total time=   0.1s\n",
      "[CV 1/5] END classifier__C=1.0, classifier__penalty=l2;, score=0.687 total time=   0.1s\n",
      "[CV 2/5] END classifier__C=1.0, classifier__penalty=l2;, score=0.678 total time=   0.1s\n",
      "[CV 3/5] END classifier__C=1.0, classifier__penalty=l2;, score=0.677 total time=   0.1s\n",
      "[CV 4/5] END classifier__C=1.0, classifier__penalty=l2;, score=0.678 total time=   0.1s\n",
      "[CV 5/5] END classifier__C=1.0, classifier__penalty=l2;, score=0.677 total time=   0.1s\n",
      "[CV 1/5] END classifier__C=1.0, classifier__penalty=l1;, score=0.687 total time=   0.1s\n",
      "[CV 2/5] END classifier__C=1.0, classifier__penalty=l1;, score=0.678 total time=   0.1s\n",
      "[CV 3/5] END classifier__C=1.0, classifier__penalty=l1;, score=0.677 total time=   0.1s\n",
      "[CV 4/5] END classifier__C=1.0, classifier__penalty=l1;, score=0.678 total time=   0.1s\n",
      "[CV 5/5] END classifier__C=1.0, classifier__penalty=l1;, score=0.677 total time=   0.1s\n",
      "[CV 1/5] END classifier__C=10.0, classifier__penalty=l2;, score=0.686 total time=   0.1s\n",
      "[CV 2/5] END classifier__C=10.0, classifier__penalty=l2;, score=0.678 total time=   0.1s\n",
      "[CV 3/5] END classifier__C=10.0, classifier__penalty=l2;, score=0.675 total time=   0.1s\n",
      "[CV 4/5] END classifier__C=10.0, classifier__penalty=l2;, score=0.678 total time=   0.1s\n",
      "[CV 5/5] END classifier__C=10.0, classifier__penalty=l2;, score=0.677 total time=   0.1s\n",
      "[CV 1/5] END classifier__C=10.0, classifier__penalty=l1;, score=0.686 total time=   0.1s\n",
      "[CV 2/5] END classifier__C=10.0, classifier__penalty=l1;, score=0.678 total time=   0.1s\n",
      "[CV 3/5] END classifier__C=10.0, classifier__penalty=l1;, score=0.677 total time=   0.1s\n",
      "[CV 4/5] END classifier__C=10.0, classifier__penalty=l1;, score=0.678 total time=   0.1s\n",
      "[CV 5/5] END classifier__C=10.0, classifier__penalty=l1;, score=0.677 total time=   0.1s\n",
      "[CV 1/5] END classifier__C=100.0, classifier__penalty=l2;, score=0.686 total time=   0.1s\n",
      "[CV 2/5] END classifier__C=100.0, classifier__penalty=l2;, score=0.678 total time=   0.1s\n",
      "[CV 3/5] END classifier__C=100.0, classifier__penalty=l2;, score=0.677 total time=   0.1s\n",
      "[CV 4/5] END classifier__C=100.0, classifier__penalty=l2;, score=0.678 total time=   0.1s\n",
      "[CV 5/5] END classifier__C=100.0, classifier__penalty=l2;, score=0.677 total time=   0.1s\n",
      "[CV 1/5] END classifier__C=100.0, classifier__penalty=l1;, score=0.686 total time=   0.1s\n",
      "[CV 2/5] END classifier__C=100.0, classifier__penalty=l1;, score=0.678 total time=   0.1s\n",
      "[CV 3/5] END classifier__C=100.0, classifier__penalty=l1;, score=0.677 total time=   0.1s\n",
      "[CV 4/5] END classifier__C=100.0, classifier__penalty=l1;, score=0.678 total time=   0.1s\n",
      "[CV 5/5] END classifier__C=100.0, classifier__penalty=l1;, score=0.677 total time=   0.1s\n",
      "[CV 1/5] END classifier__C=1000.0, classifier__penalty=l2;, score=0.686 total time=   0.1s\n",
      "[CV 2/5] END classifier__C=1000.0, classifier__penalty=l2;, score=0.678 total time=   0.1s\n",
      "[CV 3/5] END classifier__C=1000.0, classifier__penalty=l2;, score=0.677 total time=   0.1s\n",
      "[CV 4/5] END classifier__C=1000.0, classifier__penalty=l2;, score=0.678 total time=   0.1s\n",
      "[CV 5/5] END classifier__C=1000.0, classifier__penalty=l2;, score=0.677 total time=   0.1s\n",
      "[CV 1/5] END classifier__C=1000.0, classifier__penalty=l1;, score=0.686 total time=   0.1s\n",
      "[CV 2/5] END classifier__C=1000.0, classifier__penalty=l1;, score=0.678 total time=   0.1s\n",
      "[CV 3/5] END classifier__C=1000.0, classifier__penalty=l1;, score=0.677 total time=   0.1s\n",
      "[CV 4/5] END classifier__C=1000.0, classifier__penalty=l1;, score=0.678 total time=   0.1s\n",
      "[CV 5/5] END classifier__C=1000.0, classifier__penalty=l1;, score=0.677 total time=   0.1s\n",
      "[CV 1/5] END classifier__C=10000.0, classifier__penalty=l2;, score=0.686 total time=   0.1s\n",
      "[CV 2/5] END classifier__C=10000.0, classifier__penalty=l2;, score=0.678 total time=   0.1s\n",
      "[CV 3/5] END classifier__C=10000.0, classifier__penalty=l2;, score=0.677 total time=   0.1s\n",
      "[CV 4/5] END classifier__C=10000.0, classifier__penalty=l2;, score=0.678 total time=   0.1s\n",
      "[CV 5/5] END classifier__C=10000.0, classifier__penalty=l2;, score=0.677 total time=   0.1s\n",
      "[CV 1/5] END classifier__C=10000.0, classifier__penalty=l1;, score=0.686 total time=   0.1s\n",
      "[CV 2/5] END classifier__C=10000.0, classifier__penalty=l1;, score=0.678 total time=   0.1s\n",
      "[CV 3/5] END classifier__C=10000.0, classifier__penalty=l1;, score=0.677 total time=   0.1s\n",
      "[CV 4/5] END classifier__C=10000.0, classifier__penalty=l1;, score=0.678 total time=   0.1s\n",
      "[CV 5/5] END classifier__C=10000.0, classifier__penalty=l1;, score=0.677 total time=   0.1s\n"
     ]
    },
    {
     "data": {
      "text/plain": [
       "GridSearchCV(cv=5,\n",
       "             estimator=Pipeline(steps=[('make_features',\n",
       "                                        ColumnTransformer(transformers=[('onehot',\n",
       "                                                                         OneHotEncoder(),\n",
       "                                                                         []),\n",
       "                                                                        ('zscore',\n",
       "                                                                         StandardScaler(),\n",
       "                                                                         ['Applicant_Age',\n",
       "                                                                          'Owned_Realty',\n",
       "                                                                          'Total_Children',\n",
       "                                                                          'Owned_Car',\n",
       "                                                                          'Total_Income',\n",
       "                                                                          'Total_Family_Members'])])),\n",
       "                                       ('classifier',\n",
       "                                        LogisticRegression(max_iter=10000,\n",
       "                                                           solver='saga'))]),\n",
       "             param_grid={'classifier__C': array([1.e-04, 1.e-03, 1.e-02, 1.e-01, 1.e+00, 1.e+01, 1.e+02, 1.e+03,\n",
       "       1.e+04]),\n",
       "                         'classifier__penalty': ['l2', 'l1']},\n",
       "             verbose=3)"
      ]
     },
     "execution_count": 35,
     "metadata": {},
     "output_type": "execute_result"
    }
   ],
   "source": [
    "#FITTING OUR BEST MODEL \n",
    "#FINDING THE BEST ACCUARACY \n",
    "\n",
    "X_train2, X_test2, y_train2, y_test2 = train_test_split(X_res, y_res, \n",
    "                                                    test_size=0.2, random_state=101)\n",
    "\n",
    "\n",
    "# Fit grid search\n",
    "best_model.fit(X_train2, y_train2)"
   ]
  },
  {
   "cell_type": "code",
   "execution_count": 36,
   "metadata": {},
   "outputs": [
    {
     "data": {
      "text/plain": [
       "({'classifier__C': 1.0, 'classifier__penalty': 'l2'}, 0.6794361818465864)"
      ]
     },
     "execution_count": 36,
     "metadata": {},
     "output_type": "execute_result"
    },
    {
     "name": "stdout",
     "output_type": "stream",
     "text": [
      "[CV 1/25] END ...........................C=0.01;, score=0.478 total time=   0.1s\n",
      "[CV 16/25] END ..........................C=0.01;, score=0.500 total time=   0.0s\n",
      "[CV 19/25] END ..........................C=0.01;, score=0.479 total time=   0.1s\n",
      "[CV 1/25] END ...........................C=0.05;, score=0.478 total time=   0.1s\n",
      "[CV 7/25] END ...........................C=0.05;, score=0.560 total time=   0.1s\n",
      "[CV 22/25] END ..........................C=0.05;, score=0.492 total time=   0.1s\n",
      "[CV 4/25] END .............................C=10;, score=0.505 total time=   0.0s\n",
      "[CV 7/25] END .............................C=10;, score=0.560 total time=   0.2s\n",
      "[CV 3/25] END ...........................C=0.01;, score=0.488 total time=   0.1s\n",
      "[CV 14/25] END ..........................C=0.01;, score=0.506 total time=   0.1s\n",
      "[CV 18/25] END ..........................C=0.01;, score=0.495 total time=   0.1s\n",
      "[CV 2/25] END ...........................C=0.05;, score=0.500 total time=   0.1s\n",
      "[CV 14/25] END ..........................C=0.05;, score=0.506 total time=   0.0s\n",
      "[CV 18/25] END ..........................C=0.05;, score=0.495 total time=   0.1s\n",
      "[CV 3/25] END .............................C=10;, score=0.488 total time=   0.1s\n",
      "[CV 12/25] END ............................C=10;, score=0.489 total time=   0.1s\n",
      "[CV 17/25] END ............................C=10;, score=0.503 total time=   0.0s\n",
      "[CV 7/25] END ...........................C=0.01;, score=0.559 total time=   0.2s\n",
      "[CV 23/25] END ..........................C=0.01;, score=0.483 total time=   0.1s\n",
      "[CV 5/25] END ...........................C=0.05;, score=0.489 total time=   0.1s\n",
      "[CV 13/25] END ..........................C=0.05;, score=0.502 total time=   0.0s\n",
      "[CV 10/25] END ............................C=10;, score=0.487 total time=   0.1s\n",
      "[CV 21/25] END ............................C=10;, score=0.492 total time=   0.0s\n",
      "[CV 8/25] END ...........................C=0.01;, score=0.504 total time=   0.0s\n",
      "[CV 11/25] END ..........................C=0.01;, score=0.488 total time=   0.1s\n",
      "[CV 20/25] END ..........................C=0.01;, score=0.502 total time=   0.0s\n",
      "[CV 24/25] END ..........................C=0.01;, score=0.506 total time=   0.0s\n",
      "[CV 3/25] END ...........................C=0.05;, score=0.488 total time=   0.1s\n",
      "[CV 9/25] END ...........................C=0.05;, score=0.497 total time=   0.0s\n",
      "[CV 12/25] END ..........................C=0.05;, score=0.489 total time=   0.1s\n",
      "[CV 20/25] END ..........................C=0.05;, score=0.502 total time=   0.0s\n",
      "[CV 24/25] END ..........................C=0.05;, score=0.506 total time=   0.0s\n",
      "[CV 2/25] END .............................C=10;, score=0.500 total time=   0.1s\n",
      "[CV 9/25] END .............................C=10;, score=0.497 total time=   0.0s\n",
      "[CV 13/25] END ............................C=10;, score=0.502 total time=   0.0s\n",
      "[CV 19/25] END ............................C=10;, score=0.479 total time=   0.1s\n",
      "[CV 4/25] END ...........................C=0.01;, score=0.505 total time=   0.0s\n",
      "[CV 9/25] END ...........................C=0.01;, score=0.497 total time=   0.1s\n",
      "[CV 12/25] END ..........................C=0.01;, score=0.489 total time=   0.1s\n",
      "[CV 11/25] END ..........................C=0.05;, score=0.488 total time=   0.1s\n",
      "[CV 17/25] END ..........................C=0.05;, score=0.503 total time=   0.0s\n",
      "[CV 21/25] END ..........................C=0.05;, score=0.492 total time=   0.0s\n",
      "[CV 8/25] END .............................C=10;, score=0.504 total time=   0.0s\n",
      "[CV 15/25] END ............................C=10;, score=0.501 total time=   0.0s\n",
      "[CV 20/25] END ............................C=10;, score=0.502 total time=   0.0s\n",
      "[CV 24/25] END ............................C=10;, score=0.506 total time=   0.0s\n",
      "[CV 2/25] END ...........................C=0.01;, score=0.500 total time=   0.1s\n",
      "[CV 13/25] END ..........................C=0.01;, score=0.502 total time=   0.0s\n",
      "[CV 17/25] END ..........................C=0.01;, score=0.503 total time=   0.0s\n",
      "[CV 21/25] END ..........................C=0.01;, score=0.492 total time=   0.0s\n",
      "[CV 25/25] END ..........................C=0.01;, score=0.493 total time=   0.1s\n",
      "[CV 6/25] END ...........................C=0.05;, score=0.504 total time=   0.0s\n",
      "[CV 10/25] END ..........................C=0.05;, score=0.487 total time=   0.1s\n",
      "[CV 16/25] END ..........................C=0.05;, score=0.500 total time=   0.0s\n",
      "[CV 23/25] END ..........................C=0.05;, score=0.483 total time=   0.1s\n",
      "[CV 5/25] END .............................C=10;, score=0.489 total time=   0.1s\n",
      "[CV 14/25] END ............................C=10;, score=0.506 total time=   0.0s\n",
      "[CV 22/25] END ............................C=10;, score=0.492 total time=   0.1s\n",
      "[CV 6/25] END ...........................C=0.01;, score=0.504 total time=   0.0s\n",
      "[CV 10/25] END ..........................C=0.01;, score=0.487 total time=   0.1s\n",
      "[CV 25/25] END ..........................C=0.05;, score=0.493 total time=   0.1s\n",
      "[CV 6/25] END .............................C=10;, score=0.504 total time=   0.0s\n",
      "[CV 16/25] END ............................C=10;, score=0.500 total time=   0.0s\n",
      "[CV 23/25] END ............................C=10;, score=0.483 total time=   0.1s\n",
      "[CV 5/25] END ...........................C=0.01;, score=0.489 total time=   0.1s\n",
      "[CV 15/25] END ..........................C=0.01;, score=0.501 total time=   0.0s\n",
      "[CV 22/25] END ..........................C=0.01;, score=0.492 total time=   0.1s\n",
      "[CV 4/25] END ...........................C=0.05;, score=0.505 total time=   0.0s\n",
      "[CV 8/25] END ...........................C=0.05;, score=0.504 total time=   0.0s\n",
      "[CV 15/25] END ..........................C=0.05;, score=0.501 total time=   0.0s\n",
      "[CV 19/25] END ..........................C=0.05;, score=0.479 total time=   0.1s\n",
      "[CV 1/25] END .............................C=10;, score=0.478 total time=   0.1s\n",
      "[CV 11/25] END ............................C=10;, score=0.488 total time=   0.1s\n",
      "[CV 18/25] END ............................C=10;, score=0.495 total time=   0.1s\n",
      "[CV 25/25] END ............................C=10;, score=0.493 total time=   0.1s\n"
     ]
    }
   ],
   "source": [
    "#THIS IS OUR BEST MODEL \n",
    "#IT HAS C = 1, PENALTY = L2, ACCUARACY SCORE OF 67.94% \n",
    "#USING CROSS VALIDATION \n",
    "\n",
    "\n",
    "# hay our best model has these params, and it turns out its cross validation score was perfect!\n",
    "# note how sklearn does this... once it determines the best version of the classifier\n",
    "# it refits those parameters on ALL of `X_train`... \n",
    "# in other worsds it doesn't just leave the last cross validaiton fold version hanging around :)\n",
    "best_model.best_params_, best_model.best_score_"
   ]
  },
  {
   "cell_type": "code",
   "execution_count": 37,
   "metadata": {},
   "outputs": [
    {
     "data": {
      "text/html": [
       "<div>\n",
       "<style scoped>\n",
       "    .dataframe tbody tr th:only-of-type {\n",
       "        vertical-align: middle;\n",
       "    }\n",
       "\n",
       "    .dataframe tbody tr th {\n",
       "        vertical-align: top;\n",
       "    }\n",
       "\n",
       "    .dataframe thead th {\n",
       "        text-align: right;\n",
       "    }\n",
       "</style>\n",
       "<table border=\"1\" class=\"dataframe\">\n",
       "  <thead>\n",
       "    <tr style=\"text-align: right;\">\n",
       "      <th></th>\n",
       "      <th>C</th>\n",
       "      <th>penalty</th>\n",
       "      <th>accuracy</th>\n",
       "    </tr>\n",
       "  </thead>\n",
       "  <tbody>\n",
       "    <tr>\n",
       "      <th>0</th>\n",
       "      <td>0.0001</td>\n",
       "      <td>l2</td>\n",
       "      <td>0.669500</td>\n",
       "    </tr>\n",
       "    <tr>\n",
       "      <th>1</th>\n",
       "      <td>0.0001</td>\n",
       "      <td>l1</td>\n",
       "      <td>0.499672</td>\n",
       "    </tr>\n",
       "    <tr>\n",
       "      <th>2</th>\n",
       "      <td>0.0010</td>\n",
       "      <td>l2</td>\n",
       "      <td>0.675686</td>\n",
       "    </tr>\n",
       "    <tr>\n",
       "      <th>3</th>\n",
       "      <td>0.0010</td>\n",
       "      <td>l1</td>\n",
       "      <td>0.663813</td>\n",
       "    </tr>\n",
       "    <tr>\n",
       "      <th>4</th>\n",
       "      <td>0.0100</td>\n",
       "      <td>l2</td>\n",
       "      <td>0.678655</td>\n",
       "    </tr>\n",
       "    <tr>\n",
       "      <th>5</th>\n",
       "      <td>0.0100</td>\n",
       "      <td>l1</td>\n",
       "      <td>0.677874</td>\n",
       "    </tr>\n",
       "    <tr>\n",
       "      <th>6</th>\n",
       "      <td>0.1000</td>\n",
       "      <td>l2</td>\n",
       "      <td>0.679436</td>\n",
       "    </tr>\n",
       "    <tr>\n",
       "      <th>7</th>\n",
       "      <td>0.1000</td>\n",
       "      <td>l1</td>\n",
       "      <td>0.679311</td>\n",
       "    </tr>\n",
       "    <tr>\n",
       "      <th>8</th>\n",
       "      <td>1.0000</td>\n",
       "      <td>l2</td>\n",
       "      <td>0.679436</td>\n",
       "    </tr>\n",
       "    <tr>\n",
       "      <th>9</th>\n",
       "      <td>1.0000</td>\n",
       "      <td>l1</td>\n",
       "      <td>0.679405</td>\n",
       "    </tr>\n",
       "    <tr>\n",
       "      <th>10</th>\n",
       "      <td>10.0000</td>\n",
       "      <td>l2</td>\n",
       "      <td>0.678843</td>\n",
       "    </tr>\n",
       "    <tr>\n",
       "      <th>11</th>\n",
       "      <td>10.0000</td>\n",
       "      <td>l1</td>\n",
       "      <td>0.679186</td>\n",
       "    </tr>\n",
       "    <tr>\n",
       "      <th>12</th>\n",
       "      <td>100.0000</td>\n",
       "      <td>l2</td>\n",
       "      <td>0.679186</td>\n",
       "    </tr>\n",
       "    <tr>\n",
       "      <th>13</th>\n",
       "      <td>100.0000</td>\n",
       "      <td>l1</td>\n",
       "      <td>0.679280</td>\n",
       "    </tr>\n",
       "    <tr>\n",
       "      <th>14</th>\n",
       "      <td>1000.0000</td>\n",
       "      <td>l2</td>\n",
       "      <td>0.679217</td>\n",
       "    </tr>\n",
       "    <tr>\n",
       "      <th>15</th>\n",
       "      <td>1000.0000</td>\n",
       "      <td>l1</td>\n",
       "      <td>0.679186</td>\n",
       "    </tr>\n",
       "    <tr>\n",
       "      <th>16</th>\n",
       "      <td>10000.0000</td>\n",
       "      <td>l2</td>\n",
       "      <td>0.679186</td>\n",
       "    </tr>\n",
       "    <tr>\n",
       "      <th>17</th>\n",
       "      <td>10000.0000</td>\n",
       "      <td>l1</td>\n",
       "      <td>0.679186</td>\n",
       "    </tr>\n",
       "  </tbody>\n",
       "</table>\n",
       "</div>"
      ],
      "text/plain": [
       "             C penalty  accuracy\n",
       "0       0.0001      l2  0.669500\n",
       "1       0.0001      l1  0.499672\n",
       "2       0.0010      l2  0.675686\n",
       "3       0.0010      l1  0.663813\n",
       "4       0.0100      l2  0.678655\n",
       "5       0.0100      l1  0.677874\n",
       "6       0.1000      l2  0.679436\n",
       "7       0.1000      l1  0.679311\n",
       "8       1.0000      l2  0.679436\n",
       "9       1.0000      l1  0.679405\n",
       "10     10.0000      l2  0.678843\n",
       "11     10.0000      l1  0.679186\n",
       "12    100.0000      l2  0.679186\n",
       "13    100.0000      l1  0.679280\n",
       "14   1000.0000      l2  0.679217\n",
       "15   1000.0000      l1  0.679186\n",
       "16  10000.0000      l2  0.679186\n",
       "17  10000.0000      l1  0.679186"
      ]
     },
     "execution_count": 37,
     "metadata": {},
     "output_type": "execute_result"
    },
    {
     "data": {
      "image/png": "[encoded data removed]",
      "text/plain": [
       "<Figure size 640x480 with 2 Axes>"
      ]
     },
     "metadata": {},
     "output_type": "display_data"
    }
   ],
   "source": [
    "#PREVIEWING EVERY MODEL WE CHECKED\n",
    "#PRINTING OUT RESULTS THAT CONSIST OF C VALUE, PENALTY AND ACCURACY \n",
    "#USING CHART TO DISPLAY OUR RESULTS\n",
    "\n",
    "\n",
    "results = pd.DataFrame( best_model.cv_results_['params'] )\n",
    "\n",
    "# next grab the score resulting from those parameters, add it to the data\n",
    "# score is accuracy; to display it as misclassification error we could use 1 - x\n",
    "results['accuracy'] = best_model.cv_results_['mean_test_score']\n",
    "\n",
    "# get rid of classifier__XX in columns\n",
    "cols = results.columns.to_series().str.split('__').apply(lambda x: x[-1])\n",
    "results.columns = cols\n",
    "\n",
    "# lets show the results across penalty & C values\n",
    "sns.heatmap( results.pivot('C','penalty','accuracy'),\n",
    "             annot=True, fmt='3.2f')\n",
    "\n",
    "results"
   ]
  },
  {
   "cell_type": "code",
   "execution_count": 38,
   "metadata": {},
   "outputs": [
    {
     "name": "stdout",
     "output_type": "stream",
     "text": [
      "Average difference of 0.000017 with std. dev. of 0.000038.\n"
     ]
    },
    {
     "data": {
      "image/png": "[encoded data removed]",
      "text/plain": [
       "<Figure size 640x480 with 2 Axes>"
      ]
     },
     "metadata": {},
     "output_type": "display_data"
    }
   ],
   "source": [
    "#NOT A MODEL JUST COMPARING TWO DIFFERENT MODELS TO SEE WHICH ONE IS BETTER\n",
    "\n",
    "# this code is from sklearn docs\n",
    "# 20x it does both a non-nested and a nested cross val on the same data\n",
    "# the two techniques are compared in their average error across the 20x loop\n",
    "\n",
    "\n",
    "from sklearn.model_selection import GridSearchCV\n",
    "from sklearn.linear_model import LogisticRegression\n",
    "from sklearn.model_selection import KFold, cross_val_score\n",
    "\n",
    "import matplotlib.pyplot as plt\n",
    "\n",
    "# Number of random trials\n",
    "NUM_TRIALS = 20  #WHY 20\n",
    "\n",
    "\n",
    "# Set up possible values of parameters to optimize over\n",
    "# this is a regularization parameter, smaller C => more regularization\n",
    "p_grid = {\"classifier__C\": [1, 10, 100,  1000]}\n",
    "\n",
    "\n",
    "# Arrays to store scores\n",
    "non_nested_scores = np.zeros(NUM_TRIALS)\n",
    "nested_scores = np.zeros(NUM_TRIALS)\n",
    "\n",
    "# Loop for each trial\n",
    "for i in range(NUM_TRIALS):\n",
    "\n",
    "    # Choose cross-validation techniques for the inner and outer loops,\n",
    "    # independently of the dataset.\n",
    "    # E.g \"GroupKFold\", \"LeaveOneOut\", \"LeaveOneGroupOut\", etc.\n",
    "    inner_cv = KFold(n_splits=3, shuffle=True, random_state=i)\n",
    "    outer_cv = KFold(n_splits=3, shuffle=True, random_state=i)\n",
    "\n",
    "    # Non_nested parameter search and scoring\n",
    "    clf = GridSearchCV(estimator=pipe, param_grid=p_grid, cv=inner_cv)\n",
    "    clf.fit(X_res, y_res)\n",
    "    non_nested_scores[i] = clf.best_score_\n",
    "\n",
    "    # Nested CV with parameter optimization\n",
    "    nested_score = cross_val_score(clf, X=X_res, y=y_res, cv=outer_cv)\n",
    "    nested_scores[i] = nested_score.mean()\n",
    "\n",
    "score_difference = non_nested_scores - nested_scores\n",
    "\n",
    "print(\"Average difference of {:6f} with std. dev. of {:6f}.\"\n",
    "      .format(score_difference.mean(), score_difference.std()))\n",
    "\n",
    "# Plot scores on each trial for nested and non-nested CV\n",
    "plt.figure()\n",
    "plt.subplot(211)\n",
    "non_nested_scores_line, = plt.plot(non_nested_scores, color='r')\n",
    "nested_line, = plt.plot(nested_scores, color='b')\n",
    "plt.ylabel(\"score\", fontsize=\"14\")\n",
    "plt.legend([non_nested_scores_line, nested_line],\n",
    "           [\"Non-Nested CV\", \"Nested CV\"],\n",
    "           bbox_to_anchor=(1, 0, 0, .8)) #(0, .4, .5, 0))\n",
    "plt.title(\"Non-Nested and Nested Cross Validation predicting penguin species from measurements\",\n",
    "          x=.5, y=1.1, fontsize=\"15\")\n",
    "\n",
    "# Plot bar chart of the difference.\n",
    "plt.subplot(212)\n",
    "difference_plot = plt.bar(range(NUM_TRIALS), score_difference)\n",
    "plt.xlabel(\"Individual Trial #\")\n",
    "plt.legend([difference_plot],\n",
    "           [\"Non-Nested CV - Nested CV Score\"],\n",
    "           bbox_to_anchor=(1, 0, 0, .8))\n",
    "plt.ylabel(\"score difference\", fontsize=\"14\")\n",
    "\n",
    "plt.show()"
   ]
  },
  {
   "cell_type": "code",
   "execution_count": null,
   "metadata": {},
   "outputs": [],
   "source": []
  },
  {
   "cell_type": "code",
   "execution_count": null,
   "metadata": {},
   "outputs": [],
   "source": [
    "#NO CODE BELOW THIS IS NEEDED - DELETE"
   ]
  },
  {
   "cell_type": "code",
   "execution_count": null,
   "metadata": {},
   "outputs": [],
   "source": []
  },
  {
   "cell_type": "markdown",
   "metadata": {},
   "source": [
    "# Proposed Solution\n",
    "\n",
    "Our proposed solution to predicting whether individuals get approved for a credit card and understanding what variables play a role in making that decision is to use classifiers based on the techniques we’ve learnt in class. \n",
    "First, we will use k-fold validation to determine our model of choice by validating over logistic classifiers/ regression, naive Bayes, Linear SVM, kernel ridge regression with l1, l2, and elastic net penalty. We will choose the model that gives us the highest accuracy score. \n",
    "We are using K-fold validation since with the train-validation-test model split we always run the issue of overfitting on the training data. K-fold validation instead trains and evaluates on all available data by splitting the data amongst each fold training on that and testing on the rest. \n",
    "We are using logistic classifiers/ regression, naive Bayes, Linear SVM, and kernel ridge regression since they are machine learning classifiers. Our proposed problem is to predict whether to approve a credit card for an applicant based on a variety of factors that were asked on their application. This is a yes or no question which makes it a binary classification task. As a result, it makes a lot of sense to use machine learning classification algorithms that can also be used to solve binary classification problems like the algorithms above. We are using these specific algorithms since we are familiar with these algorithms and understand how to run and evaluate them effectively. Furthermore, we use L1, L2, and elasticnet penalty on kernel ridge regression since these are regularization terms that will curb overfitting and make generalization better. \n",
    "With the chosen model we will validate across parameters. In the case of logistic regression, we will validate over the values of C = [0.01, 0.1, 1, 10, 100] to find our best model. \n",
    "For Naive Bayes, we will validate over Gaussian Naive Bayes and Multinomial Naive Bayes and choose our alpha from the following values - [0.01,0.05, 0.1, 0.2, 0.25].\n",
    "For Linear SVM, we will validate over different kernel functions - 'linear', 'poly', 'rbf', and 'sigmoid' and we will choose over values of C = [0.01, 0.1, 1, 10, 100] to find the best model. \n",
    "For Kernel Ridge, we will validate over the following values of alpha - [0.01, 0.1, 1.0, 10.0, 100.0], the kernel functions of linear, polynomial, and RBF and related kernel-specific parameters.\n",
    "Our extensive search over the models and their parameters will make our classification model accurate. As our dataset is not super large, we are not as concerned about computational efficiency - something to improve on while expanding on the project. \n",
    "We will finally train our model and test it to see its accuracy and compare it to existing models available on Kaggle to compare our performance. We will set up a confusion matrix to see how the model fares and plot the ROC/AUC. \n"
   ]
  },
  {
   "cell_type": "markdown",
   "metadata": {},
   "source": [
    "# Evaluation Metrics\n",
    "\n",
    "We will use both precision and recall metrics to evaluate our model as both false negatives and false positives are of significant concern to our model. A credit card company would need to maximize eligible customers to increase revenue by minimizing the number of false negatives and also would need to minimize the number of individuals who may default to cut losses hence minimizing the false positives. Since neither one of the metrics is more important to our model, we will additionally use the f1 score which incorporates both precision and recall to finally measure the performance of our model. \n"
   ]
  },
  {
   "cell_type": "markdown",
   "metadata": {},
   "source": [
    "# Preliminary results\n"
   ]
  },
  {
   "cell_type": "markdown",
   "metadata": {},
   "source": [
    "This dataset is extremely suited for this problem since it has a column which is Status which tells based on the previous columns whether or not the credit card request was approved. This was also a dataset of over 10,000 datapoints which is good for our algorithm. We explained the reasoning for our algorithms in another section and our baseline is if its greater than the mean than we accept it. This is our baseline of baselines. Afterwards we will do do k-fold and use that as the baseline to test our hyperparameters and parameters in order to select the best models. "
   ]
  },
  {
   "cell_type": "code",
   "execution_count": null,
   "metadata": {},
   "outputs": [],
   "source": [
    "#next is making all columns which arent numerical numerical\n",
    "#first we will check \"which columns arent numerical\n",
    "credit.dtypes"
   ]
  },
  {
   "cell_type": "code",
   "execution_count": null,
   "metadata": {},
   "outputs": [],
   "source": [
    "#credit = credit.drop(columns = ['Applicant_Gender', 'Housing_Type', 'Education_Type','Family_Status'])\n",
    "credit"
   ]
  },
  {
   "cell_type": "code",
   "execution_count": null,
   "metadata": {},
   "outputs": [],
   "source": []
  },
  {
   "cell_type": "code",
   "execution_count": null,
   "metadata": {},
   "outputs": [],
   "source": [
    "#from the above we see that Applicant_Gender , Housing_Type , Education_Type , Family_Status\n",
    "#check the unique values for applicant_gender\n",
    "credit['Applicant_Gender'].unique()\n",
    "#from below we see that its male or female"
   ]
  },
  {
   "cell_type": "code",
   "execution_count": null,
   "metadata": {},
   "outputs": [],
   "source": [
    "#credit['Applicant_Gender'] = credit['Applicant_Gender'] == 'M'"
   ]
  },
  {
   "cell_type": "code",
   "execution_count": null,
   "metadata": {},
   "outputs": [],
   "source": [
    "credit['Applicant_Gender'] = credit['Applicant_Gender'].replace('M      ',1)\n",
    "credit['Applicant_Gender'] = credit['Applicant_Gender'].replace('F      ',0)\n",
    "credit"
   ]
  },
  {
   "cell_type": "code",
   "execution_count": null,
   "metadata": {},
   "outputs": [],
   "source": [
    "credit.head()"
   ]
  },
  {
   "cell_type": "code",
   "execution_count": null,
   "metadata": {},
   "outputs": [],
   "source": [
    "def one_hot_encode(x:np.ndarray):\n",
    "    # your code here\n",
    "    uniqueValues = np.unique(x) #so the unique is not the same each time which can cause the names of the columns to be\n",
    "    #incorrect so we will first sort it\n",
    "    numUnique = len(np.unique(x))\n",
    "    #print(sizeOfArrays)\n",
    "    #print(type(uniqueValues))\n",
    "    #oneHot = np.zeros((numUnique, len(x)))\n",
    "    oneHot = np.zeros((len(x), numUnique))\n",
    "    #print(uniqueValues)\n",
    "    i = 0\n",
    "    for val in x:\n",
    "        oneHot[i][np.where(uniqueValues == val)[0][0]] = 1\n",
    "        i += 1\n",
    "    #print(oneHot)\n",
    "    return uniqueValues, oneHot;"
   ]
  },
  {
   "cell_type": "code",
   "execution_count": null,
   "metadata": {},
   "outputs": [],
   "source": [
    "#housing one hot encoding\n",
    "housing = credit['Housing_Type']\n",
    "housing = np.array(list(housing))\n",
    "housing\n",
    "print(type(housing))\n"
   ]
  },
  {
   "cell_type": "code",
   "execution_count": null,
   "metadata": {},
   "outputs": [],
   "source": [
    "namesForOneHotHousing, oneHotHousing = one_hot_encode(housing)\n",
    "#oneHotHousing = arrHouse[:]\n",
    "#namesForOneHotHousing = arrHouse[0]\n",
    "print(namesForOneHotHousing)\n",
    "print(oneHotHousing)\n",
    "print(oneHotHousing.shape)"
   ]
  },
  {
   "cell_type": "code",
   "execution_count": null,
   "metadata": {},
   "outputs": [],
   "source": [
    "sum(oneHotHousing[:,1])\n",
    "print(sum((oneHotHousing))) #just shows how many in each category"
   ]
  },
  {
   "cell_type": "code",
   "execution_count": null,
   "metadata": {},
   "outputs": [],
   "source": [
    "#namesForOneHotHousing = credit['Housing_Type'].unique()\n",
    "print(namesForOneHotHousing[0])\n",
    "for i in range(oneHotHousing.shape[1]):\n",
    "    credit[namesForOneHotHousing[i]] = oneHotHousing[:,i]"
   ]
  },
  {
   "cell_type": "code",
   "execution_count": null,
   "metadata": {},
   "outputs": [],
   "source": [
    "credit.head()"
   ]
  },
  {
   "cell_type": "code",
   "execution_count": null,
   "metadata": {},
   "outputs": [],
   "source": [
    "#okay next is education type\n",
    "#education one hot encoding\n",
    "education = credit['Education_Type']\n",
    "education = np.array(list(education))\n",
    "education\n",
    "print(type(education))\n"
   ]
  },
  {
   "cell_type": "code",
   "execution_count": null,
   "metadata": {},
   "outputs": [],
   "source": [
    "namesForOneHotEducation, oneHotEducation = one_hot_encode(education)\n",
    "#oneHotHousing = arrHouse[:]\n",
    "#namesForOneHotHousing = arrHouse[0]\n",
    "print(namesForOneHotEducation)\n",
    "print(oneHotEducation)\n",
    "print(oneHotEducation.shape)"
   ]
  },
  {
   "cell_type": "code",
   "execution_count": null,
   "metadata": {},
   "outputs": [],
   "source": [
    "sum(oneHotEducation[:,1])\n",
    "print(sum((oneHotEducation))) #just shows how many in each category\n",
    "print(sum(sum(oneHotEducation)))"
   ]
  },
  {
   "cell_type": "code",
   "execution_count": null,
   "metadata": {},
   "outputs": [],
   "source": [
    "print(namesForOneHotEducation[0])\n",
    "for i in range(oneHotEducation.shape[1]):\n",
    "    credit[namesForOneHotEducation[i]] = oneHotEducation[:,i]\n",
    "credit.head()"
   ]
  },
  {
   "cell_type": "code",
   "execution_count": null,
   "metadata": {},
   "outputs": [],
   "source": [
    "#next is family status\n",
    "family = credit['Family_Status']\n",
    "family = np.array(list(family))\n",
    "family\n",
    "print(type(family))"
   ]
  },
  {
   "cell_type": "code",
   "execution_count": null,
   "metadata": {},
   "outputs": [],
   "source": [
    "namesForOneHotFamily, oneHotFamily = one_hot_encode(family)\n",
    "#oneHotHousing = arrHouse[:]\n",
    "#namesForOneHotHousing = arrHouse[0]\n",
    "print(namesForOneHotFamily)\n",
    "print(oneHotFamily)\n",
    "print(oneHotFamily.shape)"
   ]
  },
  {
   "cell_type": "code",
   "execution_count": null,
   "metadata": {},
   "outputs": [],
   "source": [
    "sum(oneHotFamily[:,1])\n",
    "print(sum((oneHotFamily))) #just shows how many in each category\n",
    "print(sum(sum(oneHotFamily)))"
   ]
  },
  {
   "cell_type": "code",
   "execution_count": null,
   "metadata": {},
   "outputs": [],
   "source": [
    "#next is Family_Status\n",
    "credit['Family_Status'].unique()"
   ]
  },
  {
   "cell_type": "code",
   "execution_count": null,
   "metadata": {},
   "outputs": [],
   "source": [
    "print(namesForOneHotFamily[0])\n",
    "for i in range(oneHotFamily.shape[1]):\n",
    "    credit[namesForOneHotFamily[i]] = oneHotFamily[:,i]\n",
    "credit.head()"
   ]
  },
  {
   "cell_type": "code",
   "execution_count": null,
   "metadata": {},
   "outputs": [],
   "source": [
    "credit.shape"
   ]
  },
  {
   "cell_type": "code",
   "execution_count": null,
   "metadata": {},
   "outputs": [],
   "source": [
    "credit['Education_Type'].unique()"
   ]
  },
  {
   "cell_type": "code",
   "execution_count": null,
   "metadata": {},
   "outputs": [],
   "source": [
    "credit = credit.drop(columns=['Education_Type','Family_Status','Housing_Type'])"
   ]
  },
  {
   "cell_type": "code",
   "execution_count": null,
   "metadata": {},
   "outputs": [],
   "source": [
    "credit['Applicant_Gender'].unique()"
   ]
  },
  {
   "cell_type": "code",
   "execution_count": null,
   "metadata": {},
   "outputs": [],
   "source": [
    "credit.dtypes"
   ]
  },
  {
   "cell_type": "code",
   "execution_count": null,
   "metadata": {},
   "outputs": [],
   "source": [
    "credit.head()"
   ]
  },
  {
   "cell_type": "code",
   "execution_count": null,
   "metadata": {},
   "outputs": [],
   "source": [
    "#credit.shape()"
   ]
  },
  {
   "cell_type": "code",
   "execution_count": null,
   "metadata": {},
   "outputs": [],
   "source": [
    "from imblearn.over_sampling import SMOTE\n",
    "sm = SMOTE(random_state=42)\n",
    "X_res, y_res = sm.fit_resample(X_train, y_train)"
   ]
  },
  {
   "cell_type": "code",
   "execution_count": null,
   "metadata": {},
   "outputs": [],
   "source": [
    " #now we are done one hot encoding everything"
   ]
  },
  {
   "cell_type": "code",
   "execution_count": null,
   "metadata": {},
   "outputs": [],
   "source": [
    "#!pip install imblearn\n",
    "#!pip install sklearn"
   ]
  },
  {
   "cell_type": "code",
   "execution_count": null,
   "metadata": {},
   "outputs": [],
   "source": [
    "from sklearn.model_selection import train_test_split\n",
    "from sklearn.preprocessing import OneHotEncoder\n",
    "from imblearn.over_sampling import ADASYN\n",
    "from imblearn.pipeline import make_pipeline\n",
    "from sklearn.compose import make_column_transformer\n",
    "from sklearn.ensemble import RandomForestClassifier\n",
    "\n",
    "# Split data into train and test sets\n",
    "X_train, X_test, y_train, y_test = train_test_split(credit.drop('Status', axis=1),\n",
    "                                                    credit['Status'],\n",
    "                                                    test_size=0.2,\n",
    "                                                    random_state=123)\n",
    "\n",
    "# Define column transformer for categorical features\n",
    "categorical_features = ['Applicant_Gender', 'Owned_Car', 'Owned_Realty', 'Income_Type',\n",
    "                     'Owned_Mobile_Phone',\n",
    "                        'Owned_Work_Phone', 'Owned_Phone', 'Owned_Email', 'Job_Title']\n",
    "\n",
    "preprocessor = make_column_transformer((OneHotEncoder(handle_unknown='ignore'), categorical_features))\n",
    "\n",
    "# Define ADASYN pipeline with random forest classifier\n",
    "pipeline = make_pipeline(preprocessor, ADASYN(random_state=123), RandomForestClassifier(random_state=123))\n",
    "#pipeline = make_pipeline(ADASYN(random_state=123))\n",
    "\n",
    "# Fit pipeline to training data\n",
    "pipeline.fit(X_train, y_train)\n",
    "#"
   ]
  },
  {
   "cell_type": "code",
   "execution_count": null,
   "metadata": {},
   "outputs": [],
   "source": [
    "#next is visualization\n",
    "credit.head()\n",
    "X_train.shape"
   ]
  },
  {
   "cell_type": "code",
   "execution_count": null,
   "metadata": {},
   "outputs": [],
   "source": [
    "#Base Model is  just if the income is better than the mean than approve otherwise don't\n",
    "\n",
    "\n",
    "#train test split\n",
    "from sklearn.model_selection import train_test_split\n",
    "\n",
    "train, test = train_test_split(credit, test_size=0.2)"
   ]
  },
  {
   "cell_type": "code",
   "execution_count": null,
   "metadata": {},
   "outputs": [],
   "source": [
    "print(train.shape)\n",
    "train.head()\n"
   ]
  },
  {
   "cell_type": "code",
   "execution_count": null,
   "metadata": {},
   "outputs": [],
   "source": [
    "print(test.shape)\n",
    "test.head()"
   ]
  },
  {
   "cell_type": "code",
   "execution_count": null,
   "metadata": {},
   "outputs": [],
   "source": [
    "train_income_mean = train['Total_Income'].mean()\n",
    "print(train_income_mean)"
   ]
  },
  {
   "cell_type": "code",
   "execution_count": null,
   "metadata": {},
   "outputs": [],
   "source": []
  },
  {
   "cell_type": "code",
   "execution_count": null,
   "metadata": {},
   "outputs": [],
   "source": [
    "gThanM = [1 if i >= train_income_mean else 0 for i in train['Total_Income']]"
   ]
  },
  {
   "cell_type": "code",
   "execution_count": null,
   "metadata": {},
   "outputs": [],
   "source": [
    "train['prediction'] = gThanM"
   ]
  },
  {
   "cell_type": "code",
   "execution_count": null,
   "metadata": {},
   "outputs": [],
   "source": [
    "train.head()"
   ]
  },
  {
   "cell_type": "code",
   "execution_count": null,
   "metadata": {},
   "outputs": [],
   "source": [
    "y_true_num = list(train['Status'])\n",
    "y_pred_num = list(train['prediction'])\n",
    "#print(y_pred_num)"
   ]
  },
  {
   "cell_type": "code",
   "execution_count": null,
   "metadata": {},
   "outputs": [],
   "source": [
    "fp = 0\n",
    "tp = 0\n",
    "fn = 0\n",
    "tn = 0\n",
    "\n",
    "tpPoints = []\n",
    "xTp = []\n",
    "fpPoints = []\n",
    "xFp = []\n",
    "fnPoints = []\n",
    "xFn = []\n",
    "tnPoints = []\n",
    "xTn = []\n",
    "\n",
    "for i in range (len(y_true_num)):\n",
    "    if y_true_num[i] == 1 and y_pred_num[i] == 1:\n",
    "        tp += 1\n",
    "        tpPoints.append(credit['Total_Income'].iloc[i])\n",
    "        xTp.append(i)\n",
    "        #tpPoints.append(credits['Total_Income'][i]) #fix this doesnt make sense\n",
    "    if y_true_num[i] == 0 and y_pred_num[i] == 1:\n",
    "        fp += 1\n",
    "        fpPoints.append(credit['Total_Income'].iloc[i])\n",
    "        xFp.append(i)\n",
    "        #fpPoints.append(y_true_)\n",
    "    if y_true_num[i] == 1 and y_pred_num[i] == 0:\n",
    "        fn += 1\n",
    "        fnPoints.append(credit['Total_Income'].iloc[i])\n",
    "        xFn.append(i)\n",
    "    if y_true_num[i] == 0 and y_pred_num[i] == 0:\n",
    "        tn += 1\n",
    "        tnPoints.append(credit['Total_Income'].iloc[i])\n",
    "        xTn.append(i)\n",
    "        \n",
    "\n",
    "precision = float (tp) / float(tp + fp)\n",
    "recall = float(tp) / float(tp + fn)\n",
    "        #precision1 = precision_score(y_true_num, y_pred_num)\n",
    "        #print(precision1)\n",
    "        #print(precision)\n",
    "#precise[j] = precision\n",
    "    #j += 1\n",
    "print(\"Precision: \", precision)\n",
    "print()\n",
    "print(\"Recall: \", recall)\n",
    "print()\n",
    "print(\"False Positive: \", fp)\n",
    "print()\n",
    "print(\"False Negative: \", fn)\n",
    "print()\n",
    "f1 = 2*precision *recall / (precision + recall)\n",
    "print(\"F1 Score: \", f1)"
   ]
  },
  {
   "cell_type": "markdown",
   "metadata": {},
   "source": [
    "An extrememly low f1 score indicates the baseline isnt great which is what we are aiming for but its a start and what we should beat at the very least"
   ]
  },
  {
   "cell_type": "code",
   "execution_count": null,
   "metadata": {},
   "outputs": [],
   "source": [
    "#Next comes the graph for this\n",
    "plt.scatter(xTp, tpPoints, color = 'green', label=\"True Positive\")\n",
    "plt.scatter(xFp, fpPoints, color = 'yellow', label=\"False Positive\")\n",
    "plt.scatter(xFn, fnPoints, color = 'blue', label = \"False Negatives\")\n",
    "plt.scatter(xTn, tnPoints, color = 'red', label = \"True Negatives\")\n",
    "plt.legend([\"True Positive\" , \"False Positive\", \"False Negative\", \"True Negative\"], ncol = 4 )\n",
    "plt.figure(figsize=(10000,10000))\n",
    "#plt.show()"
   ]
  },
  {
   "cell_type": "code",
   "execution_count": null,
   "metadata": {},
   "outputs": [],
   "source": [
    "#for our graphs we can use an ROC Curve to evaluate since we are doing a binary classification task\n",
    "#it make sense to compare the tpr to the fpr as the roc curve does\n",
    "\n",
    "\n",
    "#same with doing any of the validation methods like kfold validation or gridsearch their methods only work on methods which\n",
    "#use some sort of classifier"
   ]
  },
  {
   "cell_type": "markdown",
   "metadata": {},
   "source": [
    "# Ethics & Privacy"
   ]
  },
  {
   "cell_type": "markdown",
   "metadata": {},
   "source": [
    "We referenced the ethics checklist at https://deon.drivendata.org. We have no knowledge of the data collection process since we are using a publicly available dataset at Kaggle, however, we do know that no names are part of the dataset since each applicant was identified by their  ID which protects them. One of the ethical issues with this data is that some information such as the name and date of birth can be identifiable,even though this data set has omitted such private information by using unidentifiable id numbers and age instead of the date of birth.  We haven’t gotten towards the modeling or the deployment therefore we can’t answer the ethics of these two yet. However, basing off of our base model we see that false negatives are a large ethical concern for us as many individuals are considered ineligible by just comparing income. Making our model robust with other economic and credit-worthy factors such as car and home ownership as well as number of family members can help predict individuals who can pay off credit debt more accurately. This ethical corncern will get addressed once a more robust and complex model is in place which takes many factors into account. We will continue to monitor this concern within our model by tracking false positivity rates more closely. Additionally, one confounding variable that could impact our data is race. This variable could possibly be biasing our data, however this variable is not tracked within our dataset hence it is difficult to evaluate whether it is biasing our data and hence biaisng our model. This can be resolved if our model is implemented and trained on data which tracks racial characteristics to further understand the bias.\n"
   ]
  },
  {
   "cell_type": "markdown",
   "metadata": {},
   "source": [
    "# Team Expectations "
   ]
  },
  {
   "cell_type": "markdown",
   "metadata": {},
   "source": [
    "- *We will communicate multiple times a week through our messages groupchat to collaborate on the project components.*\n",
    "- *We have set aside weekly meetings to work together in person and online via Zoom.* \n",
    "- *We expect to split all components equally and have multiple people working on different sections of the project to have the best output.*\n",
    "\n"
   ]
  },
  {
   "cell_type": "markdown",
   "metadata": {},
   "source": [
    "# Project Timeline Proposal"
   ]
  },
  {
   "cell_type": "markdown",
   "metadata": {},
   "source": [
    "| Meeting Date  | Meeting Time| Completed Before Meeting  | Discuss at Meeting |\n",
    "|---|---|---|---|\n",
    "| 2/19  |  6 PM |  Brainstorm topics/questions. Everyone brought different project ideas to the meeting.  | Discussed different project ideas; Finalized topic for the project;  discuss hypothesis; began background research | \n",
    "| 2/20  |  N/A |  Found background information. |Presented the background information we found. | \n",
    "| 2/21  | 6 PM  | Edit, finalize, and submit proposal; Search for datasets   | Discuss Wrangling and possible analytical approaches; Assign group members to lead each specific part; Figured out timeline to work for the project |\n",
    "| 2/28  | 6 PM  | Import & Wrangle Data, do  EDA |Review/Edit wrangling/EDA; Discuss Analysis Plan |\n",
    "| 3/1  | 6 PM  | Finalize wrangling/EDA; Begin programming for project |Discuss/edit project code; Complete project |\n",
    "| 3/13  | NA  | Complete analysis; Draft results/conclusion/discussion | Discuss/edit full project |\n",
    "| 3/22  | Before 11:59 PM  | NA | Turn in Final Project  |"
   ]
  },
  {
   "cell_type": "markdown",
   "metadata": {},
   "source": [
    "# Footnotes\n",
    "<a name=\"lorenznote\"></a>1.[^](#lorenz): Hemkiran, S., et al. “Design of Automatic Credit Card Approval System Using Machine Learning.” SpringerLink, Springer Singapore, 1 Jan. 1970, https://link.springer.com/chapter/10.1007/978-981-16-6448-9_1. <br> \n",
    "<a name=\"admonishnote\"></a>2.[^](#admonish): Kibria, Golam, and Mehmet Sevkli. “Application of Deep Learning for Credit Card Approval: A Comparison ...” Application of Deep Learning for Credit Card Approval: A Comparison with Two Machine Learning Techniques, https://www.researchgate.net/profile/Md-Kibria-12/publication/348755769_Application_of_Deep_Learning_for_Credit_Card_Approval_A_Comparison_with_Two_Machine_Learning_Techniques/links/600f495f92851c13fe39bb38/Application-of-Deep-Learning-for-Credit-Card-Approval-A-Comparison-with-Two-Machine-Learning-Techniques.pdf?origin=publication_detail. <br>\n",
    "<a name=\"sotanote\"></a>3.[^](#sota):Markova, Maya. “Credit Card Approval Model: An Application of Deep Neural Networks.” AIP Publishing, AIP Publishing LLC AIP Publishing, 24 Feb. 2021, https://aip.scitation.org/doi/abs/10.1063/5.0040744?journalCode=apc. \n"
   ]
  },
  {
   "cell_type": "code",
   "execution_count": null,
   "metadata": {},
   "outputs": [],
   "source": []
  },
  {
   "cell_type": "code",
   "execution_count": null,
   "metadata": {},
   "outputs": [],
   "source": []
  },
  {
   "cell_type": "code",
   "execution_count": null,
   "metadata": {},
   "outputs": [],
   "source": []
  }
 ],
 "metadata": {
  "kernelspec": {
   "display_name": "Python 3 (ipykernel)",
   "language": "python",
   "name": "python3"
  },
  "language_info": {
   "codemirror_mode": {
    "name": "ipython",
    "version": 3
   },
   "file_extension": ".py",
   "mimetype": "text/x-python",
   "name": "python",
   "nbconvert_exporter": "python",
   "pygments_lexer": "ipython3",
   "version": "3.9.13"
  }
 },
 "nbformat": 4,
 "nbformat_minor": 2
}
