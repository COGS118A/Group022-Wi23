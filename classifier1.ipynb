{
 "cells": [
  {
   "cell_type": "markdown",
   "metadata": {},
   "source": [
    "# COGS 118A - Project Checkpoint"
   ]
  },
  {
   "cell_type": "markdown",
   "metadata": {},
   "source": [
    "# Names\n",
    "\n",
    "- Neil Bajaj\n",
    "- Pratheek Sankeshi\n",
    "- Shenova Davis\n",
    "- Ria Singh\n"
   ]
  },
  {
   "cell_type": "markdown",
   "metadata": {},
   "source": [
    "# Abstract \n",
    "The goal of this project is to predict whether to approve a credit card for an applicant based on a variety of factors that were asked on their application. We will predict using a machine learning algorithm. The data we will be using is from the Kaggle dataset: A Credit Card Dataset for Machine Learning. The link is https://www.kaggle.com/datasets/caesarmario/application-data/. We will be using factors such as Total Income, Education Type, Applicant Age, etc. More will be described in the data section. Furthermore, we will drop unnecessary columns like Owned Phone, Owned Email, etc while also replacing null values to perform EDA. We will then run various supervised machine learning algorithms to create models to predict the data and use the best one. The performance will be measured on how accurately we predict the data against the status column of the data which is whether the application was approved or not. \n"
   ]
  },
  {
   "cell_type": "markdown",
   "metadata": {},
   "source": [
    "# Background\n",
    "\n",
    "As we get deeper into the age of Big Data, we see that, where possible, we are attempting to move from human evaluation to machine learning prediction. There has also been an uptick in the number of credit card defaulters. Using this logic, credit card companies need a new way to decide whether or not to approve credit cards based on prior history. \n",
    "\n",
    "A previous study done by Dr. Hemkiran[1] evaluated whether applicants should be approved for a credit card by using a Logistic Regression with and without a grid search technique. They found that using a grid search technique improved the competency of their model. Additionally, they also used an Artificial Neural Network (ANN) and found it to be better than the linear regression model. Another study by Dr. Kibria[2] aimed to create a deep learning model to aid credit card approval decision-making. They also used a logistic regression model and a support vector machine (SVM) model to compare their results. They found that the deep learning model was better than the logistic regression and SVM models. However, the ANN model and deep learning model are more computationally expensive and time-consuming. \n",
    "\n",
    "We are attempting to create a predictive machine learning model that models whether or not the application has the right credentials to have their credit card application approved using the following variables: Applicant Gender, Owned property, Total Children, Owned Car, Total Income, Housing Type, Total Family Members, Applicant Age, Education Type, and Family Status. This is to avoid future credit card defaulters. We will use models such as Naive Bayes Classifier, Linear SVM, and Linear Regression and use them to compare our model’s performance as well. \n"
   ]
  },
  {
   "cell_type": "markdown",
   "metadata": {},
   "source": [
    "# Problem Statement\n",
    "\n",
    "We are building this model to measure if there are any discrepancies when approving credit card applications. We additionally want to check if we could use big data and machine learning to build a model that predicts if a credit card is approved or not. This would take out human bias from the equation and make sure every application is fairly reviewed. Creating a machine learning model will attempt to eliminate the human bias towards race, class, gender, etc - an issue that plagues the financial ratings of individuals. Additionally, a machine-learning system can significantly reduce the human power and costs of a credit card company, increasing revenue. If our model can accurately predict whether an application can be accepted, we could conclude our hypothesis. This problem is quantifiable since we are trying to model a binary predictor. This problem is measurable because we would be using the metric of accuracy to validate the performance of our model. Lastly, our model is replicable because we could run it on different datasets and check its accuracy on each dataset. The model we will create will be composed of supervised machine-learning algorithms and techniques such as logistic regression, linear SVM, K fold validation, etc. We will train our model on previously collected data from credit card companies to understand what attributes make an individual more or less likely to get approved for a credit card. \n"
   ]
  },
  {
   "cell_type": "markdown",
   "metadata": {},
   "source": [
    "# Data\n",
    "\n",
    "\n",
    "- Link for our data: https://www.kaggle.com/datasets/caesarmario/application-data\n",
    "\n",
    "- This data set has about 25,100 observations with 21 variables. \n",
    "\n",
    "- The variables that will be used are Applicant Gender, Owned property, Total Children, Owned Car, Total Income, Housing Type, Total Family Members, Applicant Age, Education Type, and Family Status. \n",
    "\n",
    "- The dataset we are using has already been cleaned to drop any data points with null values and yet the dataset remains robust so we will not be addressing it any further.\n",
    "\n",
    "- We will additionally drop all the features that we will not be using to further declutter the dataset.\n",
    "\n",
    "- In addition to cleaning we one hot encoded all other categorical data which wasn't already binary which is displayed below\n",
    "\n"
   ]
  },
  {
   "cell_type": "code",
   "execution_count": 1,
   "metadata": {},
   "outputs": [],
   "source": [
    "import pandas as pd\n",
    "import numpy as np\n",
    "import os\n",
    "import matplotlib.pyplot as plt\n",
    "import seaborn as sns    \n",
    "from matplotlib.pyplot import figure\n",
    "import sklearn\n",
    "import numpy as np\n",
    "import matplotlib.pyplot as plt\n",
    "from scipy import stats\n",
    "# use seaborn plotting defaults\n",
    "import seaborn as sns; sns.set()\n",
    "from sklearn.datasets import make_blobs\n",
    "\n",
    "import matplotlib.pyplot as plt\n",
    "from sklearn.datasets import make_classification\n",
    "from sklearn.model_selection import train_test_split\n",
    "from sklearn.linear_model import LogisticRegression\n",
    "from sklearn.tree import DecisionTreeClassifier\n",
    "from sklearn.svm import SVC\n",
    "from sklearn.neighbors import KNeighborsClassifier\n",
    "from sklearn.ensemble import RandomForestClassifier\n",
    "from sklearn.metrics import accuracy_score, confusion_matrix, classification_report\n",
    "\n",
    "#models importing\n",
    "from sklearn.linear_model import LogisticRegression\n",
    "from sklearn.model_selection import train_test_split\n",
    "from sklearn.naive_bayes import GaussianNB \n",
    "\n",
    "#linear svm stuff\n",
    "from sklearn.svm import LinearSVC\n",
    "from sklearn.pipeline import make_pipeline\n",
    "from sklearn.preprocessing import StandardScaler\n",
    "from sklearn.datasets import make_classification\n",
    "\n",
    "from sklearn.kernel_ridge import KernelRidge"
   ]
  },
  {
   "cell_type": "code",
   "execution_count": 2,
   "metadata": {},
   "outputs": [
    {
     "data": {
      "text/html": [
       "<div>\n",
       "<style scoped>\n",
       "    .dataframe tbody tr th:only-of-type {\n",
       "        vertical-align: middle;\n",
       "    }\n",
       "\n",
       "    .dataframe tbody tr th {\n",
       "        vertical-align: top;\n",
       "    }\n",
       "\n",
       "    .dataframe thead th {\n",
       "        text-align: right;\n",
       "    }\n",
       "</style>\n",
       "<table border=\"1\" class=\"dataframe\">\n",
       "  <thead>\n",
       "    <tr style=\"text-align: right;\">\n",
       "      <th></th>\n",
       "      <th>Applicant_ID</th>\n",
       "      <th>Applicant_Gender</th>\n",
       "      <th>Owned_Car</th>\n",
       "      <th>Owned_Realty</th>\n",
       "      <th>Total_Children</th>\n",
       "      <th>Total_Income</th>\n",
       "      <th>Income_Type</th>\n",
       "      <th>Education_Type</th>\n",
       "      <th>Family_Status</th>\n",
       "      <th>Housing_Type</th>\n",
       "      <th>...</th>\n",
       "      <th>Owned_Work_Phone</th>\n",
       "      <th>Owned_Phone</th>\n",
       "      <th>Owned_Email</th>\n",
       "      <th>Job_Title</th>\n",
       "      <th>Total_Family_Members</th>\n",
       "      <th>Applicant_Age</th>\n",
       "      <th>Years_of_Working</th>\n",
       "      <th>Total_Bad_Debt</th>\n",
       "      <th>Total_Good_Debt</th>\n",
       "      <th>Status</th>\n",
       "    </tr>\n",
       "  </thead>\n",
       "  <tbody>\n",
       "    <tr>\n",
       "      <th>0</th>\n",
       "      <td>5008806</td>\n",
       "      <td>M</td>\n",
       "      <td>1</td>\n",
       "      <td>1</td>\n",
       "      <td>0</td>\n",
       "      <td>112500</td>\n",
       "      <td>Working                                       ...</td>\n",
       "      <td>Secondary / secondary special                 ...</td>\n",
       "      <td>Married                                       ...</td>\n",
       "      <td>House / apartment                             ...</td>\n",
       "      <td>...</td>\n",
       "      <td>0</td>\n",
       "      <td>0</td>\n",
       "      <td>0</td>\n",
       "      <td>Security staff                                ...</td>\n",
       "      <td>2</td>\n",
       "      <td>59</td>\n",
       "      <td>4</td>\n",
       "      <td>0</td>\n",
       "      <td>30</td>\n",
       "      <td>1</td>\n",
       "    </tr>\n",
       "    <tr>\n",
       "      <th>1</th>\n",
       "      <td>5008808</td>\n",
       "      <td>F</td>\n",
       "      <td>0</td>\n",
       "      <td>1</td>\n",
       "      <td>0</td>\n",
       "      <td>270000</td>\n",
       "      <td>Commercial associate                          ...</td>\n",
       "      <td>Secondary / secondary special                 ...</td>\n",
       "      <td>Single / not married                          ...</td>\n",
       "      <td>House / apartment                             ...</td>\n",
       "      <td>...</td>\n",
       "      <td>0</td>\n",
       "      <td>1</td>\n",
       "      <td>1</td>\n",
       "      <td>Sales staff                                   ...</td>\n",
       "      <td>1</td>\n",
       "      <td>53</td>\n",
       "      <td>9</td>\n",
       "      <td>0</td>\n",
       "      <td>5</td>\n",
       "      <td>1</td>\n",
       "    </tr>\n",
       "    <tr>\n",
       "      <th>2</th>\n",
       "      <td>5008809</td>\n",
       "      <td>F</td>\n",
       "      <td>0</td>\n",
       "      <td>1</td>\n",
       "      <td>0</td>\n",
       "      <td>270000</td>\n",
       "      <td>Commercial associate                          ...</td>\n",
       "      <td>Secondary / secondary special                 ...</td>\n",
       "      <td>Single / not married                          ...</td>\n",
       "      <td>House / apartment                             ...</td>\n",
       "      <td>...</td>\n",
       "      <td>0</td>\n",
       "      <td>1</td>\n",
       "      <td>1</td>\n",
       "      <td>Sales staff                                   ...</td>\n",
       "      <td>1</td>\n",
       "      <td>53</td>\n",
       "      <td>9</td>\n",
       "      <td>0</td>\n",
       "      <td>5</td>\n",
       "      <td>1</td>\n",
       "    </tr>\n",
       "    <tr>\n",
       "      <th>3</th>\n",
       "      <td>5008810</td>\n",
       "      <td>F</td>\n",
       "      <td>0</td>\n",
       "      <td>1</td>\n",
       "      <td>0</td>\n",
       "      <td>270000</td>\n",
       "      <td>Commercial associate                          ...</td>\n",
       "      <td>Secondary / secondary special                 ...</td>\n",
       "      <td>Single / not married                          ...</td>\n",
       "      <td>House / apartment                             ...</td>\n",
       "      <td>...</td>\n",
       "      <td>0</td>\n",
       "      <td>1</td>\n",
       "      <td>1</td>\n",
       "      <td>Sales staff                                   ...</td>\n",
       "      <td>1</td>\n",
       "      <td>53</td>\n",
       "      <td>9</td>\n",
       "      <td>0</td>\n",
       "      <td>27</td>\n",
       "      <td>1</td>\n",
       "    </tr>\n",
       "    <tr>\n",
       "      <th>4</th>\n",
       "      <td>5008811</td>\n",
       "      <td>F</td>\n",
       "      <td>0</td>\n",
       "      <td>1</td>\n",
       "      <td>0</td>\n",
       "      <td>270000</td>\n",
       "      <td>Commercial associate                          ...</td>\n",
       "      <td>Secondary / secondary special                 ...</td>\n",
       "      <td>Single / not married                          ...</td>\n",
       "      <td>House / apartment                             ...</td>\n",
       "      <td>...</td>\n",
       "      <td>0</td>\n",
       "      <td>1</td>\n",
       "      <td>1</td>\n",
       "      <td>Sales staff                                   ...</td>\n",
       "      <td>1</td>\n",
       "      <td>53</td>\n",
       "      <td>9</td>\n",
       "      <td>0</td>\n",
       "      <td>39</td>\n",
       "      <td>1</td>\n",
       "    </tr>\n",
       "  </tbody>\n",
       "</table>\n",
       "<p>5 rows × 21 columns</p>\n",
       "</div>"
      ],
      "text/plain": [
       "   Applicant_ID Applicant_Gender  Owned_Car  Owned_Realty  Total_Children  \\\n",
       "0       5008806          M                1             1               0   \n",
       "1       5008808          F                0             1               0   \n",
       "2       5008809          F                0             1               0   \n",
       "3       5008810          F                0             1               0   \n",
       "4       5008811          F                0             1               0   \n",
       "\n",
       "   Total_Income                                        Income_Type  \\\n",
       "0        112500  Working                                       ...   \n",
       "1        270000  Commercial associate                          ...   \n",
       "2        270000  Commercial associate                          ...   \n",
       "3        270000  Commercial associate                          ...   \n",
       "4        270000  Commercial associate                          ...   \n",
       "\n",
       "                                      Education_Type  \\\n",
       "0  Secondary / secondary special                 ...   \n",
       "1  Secondary / secondary special                 ...   \n",
       "2  Secondary / secondary special                 ...   \n",
       "3  Secondary / secondary special                 ...   \n",
       "4  Secondary / secondary special                 ...   \n",
       "\n",
       "                                       Family_Status  \\\n",
       "0  Married                                       ...   \n",
       "1  Single / not married                          ...   \n",
       "2  Single / not married                          ...   \n",
       "3  Single / not married                          ...   \n",
       "4  Single / not married                          ...   \n",
       "\n",
       "                                        Housing_Type  ...  Owned_Work_Phone  \\\n",
       "0  House / apartment                             ...  ...                 0   \n",
       "1  House / apartment                             ...  ...                 0   \n",
       "2  House / apartment                             ...  ...                 0   \n",
       "3  House / apartment                             ...  ...                 0   \n",
       "4  House / apartment                             ...  ...                 0   \n",
       "\n",
       "   Owned_Phone  Owned_Email  \\\n",
       "0            0            0   \n",
       "1            1            1   \n",
       "2            1            1   \n",
       "3            1            1   \n",
       "4            1            1   \n",
       "\n",
       "                                           Job_Title Total_Family_Members  \\\n",
       "0  Security staff                                ...                    2   \n",
       "1  Sales staff                                   ...                    1   \n",
       "2  Sales staff                                   ...                    1   \n",
       "3  Sales staff                                   ...                    1   \n",
       "4  Sales staff                                   ...                    1   \n",
       "\n",
       "   Applicant_Age  Years_of_Working  Total_Bad_Debt  Total_Good_Debt  Status  \n",
       "0             59                 4               0               30       1  \n",
       "1             53                 9               0                5       1  \n",
       "2             53                 9               0                5       1  \n",
       "3             53                 9               0               27       1  \n",
       "4             53                 9               0               39       1  \n",
       "\n",
       "[5 rows x 21 columns]"
      ]
     },
     "execution_count": 2,
     "metadata": {},
     "output_type": "execute_result"
    }
   ],
   "source": [
    "credit  = pd.read_csv('Application_Data.csv')\n",
    "credit.head()"
   ]
  },
  {
   "cell_type": "code",
   "execution_count": 3,
   "metadata": {},
   "outputs": [
    {
     "name": "stdout",
     "output_type": "stream",
     "text": [
      "0.004815345431391276\n"
     ]
    }
   ],
   "source": [
    "status = credit['Status']\n",
    "status_0_len = len(status[status==0])\n",
    "status_1_len = len(status[status==1])\n",
    "print(status_0_len/len(status))"
   ]
  },
  {
   "cell_type": "code",
   "execution_count": 4,
   "metadata": {},
   "outputs": [
    {
     "data": {
      "text/plain": [
       "'\\nMODELS TO USE \\n- LOGISTIC REGRESSION / CLASSIFIER \\n- ADA BOOST \\n- GRADIENT BOOST \\n- RANDOM FOREST \\n- SVM ?\\n'"
      ]
     },
     "execution_count": 4,
     "metadata": {},
     "output_type": "execute_result"
    }
   ],
   "source": [
    "#note: we noticed here that the datset mainly leading to approving the credit card, we cannot use a regualr model\n",
    "# because the best one would be just approving the credit card application every time. \n",
    "\n",
    "#we need to find a model that takes care of imbalanced data and looking fo that we found pyCaret. \n",
    "#we could also use scikit learn for this. \n",
    "\n",
    "#SMOTE\n",
    "#ADASYN\n",
    "\n",
    "'''\n",
    "MODELS TO USE \n",
    "- LOGISTIC REGRESSION / CLASSIFIER \n",
    "- ADA BOOST \n",
    "- GRADIENT BOOST \n",
    "- RANDOM FOREST \n",
    "- SVM ?\n",
    "'''"
   ]
  },
  {
   "cell_type": "code",
   "execution_count": 5,
   "metadata": {},
   "outputs": [
    {
     "data": {
      "text/plain": [
       "Applicant_ID             int64\n",
       "Applicant_Gender        object\n",
       "Owned_Car                int64\n",
       "Owned_Realty             int64\n",
       "Total_Children           int64\n",
       "Total_Income             int64\n",
       "Income_Type             object\n",
       "Education_Type          object\n",
       "Family_Status           object\n",
       "Housing_Type            object\n",
       "Owned_Mobile_Phone       int64\n",
       "Owned_Work_Phone         int64\n",
       "Owned_Phone              int64\n",
       "Owned_Email              int64\n",
       "Job_Title               object\n",
       "Total_Family_Members     int64\n",
       "Applicant_Age            int64\n",
       "Years_of_Working         int64\n",
       "Total_Bad_Debt           int64\n",
       "Total_Good_Debt          int64\n",
       "Status                   int64\n",
       "dtype: object"
      ]
     },
     "execution_count": 5,
     "metadata": {},
     "output_type": "execute_result"
    }
   ],
   "source": [
    "credit.dtypes"
   ]
  },
  {
   "cell_type": "code",
   "execution_count": 6,
   "metadata": {},
   "outputs": [],
   "source": [
    "#first we will only keep columns that we need. These columns are covered under Data along with \n",
    "#status which says whether or not it was approved\n",
    "credit = credit[[\"Applicant_Gender\", \"Applicant_Age\",\"Owned_Realty\",\n",
    "                 \"Total_Children\", \"Owned_Car\", \"Total_Income\", \"Housing_Type\",\n",
    "                 \"Total_Family_Members\", \"Education_Type\", \"Family_Status\", 'Status', 'Total_Bad_Debt', 'Total_Good_Debt']]"
   ]
  },
  {
   "cell_type": "code",
   "execution_count": 7,
   "metadata": {},
   "outputs": [
    {
     "data": {
      "text/plain": [
       "Applicant_Gender        object\n",
       "Applicant_Age            int64\n",
       "Owned_Realty             int64\n",
       "Total_Children           int64\n",
       "Owned_Car                int64\n",
       "Total_Income             int64\n",
       "Housing_Type            object\n",
       "Total_Family_Members     int64\n",
       "Education_Type          object\n",
       "Family_Status           object\n",
       "Status                   int64\n",
       "Total_Bad_Debt           int64\n",
       "Total_Good_Debt          int64\n",
       "dtype: object"
      ]
     },
     "execution_count": 7,
     "metadata": {},
     "output_type": "execute_result"
    }
   ],
   "source": [
    "credit.dtypes"
   ]
  },
  {
   "cell_type": "code",
   "execution_count": 8,
   "metadata": {},
   "outputs": [],
   "source": [
    "from sklearn.model_selection import train_test_split\n",
    "from sklearn.preprocessing import OneHotEncoder\n",
    "from imblearn.over_sampling import ADASYN\n",
    "from imblearn.pipeline import make_pipeline\n",
    "from sklearn.compose import make_column_transformer\n",
    "from sklearn.ensemble import RandomForestClassifier"
   ]
  },
  {
   "cell_type": "code",
   "execution_count": 9,
   "metadata": {},
   "outputs": [],
   "source": [
    "#Train Test Split since its a large dataset idk about this one shud explain this better than we did\n",
    "\n",
    "X_train, X_test, y_train, y_test = train_test_split(credit.drop('Status', axis=1), #\n",
    "                                                    credit['Status'], #Y variable target\n",
    "                                                    train_size=0.8,\n",
    "                                                    random_state=123)\n",
    "categorical_features = [\"Applicant_Gender\", \"Housing_Type\", \"Education_Type\", \"Family_Status\"]"
   ]
  },
  {
   "cell_type": "code",
   "execution_count": 10,
   "metadata": {},
   "outputs": [],
   "source": [
    "#THE CODE IN THE CELL BELOW USES SMOTE TO FIX DATA IMBALANCES \n",
    "# OUR DATAPOINTS WENT FROM 20K IN THE TRAINSET TO 40K IN THE TRAINSET \n",
    "#we have shifted our status to the y_test and y_train because that is what we are going to compare with "
   ]
  },
  {
   "cell_type": "code",
   "execution_count": 11,
   "metadata": {},
   "outputs": [
    {
     "data": {
      "text/plain": [
       "Applicant_Gender        object\n",
       "Applicant_Age            int64\n",
       "Owned_Realty             int64\n",
       "Total_Children           int64\n",
       "Owned_Car                int64\n",
       "Total_Income             int64\n",
       "Housing_Type            object\n",
       "Total_Family_Members     int64\n",
       "Education_Type          object\n",
       "Family_Status           object\n",
       "Total_Bad_Debt           int64\n",
       "Total_Good_Debt          int64\n",
       "dtype: object"
      ]
     },
     "execution_count": 11,
     "metadata": {},
     "output_type": "execute_result"
    }
   ],
   "source": [
    "X_train.dtypes #showing what the different columns are"
   ]
  },
  {
   "cell_type": "code",
   "execution_count": 12,
   "metadata": {},
   "outputs": [],
   "source": [
    "from imblearn.over_sampling import SMOTE\n",
    "\n",
    "\n",
    "from sklearn.compose import ColumnTransformer\n",
    "from sklearn.compose import make_column_selector as selector\n",
    "from sklearn.preprocessing import OneHotEncoder, StandardScaler\n",
    "from sklearn.pipeline import Pipeline\n",
    "from sklearn.linear_model import LogisticRegression\n",
    "from sklearn.model_selection import train_test_split, GridSearchCV\n",
    "\n",
    "\n",
    "# Define numerical and categorical column selectors\n",
    "numerical_columns_selector = selector(dtype_exclude=object)\n",
    "categorical_columns_selector = selector(dtype_include=object)\n",
    "\n",
    "# Get numerical and categorical column names\n",
    "numerical_columns = numerical_columns_selector(X_train)\n",
    "categorical_columns = categorical_columns_selector(X_train)\n",
    "\n",
    "# Define one-hot encoder and scaler\n",
    "numerical_transformer = StandardScaler()\n",
    "#categorical_transformer = OneHotEncoder(drop='if_binary')  # drop original categorical features if binary (applicant_gender)\n",
    "\n",
    "categorical_transformer = OneHotEncoder(drop='first')  # drop original categorical features, could combine with if binary\n",
    "#but unnecessary\n",
    "\n",
    "\n",
    "\n",
    "\n",
    "#creating a preprocessor to add to the pipeline maybe combine this cell into one?\n",
    "preprocessor = ColumnTransformer(\n",
    "    transformers=[ \n",
    "        ('num', numerical_transformer, numerical_columns),\n",
    "        ('cat', categorical_transformer, categorical_columns)\n",
    "    ])\n",
    "\n"
   ]
  },
  {
   "cell_type": "code",
   "execution_count": 13,
   "metadata": {},
   "outputs": [
    {
     "data": {
      "text/html": [
       "<div>\n",
       "<style scoped>\n",
       "    .dataframe tbody tr th:only-of-type {\n",
       "        vertical-align: middle;\n",
       "    }\n",
       "\n",
       "    .dataframe tbody tr th {\n",
       "        vertical-align: top;\n",
       "    }\n",
       "\n",
       "    .dataframe thead th {\n",
       "        text-align: right;\n",
       "    }\n",
       "</style>\n",
       "<table border=\"1\" class=\"dataframe\">\n",
       "  <thead>\n",
       "    <tr style=\"text-align: right;\">\n",
       "      <th></th>\n",
       "      <th>Applicant_Gender</th>\n",
       "      <th>Applicant_Age</th>\n",
       "      <th>Owned_Realty</th>\n",
       "      <th>Total_Children</th>\n",
       "      <th>Owned_Car</th>\n",
       "      <th>Total_Income</th>\n",
       "      <th>Housing_Type</th>\n",
       "      <th>Total_Family_Members</th>\n",
       "      <th>Education_Type</th>\n",
       "      <th>Family_Status</th>\n",
       "      <th>Total_Bad_Debt</th>\n",
       "      <th>Total_Good_Debt</th>\n",
       "    </tr>\n",
       "  </thead>\n",
       "  <tbody>\n",
       "    <tr>\n",
       "      <th>21319</th>\n",
       "      <td>M</td>\n",
       "      <td>52</td>\n",
       "      <td>0</td>\n",
       "      <td>0</td>\n",
       "      <td>0</td>\n",
       "      <td>112500</td>\n",
       "      <td>House / apartment                             ...</td>\n",
       "      <td>2</td>\n",
       "      <td>Secondary / secondary special                 ...</td>\n",
       "      <td>Married                                       ...</td>\n",
       "      <td>0</td>\n",
       "      <td>12</td>\n",
       "    </tr>\n",
       "    <tr>\n",
       "      <th>21048</th>\n",
       "      <td>M</td>\n",
       "      <td>35</td>\n",
       "      <td>0</td>\n",
       "      <td>1</td>\n",
       "      <td>0</td>\n",
       "      <td>135000</td>\n",
       "      <td>House / apartment                             ...</td>\n",
       "      <td>3</td>\n",
       "      <td>Secondary / secondary special                 ...</td>\n",
       "      <td>Married                                       ...</td>\n",
       "      <td>0</td>\n",
       "      <td>17</td>\n",
       "    </tr>\n",
       "    <tr>\n",
       "      <th>15222</th>\n",
       "      <td>M</td>\n",
       "      <td>31</td>\n",
       "      <td>1</td>\n",
       "      <td>1</td>\n",
       "      <td>1</td>\n",
       "      <td>157500</td>\n",
       "      <td>House / apartment                             ...</td>\n",
       "      <td>3</td>\n",
       "      <td>Secondary / secondary special                 ...</td>\n",
       "      <td>Married                                       ...</td>\n",
       "      <td>2</td>\n",
       "      <td>18</td>\n",
       "    </tr>\n",
       "    <tr>\n",
       "      <th>8330</th>\n",
       "      <td>F</td>\n",
       "      <td>55</td>\n",
       "      <td>0</td>\n",
       "      <td>0</td>\n",
       "      <td>0</td>\n",
       "      <td>135000</td>\n",
       "      <td>With parents                                  ...</td>\n",
       "      <td>1</td>\n",
       "      <td>Secondary / secondary special                 ...</td>\n",
       "      <td>Single / not married                          ...</td>\n",
       "      <td>0</td>\n",
       "      <td>40</td>\n",
       "    </tr>\n",
       "    <tr>\n",
       "      <th>10931</th>\n",
       "      <td>M</td>\n",
       "      <td>38</td>\n",
       "      <td>0</td>\n",
       "      <td>0</td>\n",
       "      <td>0</td>\n",
       "      <td>180000</td>\n",
       "      <td>House / apartment                             ...</td>\n",
       "      <td>2</td>\n",
       "      <td>Secondary / secondary special                 ...</td>\n",
       "      <td>Married                                       ...</td>\n",
       "      <td>0</td>\n",
       "      <td>21</td>\n",
       "    </tr>\n",
       "  </tbody>\n",
       "</table>\n",
       "</div>"
      ],
      "text/plain": [
       "      Applicant_Gender  Applicant_Age  Owned_Realty  Total_Children  \\\n",
       "21319          M                   52             0               0   \n",
       "21048          M                   35             0               1   \n",
       "15222          M                   31             1               1   \n",
       "8330           F                   55             0               0   \n",
       "10931          M                   38             0               0   \n",
       "\n",
       "       Owned_Car  Total_Income  \\\n",
       "21319          0        112500   \n",
       "21048          0        135000   \n",
       "15222          1        157500   \n",
       "8330           0        135000   \n",
       "10931          0        180000   \n",
       "\n",
       "                                            Housing_Type  \\\n",
       "21319  House / apartment                             ...   \n",
       "21048  House / apartment                             ...   \n",
       "15222  House / apartment                             ...   \n",
       "8330   With parents                                  ...   \n",
       "10931  House / apartment                             ...   \n",
       "\n",
       "       Total_Family_Members  \\\n",
       "21319                     2   \n",
       "21048                     3   \n",
       "15222                     3   \n",
       "8330                      1   \n",
       "10931                     2   \n",
       "\n",
       "                                          Education_Type  \\\n",
       "21319  Secondary / secondary special                 ...   \n",
       "21048  Secondary / secondary special                 ...   \n",
       "15222  Secondary / secondary special                 ...   \n",
       "8330   Secondary / secondary special                 ...   \n",
       "10931  Secondary / secondary special                 ...   \n",
       "\n",
       "                                           Family_Status  Total_Bad_Debt  \\\n",
       "21319  Married                                       ...               0   \n",
       "21048  Married                                       ...               0   \n",
       "15222  Married                                       ...               2   \n",
       "8330   Single / not married                          ...               0   \n",
       "10931  Married                                       ...               0   \n",
       "\n",
       "       Total_Good_Debt  \n",
       "21319               12  \n",
       "21048               17  \n",
       "15222               18  \n",
       "8330                40  \n",
       "10931               21  "
      ]
     },
     "execution_count": 13,
     "metadata": {},
     "output_type": "execute_result"
    }
   ],
   "source": [
    "X_train.head()"
   ]
  },
  {
   "cell_type": "code",
   "execution_count": 14,
   "metadata": {},
   "outputs": [],
   "source": [
    "# Drop the columns and apply preprocessor to remaining features\n",
    "#X_train_processed = preprocessor.fit_transform(X_train, y_train) \n",
    "X_train_processed = preprocessor.fit_transform(X_train) #no difference between putting a target or not\n",
    "'''\n",
    "The explanation from chatgpt:\n",
    "It means that the target variable y_train is not used in the preprocessing step, \n",
    "so passing it as an argument to fit_transform() or not passing it has no effect on the output \n",
    "of X_train_processed. The preprocessor only transforms the features in X_train according to \n",
    "the specifications in preprocessor, so the target variable is not needed. However, if you had \n",
    "a preprocessor that needed the target variable, then passing it as an argument would be necessary.\n",
    "\n",
    "'''\n",
    "#combines teh .fit and .transform step of the ColumnTransformer ^^\n",
    "\n",
    "#oversample using the smote technique which was recommended on piazza\n",
    "sm = SMOTE(random_state=42)\n",
    "X_res, y_res = sm.fit_resample(X_train_processed, y_train)\n",
    "\n",
    "\n"
   ]
  },
  {
   "cell_type": "code",
   "execution_count": 15,
   "metadata": {},
   "outputs": [
    {
     "data": {
      "text/plain": [
       "(40004, 22)"
      ]
     },
     "execution_count": 15,
     "metadata": {},
     "output_type": "execute_result"
    }
   ],
   "source": [
    "X_res.shape #so we managed to drop the original columsn from the data because if we didnt drop the \n",
    "#first then it would be x26"
   ]
  },
  {
   "cell_type": "code",
   "execution_count": 16,
   "metadata": {},
   "outputs": [
    {
     "data": {
      "text/plain": [
       "numpy.ndarray"
      ]
     },
     "execution_count": 16,
     "metadata": {},
     "output_type": "execute_result"
    }
   ],
   "source": [
    "type(X_train_processed )"
   ]
  },
  {
   "cell_type": "code",
   "execution_count": 17,
   "metadata": {},
   "outputs": [],
   "source": [
    "#now for the crossvalidation chain we have to convert the X_res which is a numpy drray back into a pandas dataframe\n",
    "# Convert X_res to a DataFrame\n",
    "#column_names = preprocessor.get_feature_names() #would have worked if standard scalar didnt have the get_feature_name method\n",
    "\n",
    "# Get column names for the DataFrame\n",
    "num_columns = list(numerical_columns)\n",
    "\n",
    "preprocessor.fit(X_train)\n",
    "\n",
    "#cat_columns = list(categorical_transformer.get_feature_names_out(categorical_columns))\n",
    "cat_columns = list(preprocessor.named_transformers_['cat'].get_feature_names_out(categorical_columns))\n",
    "column_names = num_columns + cat_columns\n",
    "column_names = num_columns + cat_columns\n",
    "\n",
    "X_res_df = pd.DataFrame(X_res, columns=column_names)"
   ]
  },
  {
   "cell_type": "code",
   "execution_count": 18,
   "metadata": {},
   "outputs": [
    {
     "data": {
      "text/plain": [
       "0   -0.797369\n",
       "1   -0.578088\n",
       "2   -0.358807\n",
       "3   -0.578088\n",
       "4   -0.139526\n",
       "Name: Total_Income, dtype: float64"
      ]
     },
     "execution_count": 18,
     "metadata": {},
     "output_type": "execute_result"
    }
   ],
   "source": [
    "X_res_df['Total_Income'].head()"
   ]
  },
  {
   "cell_type": "code",
   "execution_count": 19,
   "metadata": {},
   "outputs": [
    {
     "data": {
      "text/plain": [
       "count    40004.000000\n",
       "mean        -0.041293\n",
       "std          1.006789\n",
       "min         -1.630637\n",
       "25%         -0.660573\n",
       "50%         -0.315613\n",
       "75%          0.299036\n",
       "max         13.455899\n",
       "Name: Total_Income, dtype: float64"
      ]
     },
     "execution_count": 19,
     "metadata": {},
     "output_type": "execute_result"
    }
   ],
   "source": [
    "X_res_df['Total_Income'].describe()"
   ]
  },
  {
   "cell_type": "code",
   "execution_count": 20,
   "metadata": {},
   "outputs": [
    {
     "data": {
      "text/plain": [
       "count    2.010200e+04\n",
       "mean     1.943165e+05\n",
       "std      1.026106e+05\n",
       "min      2.700000e+04\n",
       "25%      1.350000e+05\n",
       "50%      1.800000e+05\n",
       "75%      2.250000e+05\n",
       "max      1.575000e+06\n",
       "Name: Total_Income, dtype: float64"
      ]
     },
     "execution_count": 20,
     "metadata": {},
     "output_type": "execute_result"
    }
   ],
   "source": [
    "X_train['Total_Income'].describe()"
   ]
  },
  {
   "cell_type": "code",
   "execution_count": 21,
   "metadata": {},
   "outputs": [
    {
     "data": {
      "text/plain": [
       "'\\n\\nThe reason why they look different and transformed is due to standard scaling \\nStandard scaling (also known as standardization) has several benefits:\\n\\nNormalization of data: Standard scaling transforms the data to have zero mean and unit variance, which helps in normalizing the data. This is particularly useful when the data has different units of measurement or scales.\\n\\nBetter performance of some machine learning algorithms: Some machine learning algorithms like K-nearest neighbors (KNN) and SVM (support vector machines) are sensitive to the scale of the input features. Standard scaling can improve the performance of these algorithms.\\n\\nEfficient optimization: Many optimization algorithms like gradient descent converge faster when the input features are on the same scale.\\n\\nInterpretation of coefficients: When performing linear regression or other models with coefficients, standard scaling ensures that the coefficients can be compared fairly, as they are on the same scale.\\n\\nOverall, standard scaling is a common preprocessing step that can improve the performance of many machine learning models and make the interpretation of results easier.\\n\\n\\nDue to the reasons above, I believe we should keep standard scaling\\n\\n'"
      ]
     },
     "execution_count": 21,
     "metadata": {},
     "output_type": "execute_result"
    }
   ],
   "source": [
    "'''\n",
    "\n",
    "The reason why they look different and transformed is due to standard scaling \n",
    "Standard scaling (also known as standardization) has several benefits:\n",
    "\n",
    "Normalization of data: Standard scaling transforms the data to have zero mean and unit variance, which helps in normalizing the data. This is particularly useful when the data has different units of measurement or scales.\n",
    "\n",
    "Better performance of some machine learning algorithms: Some machine learning algorithms like K-nearest neighbors (KNN) and SVM (support vector machines) are sensitive to the scale of the input features. Standard scaling can improve the performance of these algorithms.\n",
    "\n",
    "Efficient optimization: Many optimization algorithms like gradient descent converge faster when the input features are on the same scale.\n",
    "\n",
    "Interpretation of coefficients: When performing linear regression or other models with coefficients, standard scaling ensures that the coefficients can be compared fairly, as they are on the same scale.\n",
    "\n",
    "Overall, standard scaling is a common preprocessing step that can improve the performance of many machine learning models and make the interpretation of results easier.\n",
    "\n",
    "\n",
    "Due to the reasons above, I believe we should keep standard scaling\n",
    "\n",
    "'''"
   ]
  },
  {
   "cell_type": "code",
   "execution_count": null,
   "metadata": {},
   "outputs": [],
   "source": [
    "print(type(X_test))"
   ]
  },
  {
   "cell_type": "code",
   "execution_count": null,
   "metadata": {},
   "outputs": [],
   "source": [
    "# REPEATED K FOLD CROSS VALIDATION \n",
    "# 25 FOLDS FOR EACH OF THE 3 CANDIDATES - TOTALLING 75 FITS\n",
    "\n",
    "# Import here\n",
    "from sklearn import svm, datasets\n",
    "from sklearn.model_selection import GridSearchCV\n",
    "from sklearn.model_selection import RepeatedKFold\n",
    "\n",
    "params ={'C':[0.01, 0.05, 10]}\n",
    "rkf = RepeatedKFold(n_splits=5, n_repeats=5, random_state = 42)\n",
    "\n",
    "clf1 = GridSearchCV(LogisticRegression(), params, cv = rkf, n_jobs=-1, verbose = 3)\n",
    "\n",
    "\n",
    "#i think we have to fit something here\n",
    "#clf1.fit(X_train, y_train)\n",
    "clf1.fit(X_res_df, y_res)\n",
    "# View the Grid Search CV Results\n",
    "print((clf1.cv_results_))"
   ]
  },
  {
   "cell_type": "code",
   "execution_count": 23,
   "metadata": {},
   "outputs": [],
   "source": [
    "X_res = X_res_df"
   ]
  },
  {
   "cell_type": "code",
   "execution_count": null,
   "metadata": {},
   "outputs": [],
   "source": [
    "print(type(clf1.cv_results_))"
   ]
  },
  {
   "cell_type": "code",
   "execution_count": null,
   "metadata": {},
   "outputs": [],
   "source": [
    "# NORMAL K FOLD CROSS VALIDATION SPLITS =25 \n",
    "\n",
    "\n",
    "from sklearn.model_selection import KFold, RepeatedKFold, GridSearchCV\n",
    "\n",
    "params = {'C': [0.01, 0.5, 10]}\n",
    "\n",
    "kf = KFold(n_splits = 25)\n",
    "clf2 = GridSearchCV(LogisticRegression(), params, cv = kf)\n",
    "\n",
    "clf2.fit(X_res, y_res)\n",
    "\n",
    "# View the Grid Search CV Results\n",
    "print(clf2.cv_results_)"
   ]
  },
  {
   "cell_type": "code",
   "execution_count": null,
   "metadata": {},
   "outputs": [],
   "source": [
    "# COMPARING THE TWO MODELS WE JUST RAN TO SEE WHICH MODEL RETURNS A BETTER ACCUARACY ON OUR DATASET\n",
    "\n",
    "clfi1Mat = np.zeros((25,3))\n",
    "clfi2Mat = np.zeros((25,3))\n",
    "i = 0\n",
    "for key in clf1.cv_results_.keys():\n",
    "    if 'split' in key:\n",
    "        clfi1Mat[i] = clf1.cv_results_[key]\n",
    "        clfi2Mat[i] = clf2.cv_results_[key]\n",
    "        i += 1\n",
    "#print(clfi1Mat.shape)\n",
    "#print(clfi2Mat)#so we go \n",
    "\n",
    "#next we have to get 9 different arrays for each c value\n",
    "clfi1MatC1 = clfi1Mat[:, 0] #go by column\n",
    "clfi2MatC1 = clfi2Mat[:, 0]\n",
    "print(clfi2MatC1)\n",
    "clfi1MatC2 = clfi1Mat[:, 1] #go by column\n",
    "clfi2MatC2 = clfi2Mat[:, 1]\n",
    "\n",
    "clfi1MatC3 = clfi1Mat[:, 2] #go by column\n",
    "clfi2MatC3 = clfi2Mat[:, 2]\n",
    "\n"
   ]
  },
  {
   "cell_type": "code",
   "execution_count": null,
   "metadata": {},
   "outputs": [],
   "source": []
  },
  {
   "cell_type": "code",
   "execution_count": null,
   "metadata": {},
   "outputs": [],
   "source": [
    "#ACCUARACY OF EACH COMBINATION OF OUR MODEL \n",
    "# MAXIMUM AXXURACY ACHIEVED HERE IS 55.9% WHICH ISNT GREAT AND IS WORSE THAN OUR BASELINE \n",
    "#HENCE WE NEED TO TRY OTHER MODELS\n",
    "\n",
    "print(max(clfi1MatC1))\n",
    "print(max(clfi1MatC2))\n",
    "print(max(clfi1MatC3))\n",
    "print(max(clfi2MatC1))\n",
    "print(max(clfi2MatC2))\n",
    "print(max(clfi2MatC3))\n"
   ]
  },
  {
   "cell_type": "code",
   "execution_count": null,
   "metadata": {},
   "outputs": [],
   "source": [
    "# PLOT FOR OUR REPEATED K - FOLDS AND OUR K FOLD CROSS VALIDATION MODELS \n",
    "# WE CAN SEE THAT OUR REPEATED K FOLDS PERFORMS SIGNIFICANTLY BETTER \n",
    "\n",
    "#next we have to do 3 plots\n",
    "xVals = np.arange(25)\n",
    "print(xVals)\n",
    "plt.plot(xVals, clfi1MatC1, color = 'blue', label = \"5x5 C=0.01\")\n",
    "plt.plot(xVals, clfi2MatC1, color = 'orange', label = \"25 C=0.01\")\n",
    "plt.title(\"Repeated KFolds vs KFolds for C=0.01\")\n",
    "plt.legend()\n"
   ]
  },
  {
   "cell_type": "code",
   "execution_count": null,
   "metadata": {},
   "outputs": [],
   "source": [
    "# PLOT FOR OUR REPEATED K - FOLDS AND OUR K FOLD CROSS VALIDATION MODELS \n",
    "# WE CAN SEE THAT OUR REPEATED K FOLDS PERFORMS SIGNIFICANTLY BETTER \n",
    "\n",
    "\n",
    "#next we have to do 3 plots\n",
    "xVals = np.arange(25)\n",
    "print(xVals)\n",
    "plt.plot(xVals, clfi1MatC2, color = 'blue', label = \"5x5 C=0.5\")\n",
    "plt.plot(xVals, clfi2MatC2, color = 'orange', label = \"25 C=0.5\")\n",
    "plt.title(\"Repeated KFolds vs KFolds for C=0.5\")\n",
    "plt.legend()"
   ]
  },
  {
   "cell_type": "code",
   "execution_count": null,
   "metadata": {},
   "outputs": [],
   "source": [
    "# PLOT FOR OUR REPEATED K - FOLDS AND OUR K FOLD CROSS VALIDATION MODELS \n",
    "# WE CAN SEE THAT OUR REPEATED K FOLDS PERFORMS SIGNIFICANTLY BETTER \n",
    "\n",
    "\n",
    "#next we have to do 3 plots\n",
    "xVals = np.arange(25)\n",
    "print(xVals)\n",
    "plt.plot(xVals, clfi1MatC3, color = 'blue', label = \"5x5 C=10\")\n",
    "plt.plot(xVals, clfi2MatC3, color = 'orange', label = \"25 C=10\")\n",
    "plt.title(\"Repeated KFolds vs KFolds for C=10\")\n",
    "plt.legend()"
   ]
  },
  {
   "cell_type": "code",
   "execution_count": null,
   "metadata": {},
   "outputs": [],
   "source": []
  },
  {
   "cell_type": "code",
   "execution_count": null,
   "metadata": {},
   "outputs": [],
   "source": [
    "#NO NUMM VALUES IN OUR DATA - JUST A CHECK \n",
    "\n",
    "#next we check for nulls and nans and if there exists any we will count them\n",
    "#and decide to drop the row containing that datapooint\n",
    "\n",
    "credit.isnull().values.any()\n",
    "#so there isnt any nan values so we dont need to replace any values anywhere"
   ]
  },
  {
   "cell_type": "code",
   "execution_count": null,
   "metadata": {},
   "outputs": [],
   "source": [
    "#next is making all columns which arent numerical numerical\n",
    "#first we will check which columns arent numerical\n",
    "credit.dtypes"
   ]
  },
  {
   "cell_type": "code",
   "execution_count": null,
   "metadata": {},
   "outputs": [],
   "source": [
    "# IMPORTANT CODE - DROPPING COLUMNS WE DO NOT NEED (OF TYPE FLOAT AND DOESNT MAKE SENSE TO CONVERT USING ONE HOT ENCODING)\n",
    "\n",
    "X_test = X_test.drop(columns = ['Applicant_Gender', 'Housing_Type', 'Education_Type','Family_Status'])\n"
   ]
  },
  {
   "cell_type": "code",
   "execution_count": null,
   "metadata": {},
   "outputs": [],
   "source": []
  },
  {
   "cell_type": "code",
   "execution_count": null,
   "metadata": {},
   "outputs": [],
   "source": [
    "# JUST A LOGISTIC CLASSIFIER - NO K FOLD OR REPEATED K FOLD USED HERE\n",
    "# ACCUARACY ACHIEVED WAS 58.27% WHICH IS BETTER BUT STILL NOT GOOD ENOUGH \n",
    "# L2 PENALTY USED \n",
    "\n",
    "\n",
    "#Just classifier no kfold or anything\n",
    "# Import Logistic Regression here\n",
    "from sklearn.linear_model import LogisticRegression\n",
    "#clf is the logistic rgression model\n",
    "clf = LogisticRegression(C = 1, random_state=0, penalty = \"l2\").fit(X_res, y_res)\n",
    "score = clf.score(X_test, y_test)\n",
    "print(score)"
   ]
  },
  {
   "cell_type": "code",
   "execution_count": null,
   "metadata": {},
   "outputs": [],
   "source": [
    "#SAME AS ABOVE BUT NOW USING A L1 PENALTY \n",
    "# NOTICE THIS DOES NOT RUN WITH A L1 PENALTY SINCE THE DEFAULT SOLVER IS LBFGS which only accepts a l2 penalty\n",
    "# NOT NEEDED\n",
    "\n",
    "#Just classifier no kfold or anything\n",
    "# Import Logistic Regression here\n",
    "from sklearn.linear_model import LogisticRegression\n",
    "#clf is the logistic rgression model\n",
    "clf = LogisticRegression(C = 1, random_state=0, penalty = \"l1\").fit(X_res, y_res)\n",
    "score = clf.score(X_test, y_test)\n",
    "print(score)"
   ]
  },
  {
   "cell_type": "code",
   "execution_count": null,
   "metadata": {},
   "outputs": [],
   "source": [
    "# SAME AS ABOVE BUT NOW USING A NEW SOLVER WHICH IS NEWTON Cholesky - WHICH Accepts no Penalty or only l2 penalty like lbfgs\n",
    "#OUR ACCUARACY IS SIGNIFIANTLY IMPROVED - NOW OUR ACCUARACY IS 64.8%\n",
    "#no real difference between newton\n",
    "\n",
    "#Just classifier no kfold or anything\n",
    "# Import Logistic Regression here\n",
    "from sklearn.linear_model import LogisticRegression\n",
    "#clf is the logistic rgression model\n",
    "clf = LogisticRegression(solver = \"newton-cholesky\",  C = 1, random_state=0, penalty = \"l2\").fit(X_res, y_res)\n",
    "score = clf.score(X_test, y_test)\n",
    "print(score)"
   ]
  },
  {
   "cell_type": "code",
   "execution_count": null,
   "metadata": {},
   "outputs": [],
   "source": [
    "# SAME AS ABOVE BUT NOW USING A NEW SOLVER WHICH IS NEWTON CG - WHICH Accepts no Penalty or only l2 penalty like lbfgs\n",
    "#OUR ACCUARACY IS SIGNIFIANTLY IMPROVED - NOW OUR ACCUARACY IS 64.8%\n",
    "\n",
    "#usually newtwon cg is more computationally expensive but works well on small datasets\n",
    "#like ours since its only like 25k datapoints\n",
    "#lbfgs  works  better on large datasets like million plus datapoints\n",
    "\n",
    "#Just classifier no kfold or anything\n",
    "# Import Logistic Regression here\n",
    "from sklearn.linear_model import LogisticRegression\n",
    "#clf is the logistic rgression model\n",
    "clf = LogisticRegression(solver ='newton-cg', C = 1, random_state=0, penalty = \"l2\").fit(X_res, y_res)\n",
    "score = clf.score(X_test, y_test)\n",
    "print(score)"
   ]
  },
  {
   "cell_type": "code",
   "execution_count": null,
   "metadata": {},
   "outputs": [],
   "source": [
    "# SAME AS ABOVE BUT NOW USING A NEW SOLVER WHICH IS LIBLINEAR \n",
    "#OUR ACCUARACY USING LIBLINEAR IS 62.7%\n",
    "\n",
    "#Just classifier no kfold or anything\n",
    "# Import Logistic Regression here\n",
    "from sklearn.linear_model import LogisticRegression\n",
    "#clf is the logistic rgression model\n",
    "clf = LogisticRegression(solver ='liblinear', C = 1, random_state=0, penalty = \"l2\").fit(X_res, y_res)\n",
    "score = clf.score(X_test, y_test)\n",
    "print(score)"
   ]
  },
  {
   "cell_type": "code",
   "execution_count": null,
   "metadata": {},
   "outputs": [],
   "source": [
    "# SAME AS ABOVE BUT NOW USING A NEW SOLVER WHICH IS LIBLINEAR \n",
    "#OUR ACCUARACY USING LIBLINEAR IS 64.8% whichi is the best so far\n",
    "\n",
    "#Just classifier no kfold or anything\n",
    "# Import Logistic Regression here\n",
    "from sklearn.linear_model import LogisticRegression\n",
    "#clf is the logistic rgression model\n",
    "clf = LogisticRegression(solver ='liblinear', C = 1, random_state=0, penalty = \"l1\").fit(X_res, y_res)\n",
    "score = clf.score(X_test, y_test)\n",
    "print(score)"
   ]
  },
  {
   "cell_type": "code",
   "execution_count": null,
   "metadata": {},
   "outputs": [],
   "source": [
    "# SAME AS ABOVE BUT NOW USING A NEW SOLVER WHICH IS sag\n",
    "# TERRIBLE MODEL DID NOT CONVERGE \n",
    "\n",
    "#Just classifier no kfold or anything\n",
    "# Import Logistic Regression here\n",
    "from sklearn.linear_model import LogisticRegression\n",
    "#clf is the logistic rgression model\n",
    "clf = LogisticRegression(solver ='sag', C = 1, random_state=0, penalty = \"l2\").fit(X_res, y_res)\n",
    "score = clf.score(X_test, y_test)\n",
    "print(score)"
   ]
  },
  {
   "cell_type": "code",
   "execution_count": null,
   "metadata": {},
   "outputs": [],
   "source": [
    "# SAME AS ABOVE BUT NOW USING A NEW SOLVER WHICH IS saga \n",
    "# TERRIBLE MODEL DID NOT CONVERGE \n",
    "\n",
    "#Just classifier no kfold or anything\n",
    "# Import Logistic Regression here\n",
    "from sklearn.linear_model import LogisticRegression\n",
    "#clf is the logistic rgression model\n",
    "clf = LogisticRegression(solver ='saga', C = 1, random_state=0, penalty = \"l2\").fit(X_res, y_res)\n",
    "score = clf.score(X_test, y_test)\n",
    "print(score)"
   ]
  },
  {
   "cell_type": "code",
   "execution_count": null,
   "metadata": {},
   "outputs": [],
   "source": [
    "# SAME AS ABOVE BUT NOW USING A NEW SOLVER WHICH IS saga \n",
    "# TERRIBLE MODEL DID NOT CONVERGE \n",
    "\n",
    "#Just classifier no kfold or anything\n",
    "# Import Logistic Regression here\n",
    "from sklearn.linear_model import LogisticRegression\n",
    "#clf is the logistic rgression model\n",
    "clf = LogisticRegression(solver ='saga', C = 1, random_state=0, penalty = \"l1\").fit(X_res, y_res)\n",
    "score = clf.score(X_test, y_test)\n",
    "print(score)"
   ]
  },
  {
   "cell_type": "code",
   "execution_count": null,
   "metadata": {},
   "outputs": [],
   "source": [
    "# SAME AS ABOVE BUT NOW USING A NEW SOLVER WHICH IS saga \n",
    "# TERRIBLE MODEL DID NOT CONVERGE for any of the solvers and elasticnet doesnt work for somereason\n",
    "#the reason it could not be converging could be a result of the data not being sparse enough not too sure needs more research\n",
    "\n",
    "#Just classifier no kfold or anything\n",
    "# Import Logistic Regression here\n",
    "from sklearn.linear_model import LogisticRegression\n",
    "#clf is the logistic rgression model\n",
    "clf = LogisticRegression(solver ='saga', C = 1, random_state=0, penalty = \"elasticnet\").fit(X_res, y_res)\n",
    "score = clf.score(X_test, y_test)\n",
    "print(score)"
   ]
  },
  {
   "cell_type": "code",
   "execution_count": null,
   "metadata": {},
   "outputs": [],
   "source": [
    "#NOW TRYING TO USE SVM \n",
    "\n",
    "#SVM\n",
    "import numpy as np\n",
    "import matplotlib.pyplot as plt\n",
    "from sklearn.datasets import make_classification\n",
    "from sklearn.model_selection import train_test_split\n",
    "from sklearn.linear_model import LogisticRegression\n",
    "from sklearn.tree import DecisionTreeClassifier\n",
    "from sklearn.svm import SVC\n",
    "from sklearn.neighbors import KNeighborsClassifier\n",
    "from sklearn.ensemble import RandomForestClassifier\n",
    "from sklearn.metrics import accuracy_score, confusion_matrix, classification_report\n",
    "#from mlxtend.plotting import plot_decision_regions\n",
    "\n"
   ]
  },
  {
   "cell_type": "code",
   "execution_count": null,
   "metadata": {},
   "outputs": [],
   "source": [
    "#LINEAR SVM TAKING TOO LONG TO RUN \n",
    "#RADIAL SVM (RBF) GIVING SOME STUPID ERROR\n",
    "\n",
    "\n",
    "# Define and Fit your Model\n",
    "model = SVC(kernel='rbf', C=1000)\n",
    "model.fit(X_res, y_res)\n",
    "\n",
    "# Plot the Data and the Decision Boundary\n",
    "plt.scatter(X_res[:, 0], X_res[:, 1], c=y_res, s=50, cmap='Spectral')\n",
    "plot_svc_decision_function(model)\n"
   ]
  },
  {
   "cell_type": "code",
   "execution_count": null,
   "metadata": {},
   "outputs": [],
   "source": [
    "#FINDING OUR BEST MODEL \n",
    "#USING SOME FEATURES TAUGHT IN LECTURE\n",
    "\n",
    "'''\n",
    "Here are the benefits and cons of each solver:\n",
    "\n",
    "'saga': This solver supports both L1 and L2 regularization and is capable of handling large datasets. It is recommended when the number of samples is significantly larger than the number of features. However, it may be slower than other solvers when the number of features is large.\n",
    "\n",
    "'lbfgs': This solver is recommended when the dataset is small or medium-sized. It is a limited-memory quasi-Newton method that uses a line search algorithm. It can handle both L1 and L2 regularization, but it may not be suitable for large datasets.\n",
    "\n",
    "'newton-cg': This solver is a quasi-Newton method that uses a Hessian matrix approximation. It can handle both L1 and L2 regularization, but it may not be suitable for large datasets.\n",
    "\n",
    "'sag': This solver is a stochastic gradient descent (SGD) algorithm. It is recommended when the dataset is large and cannot fit into memory. It is fast and can handle both L1 and L2 regularization. However, it may not converge as fast as other solvers.\n",
    "\n",
    "'newton-cholesky': This solver is a quasi-Newton method that uses a Cholesky decomposition to compute the inverse of the Hessian matrix. It can handle both L1 and L2 regularization, but it may not be suitable for large datasets.\n",
    "\n",
    "'liblinear': This solver is a linear algorithm that uses a coordinate descent method. It is recommended when the dataset is small or medium-sized and the number of samples is greater than the number of features. It can only handle L1 regularization.\n",
    "\n",
    "\n",
    "C values: smaller c-value is equal to greater generalization (simpler model) and stronger regularization\n",
    "but maybe too much while larger could mean greater overfitting (more complex model) and weaker regularization\n",
    "\n",
    "The two penalties I will leave to u to write about:\n",
    "\n",
    "\n",
    "\n",
    "\n",
    "'''\n",
    "\n",
    "from sklearn.compose import ColumnTransformer\n",
    "from sklearn.compose import make_column_selector as selector\n",
    "from sklearn.preprocessing import OneHotEncoder, StandardScaler\n",
    "from sklearn.pipeline import Pipeline\n",
    "from sklearn.linear_model import LogisticRegression\n",
    "from sklearn.model_selection import train_test_split, GridSearchCV\n",
    "\n",
    "numerical_columns_selector = selector(dtype_exclude=object)\n",
    "categorical_columns_selector = selector(dtype_include=object)\n",
    "\n",
    "numerical_columns = numerical_columns_selector(X_res)\n",
    "categorical_columns = categorical_columns_selector(X_res)\n",
    "\n",
    "onehot = OneHotEncoder()\n",
    "scaler = StandardScaler()\n",
    "\n",
    "preprocessor = ColumnTransformer([\n",
    "    ('onehot', onehot, categorical_columns),\n",
    "    ('zscore', scaler, numerical_columns)])\n",
    "\n",
    "\n",
    "# Create a pipeline \n",
    "pipe = Pipeline([('make_features', preprocessor),\n",
    "                 ('classifier', LogisticRegression(max_iter=10000))])\n",
    "\n",
    "# Create search space of hyperparameters\n",
    "# the variable namespace looks like this\n",
    "# pipe.classifier.C is represented as 'classifier__C'\n",
    "# if we'd just chucked a LogisticRegression() in as the model\n",
    "# instead of a pipe, then we'd only have had 'C' w/o the 'classifier__' bit \n",
    "\n",
    "\n",
    "search_space = {'classifier__C': np.logspace(-4, 4, 9),\n",
    "               'classifier__penalty': ['l2', 'l1', 'elasticnet'],\n",
    "               'classifier__solver': ['saga', 'lbfgs', 'newton-cg', 'sag', 'newton-cholesky', 'liblinear']}\n",
    "\n",
    "# Create a grid search object to find the best model\n",
    "best_model = GridSearchCV(pipe, search_space, cv=5, verbose=3, n_jobs=-1)"
   ]
  },
  {
   "cell_type": "code",
   "execution_count": null,
   "metadata": {},
   "outputs": [],
   "source": [
    "#FITTING OUR BEST MODEL \n",
    "#FINDING THE BEST ACCUARACY \n",
    "#why are we splitting again here? shouldnt we fit on res anyways\n",
    "\n",
    "\n",
    "# Fit grid search\n",
    "best_model.fit(X_res, y_res)"
   ]
  },
  {
   "cell_type": "code",
   "execution_count": null,
   "metadata": {},
   "outputs": [],
   "source": [
    "#THIS IS OUR BEST MODEL \n",
    "#IT HAS C = 1, PENALTY = L2, ACCUARACY SCORE OF 67.94%\n",
    "#USING CROSS VALIDATION \n",
    "#--------------------------------------------------------From neil before adding bad and good debt\n",
    "\n",
    "#after adding bad and good debt and removing the previous categorical values\n",
    "#THe best model is Solver = 'lbfgs',  C = 1000.0,  PENALTY = l2, and accuracy of 100\n",
    "\n",
    "# hay our best model has these params, and it turns out its cross validation score was perfect!\n",
    "# note how sklearn does this... once it determines the best version of the classifier\n",
    "# it refits those parameters on ALL of `X_train`... \n",
    "# in other worsds it doesn't just leave the last cross validaiton fold version hanging around :)\n",
    "best_model.best_params_, best_model.best_score_ #maybe too good?"
   ]
  },
  {
   "cell_type": "code",
   "execution_count": null,
   "metadata": {
    "scrolled": true
   },
   "outputs": [],
   "source": [
    "#PREVIEWING EVERY MODEL WE CHECKED\n",
    "#PRINTING OUT RESULTS THAT CONSIST OF C VALUE, PENALTY AND ACCURACY \n",
    "#USING CHART TO DISPLAY OUR RESULTS\n",
    "\n",
    "\n",
    "results = pd.DataFrame( best_model.cv_results_['params'] )\n",
    "\n",
    "# next grab the score resulting from those parameters, add it to the data\n",
    "# score is accuracy; to display it as misclassification error we could use 1 - x\n",
    "results['accuracy'] = best_model.cv_results_['mean_test_score']\n",
    "\n",
    "# get rid of classifier__XX in columns\n",
    "cols = results.columns.to_series().str.split('__').apply(lambda x: x[-1])\n",
    "results.columns = cols\n",
    "\n",
    "# lets show the results across penalty & C values\n",
    "sns.heatmap( results.pivot('C','penalty','accuracy'), \n",
    "             annot=True, fmt='3.2f')\n",
    "\n",
    "results\n",
    "\n",
    "#a possible solution to solve the duplicate indexes: \n",
    "'''\n",
    "The error message indicates that there are duplicate entries in the index, which is causing the pivot() function to fail.\n",
    "\n",
    "You can try removing any duplicate entries in the index by running:\n",
    "\n",
    "css\n",
    "Copy code\n",
    "results = results[~results.index.duplicated(keep='first')]\n",
    "This will keep the first occurrence of any duplicate index values and remove the subsequent ones. \n",
    "After removing duplicates, you can try running the heatmap() function again.\n",
    "\n",
    "\n",
    "'''\n",
    "\n",
    "\n",
    "\n"
   ]
  },
  {
   "cell_type": "code",
   "execution_count": null,
   "metadata": {},
   "outputs": [],
   "source": [
    "#NOT A MODEL JUST COMPARING TWO DIFFERENT MODELS TO SEE WHICH INE IS BETTER\n",
    "\n",
    "# this code is from sklearn docs\n",
    "# 20x it does both a non-nested and a nested cross val on the same data\n",
    "# the two techniques are compared in their average error across the 20x loop\n",
    "\n",
    "\n",
    "from sklearn.model_selection import GridSearchCV\n",
    "from sklearn.linear_model import LogisticRegression\n",
    "from sklearn.model_selection import KFold, cross_val_score\n",
    "\n",
    "import matplotlib.pyplot as plt\n",
    "\n",
    "# Number of random trials\n",
    "NUM_TRIALS = 20\n",
    "\n",
    "\n",
    "# Set up possible values of parameters to optimize over\n",
    "# this is a regularization parameter, smaller C => more regularization\n",
    "p_grid = {\"classifier__C\": [1, 10, 100,  1000]}\n",
    "\n",
    "\n",
    "# Arrays to store scores\n",
    "non_nested_scores = np.zeros(NUM_TRIALS)\n",
    "nested_scores = np.zeros(NUM_TRIALS)\n",
    "\n",
    "# Loop for each trial\n",
    "for i in range(NUM_TRIALS):\n",
    "\n",
    "    # Choose cross-validation techniques for the inner and outer loops,\n",
    "    # independently of the dataset.\n",
    "    # E.g \"GroupKFold\", \"LeaveOneOut\", \"LeaveOneGroupOut\", etc.\n",
    "    inner_cv = KFold(n_splits=3, shuffle=True, random_state=i)\n",
    "    outer_cv = KFold(n_splits=3, shuffle=True, random_state=i)\n",
    "\n",
    "    # Non_nested parameter search and scoring\n",
    "    clf = GridSearchCV(estimator=pipe, param_grid=p_grid, cv=inner_cv)\n",
    "    clf.fit(X_res, y_res)\n",
    "    non_nested_scores[i] = clf.best_score_\n",
    "\n",
    "    # Nested CV with parameter optimization\n",
    "    nested_score = cross_val_score(clf, X=X_res, y=y_res, cv=outer_cv)\n",
    "    nested_scores[i] = nested_score.mean()\n",
    "\n",
    "score_difference = non_nested_scores - nested_scores\n",
    "\n",
    "print(\"Average difference of {:6f} with std. dev. of {:6f}.\"\n",
    "      .format(score_difference.mean(), score_difference.std()))\n",
    "\n",
    "# Plot scores on each trial for nested and non-nested CV\n",
    "plt.figure()\n",
    "plt.subplot(211)\n",
    "non_nested_scores_line, = plt.plot(non_nested_scores, color='r')\n",
    "nested_line, = plt.plot(nested_scores, color='b')\n",
    "plt.ylabel(\"score\", fontsize=\"14\")\n",
    "plt.legend([non_nested_scores_line, nested_line],\n",
    "           [\"Non-Nested CV\", \"Nested CV\"],\n",
    "           bbox_to_anchor=(1, 0, 0, .8)) #(0, .4, .5, 0))\n",
    "plt.title(\"Non-Nested and Nested Cross Validation predicting penguin species from measurements\",\n",
    "          x=.5, y=1.1, fontsize=\"15\")\n",
    "\n",
    "# Plot bar chart of the difference.\n",
    "plt.subplot(212)\n",
    "difference_plot = plt.bar(range(NUM_TRIALS), score_difference)\n",
    "plt.xlabel(\"Individual Trial #\")\n",
    "plt.legend([difference_plot],\n",
    "           [\"Non-Nested CV - Nested CV Score\"],\n",
    "           bbox_to_anchor=(1, 0, 0, .8))\n",
    "plt.ylabel(\"score difference\", fontsize=\"14\")\n",
    "\n",
    "plt.show()"
   ]
  },
  {
   "cell_type": "code",
   "execution_count": null,
   "metadata": {},
   "outputs": [],
   "source": [
    "#now we will do this for svm"
   ]
  },
  {
   "cell_type": "code",
   "execution_count": null,
   "metadata": {},
   "outputs": [],
   "source": [
    "'''\n",
    "We also need to explain why we choose svc rather than svm's other classifiers in sklearn\n",
    "\n",
    "\n",
    "'classifier__C': np.logspace(-4, 4, 9), <- just the usual C value stuff\n",
    "               'classifier__kernel': ['linear', 'rbf', 'sigmoid', 'poly'], <-\n",
    "        'linear': This kernel is a linear transformation that maps the data to a higher-dimensional \n",
    "        space using a linear function. It is suitable for linearly separable datasets and works well \n",
    "        when there are many features. The 'linear' kernel is computationally efficient and is less prone\n",
    "        to overfitting than other kernels. However, it may not work well on nonlinear datasets.\n",
    "\n",
    "        'rbf' (Radial basis function): This kernel is a popular choice for nonlinear datasets. \n",
    "        It maps the data to a high-dimensional feature space using a Gaussian function. \n",
    "        It can capture complex relationships between features and is very flexible. \n",
    "        However, the 'rbf' kernel can be sensitive to the choice of hyperparameters, such as the \n",
    "        width of the Gaussian function, and can overfit when the number of features is large.\n",
    "\n",
    "        'sigmoid': This kernel maps the data to a high-dimensional feature space using a sigmoid \n",
    "        function. It is suitable for problems that require a logistic function as a decision function.\n",
    "        However, the 'sigmoid' kernel is less popular than the other kernels and may not perform as \n",
    "        well on many datasets.\n",
    "\n",
    "        'poly' (Polynomial): This kernel maps the data to a high-dimensional feature space using \n",
    "        a polynomial function. It is suitable for datasets with nonlinear relationships between \n",
    "        features. However, the 'poly' kernel can be sensitive to the degree of the polynomial \n",
    "        and can overfit when the degree is too high. <- was the best before i had to refit the data not sure whats happening\n",
    "        rn\n",
    "               \n",
    "               \n",
    "               \n",
    "               \n",
    "               \n",
    "            'classifier__gamma': ['scale', 'auto', 0.1, 1, 10] <-Kernel coefficient for ‘rbf’, ‘poly’ and ‘sigmoid’.\n",
    "\n",
    "if gamma='scale' (default) is passed then it uses 1 / (n_features * X.var()) as value of gamma,\n",
    "\n",
    "if ‘auto’, uses 1 / n_features\n",
    "\n",
    "if float, must be non-negative.\n",
    "\n",
    "\n",
    "\n",
    "\n",
    "\n",
    "\n",
    "\n",
    "\n",
    "\n",
    "'''\n",
    "\n",
    "\n",
    "\n",
    "\n",
    "\n",
    "\n",
    "\n",
    "from sklearn.compose import ColumnTransformer\n",
    "from sklearn.compose import make_column_selector as selector\n",
    "from sklearn.preprocessing import OneHotEncoder, StandardScaler\n",
    "from sklearn.pipeline import Pipeline\n",
    "from sklearn.svm import SVC\n",
    "from sklearn.model_selection import train_test_split, GridSearchCV\n",
    "\n",
    "numerical_columns_selector = selector(dtype_exclude=object)\n",
    "categorical_columns_selector = selector(dtype_include=object)\n",
    "\n",
    "numerical_columns = numerical_columns_selector(X_res)\n",
    "categorical_columns = categorical_columns_selector(X_res)\n",
    "\n",
    "onehot = OneHotEncoder()\n",
    "scaler = StandardScaler()\n",
    "\n",
    "preprocessor = ColumnTransformer([\n",
    "    ('onehot', onehot, categorical_columns),\n",
    "    ('zscore', scaler, numerical_columns)])\n",
    "\n",
    "\n",
    "# Create a pipeline \n",
    "pipe = Pipeline([('make_features', preprocessor),\n",
    "                 ('classifier', SVC())])\n",
    "\n",
    "# Create search space of hyperparameters\n",
    "# the variable namespace looks like this\n",
    "# pipe.classifier.C is represented as 'classifier__C'\n",
    "# if we'd just chucked a LogisticRegression() in as the model\n",
    "# instead of a pipe, then we'd only have had 'C' w/o the 'classifier__' bit \n",
    "search_space = {'classifier__C': np.logspace(-4, 4, 9),\n",
    "               'classifier__kernel': ['linear', 'rbf', 'sigmoid', 'poly'],\n",
    "               'classifier__gamma': ['scale', 'auto', 0.1, 1, 10]}\n",
    "\n",
    "# Create a grid search object to find the best model\n",
    "best_model = GridSearchCV(pipe, search_space, cv=5, verbose=3, n_jobs=-1) #idk why the verbose isnt showing for me anymore\n",
    "#it just runs\n"
   ]
  },
  {
   "cell_type": "code",
   "execution_count": null,
   "metadata": {},
   "outputs": [],
   "source": [
    "#FITTING OUR BEST MODEL \n",
    "#FINDING THE BEST ACCUARACY \n",
    "#why are we splitting again here? shouldnt we fit on res anyways\n",
    "\n",
    "#_-----------------------------------------------------------------------------------\n",
    "#X_train2, X_test2, y_train2, y_test2 = train_test_split(X_res, y_res, \n",
    "                                                    #test_size=0.2, random_state=101)\n",
    "\n",
    "#_------------------------------------------------------------------------------------\n",
    "# Fit grid search\n",
    "\n",
    "\n",
    "best_model.fit(X_res, y_res)"
   ]
  },
  {
   "cell_type": "code",
   "execution_count": null,
   "metadata": {},
   "outputs": [],
   "source": [
    "#THIS IS OUR BEST MODEL \n",
    "#IT HAS C = 1, PENALTY = L2, ACCUARACY SCORE OF 67.94%--> improved to 68.6% according to above \n",
    "#USING CROSS VALIDATION \n",
    "\n",
    "\n",
    "# hay our best model has these params, and it turns out its cross validation score was perfect!\n",
    "# note how sklearn does this... once it determines the best version of the classifier\n",
    "# it refits those parameters on ALL of `X_train`... \n",
    "# in other worsds it doesn't just leave the last cross validaiton fold version hanging around :)\n",
    "best_model.best_params_, best_model.best_score_"
   ]
  },
  {
   "cell_type": "code",
   "execution_count": null,
   "metadata": {},
   "outputs": [],
   "source": [
    "#NOT A MODEL JUST COMPARING TWO DIFFERENT MODELS TO SEE WHICH INE IS BETTER\n",
    "\n",
    "# this code is from sklearn docs\n",
    "# 20x it does both a non-nested and a nested cross val on the same data\n",
    "# the two techniques are compared in their average error across the 20x loop\n",
    "\n",
    "\n",
    "from sklearn.model_selection import GridSearchCV\n",
    "from sklearn.linear_model import LogisticRegression\n",
    "from sklearn.model_selection import KFold, cross_val_score\n",
    "\n",
    "import matplotlib.pyplot as plt\n",
    "\n",
    "# Number of random trials\n",
    "NUM_TRIALS = 20\n",
    "\n",
    "\n",
    "# Set up possible values of parameters to optimize over\n",
    "# this is a regularization parameter, smaller C => more regularization\n",
    "p_grid = {\"classifier__C\": [1, 10, 100,  1000]}\n",
    "\n",
    "\n",
    "# Arrays to store scores\n",
    "non_nested_scores = np.zeros(NUM_TRIALS)\n",
    "nested_scores = np.zeros(NUM_TRIALS)\n",
    "\n",
    "# Loop for each trial\n",
    "for i in range(NUM_TRIALS):\n",
    "\n",
    "    # Choose cross-validation techniques for the inner and outer loops,\n",
    "    # independently of the dataset.\n",
    "    # E.g \"GroupKFold\", \"LeaveOneOut\", \"LeaveOneGroupOut\", etc.\n",
    "    inner_cv = KFold(n_splits=3, shuffle=True, random_state=i)\n",
    "    outer_cv = KFold(n_splits=3, shuffle=True, random_state=i)\n",
    "\n",
    "    # Non_nested parameter search and scoring\n",
    "    clf = GridSearchCV(estimator=pipe, param_grid=p_grid, cv=inner_cv)\n",
    "    clf.fit(X_res, y_res)\n",
    "    non_nested_scores[i] = clf.best_score_\n",
    "\n",
    "    # Nested CV with parameter optimization\n",
    "    nested_score = cross_val_score(clf, X=X_res, y=y_res, cv=outer_cv)\n",
    "    nested_scores[i] = nested_score.mean()\n",
    "\n",
    "score_difference = non_nested_scores - nested_scores\n",
    "\n",
    "print(\"Average difference of {:6f} with std. dev. of {:6f}.\"\n",
    "      .format(score_difference.mean(), score_difference.std()))\n",
    "\n",
    "# Plot scores on each trial for nested and non-nested CV\n",
    "plt.figure()\n",
    "plt.subplot(211)\n",
    "non_nested_scores_line, = plt.plot(non_nested_scores, color='r')\n",
    "nested_line, = plt.plot(nested_scores, color='b')\n",
    "plt.ylabel(\"score\", fontsize=\"14\")\n",
    "plt.legend([non_nested_scores_line, nested_line],\n",
    "           [\"Non-Nested CV\", \"Nested CV\"],\n",
    "           bbox_to_anchor=(1, 0, 0, .8)) #(0, .4, .5, 0))\n",
    "plt.title(\"Non-Nested and Nested Cross Validation predicting penguin species from measurements\",\n",
    "          x=.5, y=1.1, fontsize=\"15\")\n",
    "\n",
    "# Plot bar chart of the difference.\n",
    "plt.subplot(212)\n",
    "difference_plot = plt.bar(range(NUM_TRIALS), score_difference)\n",
    "plt.xlabel(\"Individual Trial #\")\n",
    "plt.legend([difference_plot],\n",
    "           [\"Non-Nested CV - Nested CV Score\"],\n",
    "           bbox_to_anchor=(1, 0, 0, .8))\n",
    "plt.ylabel(\"score difference\", fontsize=\"14\")\n",
    "\n",
    "plt.show()"
   ]
  },
  {
   "cell_type": "code",
   "execution_count": null,
   "metadata": {},
   "outputs": [],
   "source": [
    "#############\n",
    "#next is decision tree "
   ]
  },
  {
   "cell_type": "code",
   "execution_count": null,
   "metadata": {},
   "outputs": [],
   "source": [
    "'''\n",
    "For classifier__criterion: \n",
    "'gini' index: The Gini index measures the impurity of a node in a decision tree. \n",
    "It is a measure of the probability of misclassifying a randomly chosen element from the set. \n",
    "A lower Gini index indicates a better split. The advantages of using the Gini index are that \n",
    "it is computationally efficient and works well with categorical and continuous data. However, \n",
    "the Gini index may not perform well when the classes are imbalanced.\n",
    "\n",
    "'entropy' criterion: The entropy criterion measures the impurity of a node by calculating the\n",
    "entropy of the class distribution. A lower entropy indicates a better split. \n",
    "The advantages of using the entropy criterion are that it is computationally efficient and \n",
    "works well with categorical and continuous data. The entropy criterion is also more sensitive to \n",
    "changes in class probabilities than the Gini index. However, like the Gini index, the entropy criterion \n",
    "may not perform well when the classes are imbalanced. \n",
    "\n",
    "#our data was imbalanced originally and we attempted to fix that by oversampling using smote technique\n",
    "\n",
    "'log_loss' criterion: The log loss criterion is a measure of the error rate of a decision tree. \n",
    "It is based on the logistic loss function and is commonly used in logistic regression. \n",
    "A lower log loss indicates a better split. The advantages of using the log loss criterion \n",
    "are that it can handle imbalanced classes and is less prone to overfitting than the Gini index \n",
    "or entropy criterion. However, the log loss criterion is computationally more expensive and may \n",
    "not work well with categorical data.  #before oversampling this would have been a very good model\n",
    "\n",
    "\n",
    "In summary, the choice of criterion depends on the specific problem and the available data. \n",
    "The Gini index and entropy criterion are computationally efficient and work well with categorical \n",
    "and continuous data. The log loss criterion can handle imbalanced classes and is less prone to overfitting \n",
    "but is computationally more expensive and may not work well with categorical data.\n",
    "\n",
    "\n",
    "\n",
    "\n",
    "For depth: None allows it to fit as much as it wants and the less the simpler the model (e.g. 2) and the more\n",
    "(e.g. 10) the more complex and prone to overfitting\n",
    "\n",
    "\n",
    "\n",
    "for min samples split: the smaller more splits and deeper the tree is allowed to be (prone to overfitting and more complex)\n",
    "and the larger the splits teh shallower and less splits allowed so (prone to underfitting and less complex)\n",
    "\n",
    "\n",
    "\n",
    "\n",
    "For min_samples_leaf: same as above for split\n",
    "\n",
    "'''\n",
    "\n",
    "from sklearn.compose import ColumnTransformer\n",
    "from sklearn.compose import make_column_selector as selector\n",
    "from sklearn.preprocessing import OneHotEncoder, StandardScaler\n",
    "from sklearn.pipeline import Pipeline\n",
    "from sklearn.tree import DecisionTreeClassifier\n",
    "from sklearn.model_selection import GridSearchCV\n",
    "\n",
    "numerical_columns_selector = selector(dtype_exclude=object)\n",
    "categorical_columns_selector = selector(dtype_include=object)\n",
    "\n",
    "numerical_columns = numerical_columns_selector(X_res)\n",
    "categorical_columns = categorical_columns_selector(X_res)\n",
    "\n",
    "onehot = OneHotEncoder()\n",
    "scaler = StandardScaler()\n",
    "\n",
    "preprocessor = ColumnTransformer([\n",
    "    ('onehot', onehot, categorical_columns),\n",
    "    ('zscore', scaler, numerical_columns)])\n",
    "\n",
    "# Create a pipeline \n",
    "pipe = Pipeline([('make_features', preprocessor),\n",
    "                 ('classifier', DecisionTreeClassifier())])\n",
    "\n",
    "# Create search space of hyperparameters\n",
    "search_space = {'classifier__criterion': ['gini', 'entropy', 'log_loss'],\n",
    "                'classifier__max_depth': [None, 2, 5, 10, 20],\n",
    "                'classifier__min_samples_split': [2, 5, 10],\n",
    "                'classifier__min_samples_leaf': [1, 2, 4]}\n",
    "\n",
    "# Create a grid search object to find the best model\n",
    "best_model = GridSearchCV(pipe, search_space, cv=5, verbose=3, n_jobs=-1) #njobs = -1 makes it faster"
   ]
  },
  {
   "cell_type": "code",
   "execution_count": null,
   "metadata": {},
   "outputs": [],
   "source": [
    "#FITTING OUR BEST MODEL \n",
    "#FINDING THE BEST ACCUARACY \n",
    "#why are we splitting again here? shouldnt we fit on res anyways\n",
    "\n",
    "\n",
    "# Fit grid search\n",
    "\n",
    "%timeit\n",
    "\n",
    "best_model.fit(X_res, y_res)"
   ]
  },
  {
   "cell_type": "code",
   "execution_count": null,
   "metadata": {},
   "outputs": [],
   "source": [
    "#THIS IS OUR BEST MODEL \n",
    "#IT HAS C = 1, PENALTY = L2, ACCUARACY SCORE OF 67.94%--> improved to 68.6% according to above \n",
    "#USING CROSS VALIDATION \n",
    "\n",
    "\n",
    "# hay our best model has these params, and it turns out its cross validation score was perfect!\n",
    "# note how sklearn does this... once it determines the best version of the classifier\n",
    "# it refits those parameters on ALL of `X_train`... \n",
    "# in other worsds it doesn't just leave the last cross validaiton fold version hanging around :)\n",
    "best_model.best_params_, best_model.best_score_"
   ]
  },
  {
   "cell_type": "code",
   "execution_count": null,
   "metadata": {},
   "outputs": [],
   "source": [
    "#################################\n",
    "#next is naive bayes whihch doenst have any hyperparameters to tune\n"
   ]
  },
  {
   "cell_type": "code",
   "execution_count": null,
   "metadata": {},
   "outputs": [],
   "source": [
    "'''\n",
    "Naive bayes has no hyperparameter so just explain naive bayes itself\n",
    "'''\n",
    "\n",
    "\n",
    "# Import necessary modules\n",
    "from sklearn.naive_bayes import GaussianNB\n",
    "from sklearn.compose import ColumnTransformer\n",
    "from sklearn.compose import make_column_selector as selector\n",
    "from sklearn.preprocessing import OneHotEncoder, StandardScaler\n",
    "from sklearn.pipeline import Pipeline\n",
    "from sklearn.model_selection import train_test_split, GridSearchCV\n",
    "\n",
    "# Define numerical and categorical column selectors\n",
    "numerical_columns_selector = selector(dtype_exclude=object)\n",
    "categorical_columns_selector = selector(dtype_include=object)\n",
    "\n",
    "# Get numerical and categorical column names\n",
    "numerical_columns = numerical_columns_selector(X_res)\n",
    "categorical_columns = categorical_columns_selector(X_res)\n",
    "\n",
    "# Define one-hot encoder and scaler\n",
    "onehot = OneHotEncoder()\n",
    "scaler = StandardScaler()\n",
    "\n",
    "# Define preprocessor\n",
    "preprocessor = ColumnTransformer([\n",
    "    ('onehot', onehot, categorical_columns),\n",
    "    ('zscore', scaler, numerical_columns)\n",
    "])\n",
    "\n",
    "# Create a pipeline \n",
    "pipe = Pipeline([\n",
    "    ('make_features', preprocessor),\n",
    "    ('classifier', GaussianNB())\n",
    "])\n",
    "\n",
    "# Create search space of hyperparameters\n",
    "search_space = {}\n",
    "\n",
    "# Create a grid search object to find the best model\n",
    "best_model = GridSearchCV(pipe, search_space, cv=5, verbose=3, n_jobs = -1)"
   ]
  },
  {
   "cell_type": "code",
   "execution_count": null,
   "metadata": {},
   "outputs": [],
   "source": [
    "#FITTING OUR BEST MODEL \n",
    "#FINDING THE BEST ACCUARACY \n",
    "#why are we splitting again here? shouldnt we fit on res anyways\n",
    "\n",
    "\n",
    "# Fit grid search\n",
    "best_model.fit(X_res, y_res)"
   ]
  },
  {
   "cell_type": "code",
   "execution_count": null,
   "metadata": {},
   "outputs": [],
   "source": [
    "#THIS IS OUR BEST MODEL \n",
    "#IT HAS C = 1, PENALTY = L2, ACCUARACY SCORE OF 67.94%--> improved to 68.6% according to above \n",
    "#USING CROSS VALIDATION \n",
    "\n",
    "\n",
    "# hay our best model has these params, and it turns out its cross validation score was perfect!\n",
    "# note how sklearn does this... once it determines the best version of the classifier\n",
    "# it refits those parameters on ALL of `X_train`... \n",
    "# in other worsds it doesn't just leave the last cross validaiton fold version hanging around :)\n",
    "best_model.best_params_, best_model.best_score_"
   ]
  },
  {
   "cell_type": "code",
   "execution_count": 24,
   "metadata": {},
   "outputs": [],
   "source": [
    "############################################\n",
    "# next is knn \n"
   ]
  },
  {
   "cell_type": "code",
   "execution_count": 25,
   "metadata": {},
   "outputs": [],
   "source": [
    "'''\n",
    "\n",
    "the number of neighbhors the more the neighbhors the more the \n",
    "\n",
    "the weights are quite literally that uniform is just 1/n and distance values the closer the neighbors \n",
    "the more value it willhave\n",
    "\n",
    "finally the algorithms: \n",
    "'auto': This is the default algorithm, which selects the most appropriate algorithm \n",
    "based on the characteristics of the data. It is a good choice for most datasets.\n",
    "\n",
    "Pros:\n",
    "\n",
    "Automatic selection of the best algorithm based on the input data.\n",
    "Suitable for most datasets.\n",
    "Cons:\n",
    "\n",
    "None.\n",
    "\n",
    "\n",
    "'ball_tree': This algorithm constructs a ball tree data structure to find the nearest \n",
    "neighbors. It is a good choice when the number of features is large compared to the number of samples. #not good for ours\n",
    "\n",
    "Pros:\n",
    "\n",
    "Efficient for high-dimensional datasets.\n",
    "Can be faster than brute force algorithm for some datasets.\n",
    "Cons:\n",
    "\n",
    "Slower than brute force algorithm for low-dimensional datasets. Memory-intensive.\n",
    "\n",
    "\n",
    "'kd_tree': This algorithm constructs a kd-tree data structure to find the nearest neighbors. \n",
    "It is a good choice when the number of features is small compared to the number of samples. #good for ours\n",
    "\n",
    "Pros:\n",
    "\n",
    "Efficient for low-dimensional datasets.\n",
    "Can be faster than brute force algorithm for some datasets.\n",
    "Cons:\n",
    "\n",
    "Slower than brute force algorithm for high-dimensional datasets.\n",
    "Memory-intensive.\n",
    "\n",
    "\n",
    "'brute': This algorithm computes the distances between all pairs of points in the dataset to find the nearest\n",
    "neighbors. It is a good choice for small datasets. #ok for ours i think kd-tree is better\n",
    "\n",
    "Pros:\n",
    "\n",
    "Simple and easy to understand.\n",
    "Suitable for small datasets.\n",
    "Cons:\n",
    "\n",
    "Slow and inefficient for large datasets. Memory-intensive.\n",
    "\n",
    "In general, the choice of algorithm depends on the size and characteristics of the dataset. \n",
    "If the number of features is large, ball tree algorithm may be a good choice, whereas if the number of samples is small and the number of features is low, kd-tree algorithm may be a good choice. If the dataset is small, brute force algorithm may be a good choice. The auto option can be a good\n",
    "\n",
    "\n",
    "\n",
    "\n",
    "\n",
    "'''\n",
    "from sklearn.neighbors import KNeighborsClassifier\n",
    "from sklearn.compose import ColumnTransformer\n",
    "from sklearn.compose import make_column_selector as selector\n",
    "from sklearn.preprocessing import OneHotEncoder, StandardScaler\n",
    "from sklearn.pipeline import Pipeline\n",
    "from sklearn.model_selection import train_test_split, GridSearchCV\n",
    "\n",
    "# Define numerical and categorical column selectors\n",
    "numerical_columns_selector = selector(dtype_exclude=object)\n",
    "categorical_columns_selector = selector(dtype_include=object)\n",
    "\n",
    "# Get numerical and categorical column names\n",
    "numerical_columns = numerical_columns_selector(X_res)\n",
    "categorical_columns = categorical_columns_selector(X_res)\n",
    "\n",
    "# Define one-hot encoder and scaler\n",
    "onehot = OneHotEncoder()\n",
    "scaler = StandardScaler()\n",
    "\n",
    "# Define preprocessor\n",
    "preprocessor = ColumnTransformer([\n",
    "    ('onehot', onehot, categorical_columns),\n",
    "    ('zscore', scaler, numerical_columns)\n",
    "])\n",
    "\n",
    "# Create a pipeline \n",
    "pipe = Pipeline([\n",
    "    ('make_features', preprocessor),\n",
    "    ('classifier', KNeighborsClassifier())\n",
    "])\n",
    "\n",
    "# Create search space of hyperparameters\n",
    "search_space = {\n",
    "    'classifier__n_neighbors': range(1, 31),\n",
    "    'classifier__weights': ['uniform', 'distance'],\n",
    "    'classifier__algorithm': ['auto', 'ball_tree', 'kd_tree', 'brute']\n",
    "}\n",
    "\n",
    "# Create a grid search object to find the best model\n",
    "best_model = GridSearchCV(pipe, search_space, cv=5, verbose=3, n_jobs = -1)\n"
   ]
  },
  {
   "cell_type": "code",
   "execution_count": null,
   "metadata": {},
   "outputs": [
    {
     "name": "stdout",
     "output_type": "stream",
     "text": [
      "Fitting 5 folds for each of 240 candidates, totalling 1200 fits\n"
     ]
    }
   ],
   "source": [
    "%%timeit\n",
    "\n",
    "#FITTING OUR BEST MODEL \n",
    "#FINDING THE BEST ACCUARACY \n",
    "#why are we splitting again here? shouldnt we fit on res anyways\n",
    "\n",
    "\n",
    "# Fit grid search\n",
    "best_model.fit(X_res, y_res)"
   ]
  },
  {
   "cell_type": "code",
   "execution_count": null,
   "metadata": {},
   "outputs": [],
   "source": [
    "#THIS IS OUR BEST MODEL \n",
    "#IT HAS C = 1, PENALTY = L2, ACCUARACY SCORE OF 67.94%--> improved to 68.6% according to above \n",
    "#USING CROSS VALIDATION \n",
    "\n",
    "\n",
    "# hay our best model has these params, and it turns out its cross validation score was perfect!\n",
    "# note how sklearn does this... once it determines the best version of the classifier\n",
    "# it refits those parameters on ALL of `X_train`... \n",
    "# in other worsds it doesn't just leave the last cross validaiton fold version hanging around :)\n",
    "best_model.best_params_, best_model.best_score_"
   ]
  },
  {
   "cell_type": "code",
   "execution_count": null,
   "metadata": {},
   "outputs": [],
   "source": [
    "###############################\n",
    "#next is kernel ridge regression\n"
   ]
  },
  {
   "cell_type": "code",
   "execution_count": null,
   "metadata": {},
   "outputs": [],
   "source": [
    "'''\n",
    "\n",
    "We covered the kernel values here \n",
    "\n",
    "the gamma value  determines the inverse of the width of the kernel function, \n",
    "which in turn affects the degree of smoothing of the resulting regression function.\n",
    "\n",
    "The 'scale' value of the regressor__gamma hyperparameter specifies \n",
    "that gamma should be set to 1 / (n_features * X.var()), where n_features is \n",
    "the number of features in the input data X. This is equivalent to scaling each feature \n",
    "to have unit variance before computing gamma.\n",
    "\n",
    "The 'auto' value of regressor__gamma specifies that gamma should be set to 1 / n_features. \n",
    "This is equivalent to using the median of the distances between all pairs of points in the \n",
    "input data X to set the scale of the kernel function.\n",
    "\n",
    "Finally the alpha value a lower value like 0.001 means weak regularization and more complex model\n",
    "with greater overfittign and vice versa for values like a 1000\n",
    "'''\n",
    "\n",
    "from sklearn.kernel_ridge import KernelRidge\n",
    "from sklearn.compose import ColumnTransformer\n",
    "from sklearn.compose import make_column_selector as selector\n",
    "from sklearn.preprocessing import OneHotEncoder, StandardScaler\n",
    "from sklearn.pipeline import Pipeline\n",
    "from sklearn.model_selection import train_test_split, GridSearchCV\n",
    "\n",
    "# Define numerical and categorical column selectors\n",
    "numerical_columns_selector = selector(dtype_exclude=object)\n",
    "categorical_columns_selector = selector(dtype_include=object)\n",
    "\n",
    "# Get numerical and categorical column names\n",
    "numerical_columns = numerical_columns_selector(X_res)\n",
    "categorical_columns = categorical_columns_selector(X_res)\n",
    "\n",
    "# Define one-hot encoder and scaler\n",
    "onehot = OneHotEncoder()\n",
    "scaler = StandardScaler()\n",
    "\n",
    "# Define preprocessor\n",
    "preprocessor = ColumnTransformer([\n",
    "    ('onehot', onehot, categorical_columns),\n",
    "    ('zscore', scaler, numerical_columns)\n",
    "])\n",
    "\n",
    "# Create a pipeline \n",
    "pipe = Pipeline([\n",
    "    ('make_features', preprocessor),\n",
    "    ('regressor', KernelRidge())\n",
    "])\n",
    "\n",
    "# Create search space of hyperparameters\n",
    "search_space = {\n",
    "    'regressor__alpha': [0.1, 1, 10],\n",
    "    'regressor__kernel': ['linear', 'rbf', 'polynomial'],\n",
    "    'regressor__gamma': ['scale', 'auto']\n",
    "}\n",
    "\n",
    "# Create a grid search object to find the best model\n",
    "best_model = GridSearchCV(pipe, search_space, cv=5, verbose=3, n_jobs = -1)\n"
   ]
  },
  {
   "cell_type": "code",
   "execution_count": null,
   "metadata": {},
   "outputs": [],
   "source": [
    "#FITTING OUR BEST MODEL \n",
    "#FINDING THE BEST ACCUARACY \n",
    "#why are we splitting again here? shouldnt we fit on res anyways\n",
    "\n",
    "\n",
    "# Fit grid search\n",
    "\n",
    "%timeit\n",
    "best_model.fit(X_res, y_res)"
   ]
  },
  {
   "cell_type": "code",
   "execution_count": null,
   "metadata": {},
   "outputs": [],
   "source": [
    "#THIS IS OUR BEST MODEL \n",
    "#IT HAS C = 1, PENALTY = L2, ACCUARACY SCORE OF 67.94%--> improved to 68.6% according to above \n",
    "#USING CROSS VALIDATION \n",
    "\n",
    "\n",
    "# hay our best model has these params, and it turns out its cross validation score was perfect!\n",
    "# note how sklearn does this... once it determines the best version of the classifier\n",
    "# it refits those parameters on ALL of `X_train`... \n",
    "# in other worsds it doesn't just leave the last cross validaiton fold version hanging around :)\n",
    "best_model.best_params_, best_model.best_score_"
   ]
  },
  {
   "cell_type": "code",
   "execution_count": null,
   "metadata": {},
   "outputs": [],
   "source": [
    "############################################\n",
    "#only thing left are the ensemble methods ---Random Forest, Adaboost, Gradient"
   ]
  },
  {
   "cell_type": "code",
   "execution_count": null,
   "metadata": {},
   "outputs": [],
   "source": [
    "#################################################\n",
    "### Next is Adaaptive Gradient boost Ensemble Technique also known as adaboost"
   ]
  },
  {
   "cell_type": "code",
   "execution_count": null,
   "metadata": {},
   "outputs": [],
   "source": [
    "'''\n",
    "\n",
    "n_estimators is the max number of estimators (weak learners) the value is capped at in this case and higher number is more \n",
    "complex (like 200) and lower is less and 50 is the default value\n",
    "\n",
    "learning rate is teh step size and lower is more complex and prone to overfitting and higher isnt\n",
    "\n",
    "\n",
    "the algorithms are used to calculate the weights for each of the weak learners in the ensemble.\n",
    "\n",
    "'SAMME' stands for Stagewise Additive Modeling using a Multi-class Exponential loss function. \n",
    "This algorithm works well for binary classification problems, but can also be extended to multiclass problems.\n",
    "'SAMME.R' is a variant of the SAMME algorithm that uses real-valued predictions \n",
    "from the weak learners and can often converge faster than the original SAMME algorithm.\n",
    "In general, 'SAMME.R' tends to perform better than 'SAMME' for most cases, but the \n",
    "optimal choice may depend on the specific problem being solved.\n",
    "\n",
    "#both of the algorithms seem reasonable to me\n",
    "\n",
    "\n",
    "'''\n",
    "\n",
    "from sklearn.ensemble import AdaBoostClassifier\n",
    "from sklearn.compose import ColumnTransformer\n",
    "from sklearn.compose import make_column_selector as selector\n",
    "from sklearn.preprocessing import OneHotEncoder, StandardScaler\n",
    "from sklearn.pipeline import Pipeline\n",
    "from sklearn.model_selection import train_test_split, GridSearchCV\n",
    "\n",
    "# Define numerical and categorical column selectors\n",
    "numerical_columns_selector = selector(dtype_exclude=object)\n",
    "categorical_columns_selector = selector(dtype_include=object)\n",
    "\n",
    "# Get numerical and categorical column names\n",
    "numerical_columns = numerical_columns_selector(X_res)\n",
    "categorical_columns = categorical_columns_selector(X_res)\n",
    "\n",
    "# Define one-hot encoder and scaler\n",
    "onehot = OneHotEncoder()\n",
    "scaler = StandardScaler()\n",
    "\n",
    "# Define preprocessor\n",
    "preprocessor = ColumnTransformer([\n",
    "    ('onehot', onehot, categorical_columns),\n",
    "    ('zscore', scaler, numerical_columns)\n",
    "])\n",
    "\n",
    "# Create a pipeline \n",
    "pipe = Pipeline([\n",
    "    ('make_features', preprocessor),\n",
    "    ('classifier', AdaBoostClassifier())\n",
    "])\n",
    "\n",
    "# Create search space of hyperparameters\n",
    "search_space = {\n",
    "    'classifier__n_estimators': [50, 100, 150, 200],\n",
    "    'classifier__learning_rate': [0.01, 0.1, 1, 10],\n",
    "    'classifier__algorithm': ['SAMME', 'SAMME.R']\n",
    "}\n",
    "\n",
    "# Create a grid search object to find the best model\n",
    "best_model = GridSearchCV(pipe, search_space, cv=5, verbose=3, n_jobs = -1)\n"
   ]
  },
  {
   "cell_type": "code",
   "execution_count": null,
   "metadata": {},
   "outputs": [],
   "source": [
    "#FITTING OUR BEST MODEL \n",
    "#FINDING THE BEST ACCUARACY \n",
    "#why are we splitting again here? shouldnt we fit on res anyways\n",
    "\n",
    "\n",
    "# Fit grid search\n",
    "%timeit\n",
    "best_model.fit(X_res, y_res)"
   ]
  },
  {
   "cell_type": "code",
   "execution_count": null,
   "metadata": {},
   "outputs": [],
   "source": [
    "#THIS IS OUR BEST MODEL \n",
    "#IT HAS C = 1, PENALTY = L2, ACCUARACY SCORE OF 67.94%--> improved to 68.6% according to above \n",
    "#USING CROSS VALIDATION \n",
    "\n",
    "\n",
    "# hay our best model has these params, and it turns out its cross validation score was perfect!\n",
    "# note how sklearn does this... once it determines the best version of the classifier\n",
    "# it refits those parameters on ALL of `X_train`... \n",
    "# in other worsds it doesn't just leave the last cross validaiton fold version hanging around :)\n",
    "best_model.best_params_, best_model.best_score_"
   ]
  },
  {
   "cell_type": "code",
   "execution_count": null,
   "metadata": {},
   "outputs": [],
   "source": []
  },
  {
   "cell_type": "code",
   "execution_count": null,
   "metadata": {},
   "outputs": [],
   "source": [
    "############################\n",
    "## Next is Gradient Tree Boosting"
   ]
  },
  {
   "cell_type": "code",
   "execution_count": null,
   "metadata": {},
   "outputs": [],
   "source": [
    "'''\n",
    "\n",
    "\n",
    "estimators and learning rate i covered above\n",
    "and since its a tree we know what the depth, leaves, and split  means as well\n",
    "only the max features are left:\n",
    "\n",
    "The max_features parameter in gradient tree boosting determines the maximum number of \n",
    "features to consider when looking for the best split at each node. Here are some pros \n",
    "and cons of using different options for this parameter:\n",
    "\n",
    "Pros of 'auto':\n",
    "\n",
    "Default value for this parameter\n",
    "Results in a good balance between bias and variance\n",
    "Can help avoid overfitting by limiting the number of features considered\n",
    "Cons of 'auto':\n",
    "\n",
    "May not always select the most informative features\n",
    "May result in a slightly higher bias than other options\n",
    "Pros of 'sqrt':\n",
    "\n",
    "Generally results in a lower bias than 'auto'\n",
    "Limits the number of features considered, helping to avoid overfitting\n",
    "Cons of 'sqrt':\n",
    "\n",
    "May not always select the most informative features\n",
    "May result in a slightly higher variance than 'auto'\n",
    "Pros of 'log2':\n",
    "\n",
    "Similar to 'sqrt', but may result in an even lower bias\n",
    "Limits the number of features considered, helping to avoid overfitting\n",
    "Cons of 'log2':\n",
    "\n",
    "May not always select the most informative features\n",
    "May result in a slightly higher variance than 'auto' or 'sqrt'\n",
    "Overall, the choice of max_features depends on the specific problem and dataset\n",
    "being analyzed. In general, it is a good idea to try out multiple options\n",
    "and see which one performs best through cross-validation.\n",
    "\n",
    "\n",
    "\n",
    "'''\n",
    "from sklearn.ensemble import GradientBoostingClassifier\n",
    "from sklearn.compose import ColumnTransformer\n",
    "from sklearn.compose import make_column_selector as selector\n",
    "from sklearn.preprocessing import OneHotEncoder, StandardScaler\n",
    "from sklearn.pipeline import Pipeline\n",
    "from sklearn.model_selection import train_test_split, GridSearchCV\n",
    "\n",
    "# Define numerical and categorical column selectors\n",
    "numerical_columns_selector = selector(dtype_exclude=object)\n",
    "categorical_columns_selector = selector(dtype_include=object)\n",
    "\n",
    "# Get numerical and categorical column names\n",
    "numerical_columns = numerical_columns_selector(X_res)\n",
    "categorical_columns = categorical_columns_selector(X_res)\n",
    "\n",
    "# Define one-hot encoder and scaler\n",
    "onehot = OneHotEncoder()\n",
    "scaler = StandardScaler()\n",
    "\n",
    "# Define preprocessor\n",
    "preprocessor = ColumnTransformer([\n",
    "    ('onehot', onehot, categorical_columns),\n",
    "    ('zscore', scaler, numerical_columns)\n",
    "])\n",
    "\n",
    "# Create a pipeline \n",
    "pipe = Pipeline([\n",
    "    ('make_features', preprocessor),\n",
    "    ('classifier', GradientBoostingClassifier())\n",
    "])\n",
    "\n",
    "# Create search space of hyperparameters\n",
    "search_space = {\n",
    "    'classifier__n_estimators': [50, 100, 150, 200],\n",
    "    'classifier__learning_rate': [0.01, 0.1, 1, 10],\n",
    "    'classifier__max_depth': [3, 5, 7],\n",
    "    'classifier__min_samples_split': [2, 5, 10],\n",
    "    'classifier__min_samples_leaf': [1, 2, 4],\n",
    "    'classifier__max_features': ['auto', 'sqrt', 'log2']\n",
    "}\n",
    "\n",
    "# Create a grid search object to find the best model\n",
    "best_model = GridSearchCV(pipe, search_space, cv=5, verbose=3, n_jobs = -1)\n"
   ]
  },
  {
   "cell_type": "code",
   "execution_count": null,
   "metadata": {},
   "outputs": [],
   "source": [
    "#FITTING OUR BEST MODEL \n",
    "#FINDING THE BEST ACCUARACY \n",
    "#why are we splitting again here? shouldnt we fit on res anyways\n",
    "\n",
    "\n",
    "# Fit grid search\n",
    "\n",
    "%timeit\n",
    "best_model.fit(X_res, y_res)"
   ]
  },
  {
   "cell_type": "code",
   "execution_count": null,
   "metadata": {},
   "outputs": [],
   "source": [
    "#THIS IS OUR BEST MODEL \n",
    "#IT HAS C = 1, PENALTY = L2, ACCUARACY SCORE OF 67.94%--> improved to 68.6% according to above \n",
    "#USING CROSS VALIDATION \n",
    "\n",
    "\n",
    "# hay our best model has these params, and it turns out its cross validation score was perfect!\n",
    "# note how sklearn does this... once it determines the best version of the classifier\n",
    "# it refits those parameters on ALL of `X_train`... \n",
    "# in other worsds it doesn't just leave the last cross validaiton fold version hanging around :)\n",
    "best_model.best_params_, best_model.best_score_"
   ]
  },
  {
   "cell_type": "code",
   "execution_count": null,
   "metadata": {},
   "outputs": [],
   "source": [
    "########################################\n",
    "###Next is the random forest"
   ]
  },
  {
   "cell_type": "code",
   "execution_count": null,
   "metadata": {},
   "outputs": [],
   "source": [
    "'''\n",
    "all the hyper parameters were covered just compare random forest to the other two boosting methods\n",
    "\n",
    "'''\n",
    "\n",
    "\n",
    "from sklearn.ensemble import RandomForestClassifier\n",
    "from sklearn.compose import ColumnTransformer\n",
    "from sklearn.compose import make_column_selector as selector\n",
    "from sklearn.preprocessing import OneHotEncoder, StandardScaler\n",
    "from sklearn.pipeline import Pipeline\n",
    "from sklearn.model_selection import train_test_split, GridSearchCV\n",
    "\n",
    "# Define numerical and categorical column selectors\n",
    "numerical_columns_selector = selector(dtype_exclude=object)\n",
    "categorical_columns_selector = selector(dtype_include=object)\n",
    "\n",
    "# Get numerical and categorical column names\n",
    "numerical_columns = numerical_columns_selector(X_res)\n",
    "categorical_columns = categorical_columns_selector(X_res)\n",
    "\n",
    "# Define one-hot encoder and scaler\n",
    "onehot = OneHotEncoder()\n",
    "scaler = StandardScaler()\n",
    "\n",
    "# Define preprocessor\n",
    "preprocessor = ColumnTransformer([\n",
    "    ('onehot', onehot, categorical_columns),\n",
    "    ('zscore', scaler, numerical_columns)\n",
    "])\n",
    "\n",
    "# Create a pipeline \n",
    "pipe = Pipeline([\n",
    "    ('make_features', preprocessor),\n",
    "    ('classifier', RandomForestClassifier())\n",
    "])\n",
    "\n",
    "# Create search space of hyperparameters\n",
    "search_space = {\n",
    "    'classifier__n_estimators': [50, 100, 150, 200],\n",
    "    'classifier__criterion': ['gini', 'entropy'],\n",
    "    'classifier__max_depth': [3, 5, 7, None],\n",
    "    'classifier__min_samples_split': [2, 5, 10],\n",
    "    'classifier__min_samples_leaf': [1, 2, 4],\n",
    "    'classifier__max_features': ['auto', 'sqrt', 'log2']\n",
    "}\n",
    "\n",
    "# Create a grid search object to find the best model\n",
    "best_model = GridSearchCV(pipe, search_space, cv=5, verbose=3, n_jobs = -1)\n"
   ]
  },
  {
   "cell_type": "code",
   "execution_count": null,
   "metadata": {},
   "outputs": [],
   "source": [
    "#FITTING OUR BEST MODEL \n",
    "#FINDING THE BEST ACCUARACY \n",
    "#why are we splitting again here? shouldnt we fit on res anyways\n",
    "\n",
    "\n",
    "# Fit grid search\n",
    "%timeit\n",
    "best_model.fit(X_res, y_res)"
   ]
  },
  {
   "cell_type": "code",
   "execution_count": null,
   "metadata": {},
   "outputs": [],
   "source": [
    "#THIS IS OUR BEST MODEL \n",
    "#IT HAS C = 1, PENALTY = L2, ACCUARACY SCORE OF 67.94%--> improved to 68.6% according to above \n",
    "#USING CROSS VALIDATION \n",
    "\n",
    "\n",
    "# hay our best model has these params, and it turns out its cross validation score was perfect!\n",
    "# note how sklearn does this... once it determines the best version of the classifier\n",
    "# it refits those parameters on ALL of `X_train`... \n",
    "# in other worsds it doesn't just leave the last cross validaiton fold version hanging around :)\n",
    "best_model.best_params_, best_model.best_score_"
   ]
  },
  {
   "cell_type": "code",
   "execution_count": null,
   "metadata": {},
   "outputs": [],
   "source": [
    "\n",
    "\n",
    "##I didnt do it cuz i didnt want to interrupt the running code but it would have been ideal to add all these values to a \n",
    "## a list or something for reference but I didnt so just have to look here for the code\n",
    "\n"
   ]
  },
  {
   "cell_type": "code",
   "execution_count": null,
   "metadata": {},
   "outputs": [],
   "source": [
    "#NO CODE BELOW THIS IS NEEDED - DELETE"
   ]
  },
  {
   "cell_type": "code",
   "execution_count": null,
   "metadata": {},
   "outputs": [],
   "source": [
    "'''\n",
    "\n",
    "Wanna make a quick note that we use classification over all the regression method ssince regression is for continuous values\n",
    "Classification works better in our case of approve or not\n",
    "\n",
    "'''"
   ]
  },
  {
   "cell_type": "markdown",
   "metadata": {},
   "source": [
    "# Proposed Solution\n",
    "\n",
    "Our proposed solution to predicting whether individuals get approved for a credit card and understanding what variables play a role in making that decision is to use classifiers based on the techniques we’ve learnt in class. \n",
    "First, we will use k-fold validation to determine our model of choice by validating over logistic classifiers/ regression, naive Bayes, Linear SVM, kernel ridge regression with l1, l2, and elastic net penalty. We will choose the model that gives us the highest accuracy score. \n",
    "We are using K-fold validation since with the train-validation-test model split we always run the issue of overfitting on the training data. K-fold validation instead trains and evaluates on all available data by splitting the data amongst each fold training on that and testing on the rest. \n",
    "We are using logistic classifiers/ regression, naive Bayes, Linear SVM, and kernel ridge regression since they are machine learning classifiers. Our proposed problem is to predict whether to approve a credit card for an applicant based on a variety of factors that were asked on their application. This is a yes or no question which makes it a binary classification task. As a result, it makes a lot of sense to use machine learning classification algorithms that can also be used to solve binary classification problems like the algorithms above. We are using these specific algorithms since we are familiar with these algorithms and understand how to run and evaluate them effectively. Furthermore, we use L1, L2, and elasticnet penalty on kernel ridge regression since these are regularization terms that will curb overfitting and make generalization better. \n",
    "With the chosen model we will validate across parameters. In the case of logistic regression, we will validate over the values of C = [0.01, 0.1, 1, 10, 100] to find our best model. \n",
    "For Naive Bayes, we will validate over Gaussian Naive Bayes and Multinomial Naive Bayes and choose our alpha from the following values - [0.01,0.05, 0.1, 0.2, 0.25].\n",
    "For Linear SVM, we will validate over different kernel functions - 'linear', 'poly', 'rbf', and 'sigmoid' and we will choose over values of C = [0.01, 0.1, 1, 10, 100] to find the best model. \n",
    "For Kernel Ridge, we will validate over the following values of alpha - [0.01, 0.1, 1.0, 10.0, 100.0], the kernel functions of linear, polynomial, and RBF and related kernel-specific parameters.\n",
    "Our extensive search over the models and their parameters will make our classification model accurate. As our dataset is not super large, we are not as concerned about computational efficiency - something to improve on while expanding on the project. \n",
    "We will finally train our model and test it to see its accuracy and compare it to existing models available on Kaggle to compare our performance. We will set up a confusion matrix to see how the model fares and plot the ROC/AUC. \n"
   ]
  },
  {
   "cell_type": "markdown",
   "metadata": {},
   "source": [
    "# Evaluation Metrics\n",
    "\n",
    "We will use both precision and recall metrics to evaluate our model as both false negatives and false positives are of significant concern to our model. A credit card company would need to maximize eligible customers to increase revenue by minimizing the number of false negatives and also would need to minimize the number of individuals who may default to cut losses hence minimizing the false positives. Since neither one of the metrics is more important to our model, we will additionally use the f1 score which incorporates both precision and recall to finally measure the performance of our model. \n"
   ]
  },
  {
   "cell_type": "markdown",
   "metadata": {},
   "source": [
    "# Preliminary results\n"
   ]
  },
  {
   "cell_type": "markdown",
   "metadata": {},
   "source": [
    "This dataset is extremely suited for this problem since it has a column which is Status which tells based on the previous columns whether or not the credit card request was approved. This was also a dataset of over 10,000 datapoints which is good for our algorithm. We explained the reasoning for our algorithms in another section and our baseline is if its greater than the mean than we accept it. This is our baseline of baselines. Afterwards we will do do k-fold and use that as the baseline to test our hyperparameters and parameters in order to select the best models. "
   ]
  },
  {
   "cell_type": "code",
   "execution_count": null,
   "metadata": {},
   "outputs": [],
   "source": [
    "#next is making all columns which arent numerical numerical\n",
    "#first we will check \"which columns arent numerical\n",
    "credit.dtypes"
   ]
  },
  {
   "cell_type": "code",
   "execution_count": null,
   "metadata": {},
   "outputs": [],
   "source": [
    "#credit = credit.drop(columns = ['Applicant_Gender', 'Housing_Type', 'Education_Type','Family_Status'])\n",
    "credit"
   ]
  },
  {
   "cell_type": "code",
   "execution_count": null,
   "metadata": {},
   "outputs": [],
   "source": []
  },
  {
   "cell_type": "code",
   "execution_count": null,
   "metadata": {},
   "outputs": [],
   "source": [
    "#from the above we see that Applicant_Gender , Housing_Type , Education_Type , Family_Status\n",
    "#check the unique values for applicant_gender\n",
    "credit['Applicant_Gender'].unique()\n",
    "#from below we see that its male or female"
   ]
  },
  {
   "cell_type": "code",
   "execution_count": null,
   "metadata": {},
   "outputs": [],
   "source": [
    "#credit['Applicant_Gender'] = credit['Applicant_Gender'] == 'M'"
   ]
  },
  {
   "cell_type": "code",
   "execution_count": null,
   "metadata": {},
   "outputs": [],
   "source": [
    "credit['Applicant_Gender'] = credit['Applicant_Gender'].replace('M      ',1)\n",
    "credit['Applicant_Gender'] = credit['Applicant_Gender'].replace('F      ',0)\n",
    "credit"
   ]
  },
  {
   "cell_type": "code",
   "execution_count": null,
   "metadata": {},
   "outputs": [],
   "source": [
    "credit.head()"
   ]
  },
  {
   "cell_type": "code",
   "execution_count": null,
   "metadata": {},
   "outputs": [],
   "source": [
    "def one_hot_encode(x:np.ndarray):\n",
    "    # your code here\n",
    "    uniqueValues = np.unique(x) #so the unique is not the same each time which can cause the names of the columns to be\n",
    "    #incorrect so we will first sort it\n",
    "    numUnique = len(np.unique(x))\n",
    "    #print(sizeOfArrays)\n",
    "    #print(type(uniqueValues))\n",
    "    #oneHot = np.zeros((numUnique, len(x)))\n",
    "    oneHot = np.zeros((len(x), numUnique))\n",
    "    #print(uniqueValues)\n",
    "    i = 0\n",
    "    for val in x:\n",
    "        oneHot[i][np.where(uniqueValues == val)[0][0]] = 1\n",
    "        i += 1\n",
    "    #print(oneHot)\n",
    "    return uniqueValues, oneHot;"
   ]
  },
  {
   "cell_type": "code",
   "execution_count": null,
   "metadata": {},
   "outputs": [],
   "source": [
    "#housing one hot encoding\n",
    "housing = credit['Housing_Type']\n",
    "housing = np.array(list(housing))\n",
    "housing\n",
    "print(type(housing))\n"
   ]
  },
  {
   "cell_type": "code",
   "execution_count": null,
   "metadata": {},
   "outputs": [],
   "source": [
    "namesForOneHotHousing, oneHotHousing = one_hot_encode(housing)\n",
    "#oneHotHousing = arrHouse[:]\n",
    "#namesForOneHotHousing = arrHouse[0]\n",
    "print(namesForOneHotHousing)\n",
    "print(oneHotHousing)\n",
    "print(oneHotHousing.shape)"
   ]
  },
  {
   "cell_type": "code",
   "execution_count": null,
   "metadata": {},
   "outputs": [],
   "source": [
    "sum(oneHotHousing[:,1])\n",
    "print(sum((oneHotHousing))) #just shows how many in each category"
   ]
  },
  {
   "cell_type": "code",
   "execution_count": null,
   "metadata": {},
   "outputs": [],
   "source": [
    "#namesForOneHotHousing = credit['Housing_Type'].unique()\n",
    "print(namesForOneHotHousing[0])\n",
    "for i in range(oneHotHousing.shape[1]):\n",
    "    credit[namesForOneHotHousing[i]] = oneHotHousing[:,i]"
   ]
  },
  {
   "cell_type": "code",
   "execution_count": null,
   "metadata": {},
   "outputs": [],
   "source": [
    "credit.head()"
   ]
  },
  {
   "cell_type": "code",
   "execution_count": null,
   "metadata": {},
   "outputs": [],
   "source": [
    "#okay next is education type\n",
    "#education one hot encoding\n",
    "education = credit['Education_Type']\n",
    "education = np.array(list(education))\n",
    "education\n",
    "print(type(education))\n"
   ]
  },
  {
   "cell_type": "code",
   "execution_count": null,
   "metadata": {},
   "outputs": [],
   "source": [
    "namesForOneHotEducation, oneHotEducation = one_hot_encode(education)\n",
    "#oneHotHousing = arrHouse[:]\n",
    "#namesForOneHotHousing = arrHouse[0]\n",
    "print(namesForOneHotEducation)\n",
    "print(oneHotEducation)\n",
    "print(oneHotEducation.shape)"
   ]
  },
  {
   "cell_type": "code",
   "execution_count": null,
   "metadata": {},
   "outputs": [],
   "source": [
    "sum(oneHotEducation[:,1])\n",
    "print(sum((oneHotEducation))) #just shows how many in each category\n",
    "print(sum(sum(oneHotEducation)))"
   ]
  },
  {
   "cell_type": "code",
   "execution_count": null,
   "metadata": {},
   "outputs": [],
   "source": [
    "print(namesForOneHotEducation[0])\n",
    "for i in range(oneHotEducation.shape[1]):\n",
    "    credit[namesForOneHotEducation[i]] = oneHotEducation[:,i]\n",
    "credit.head()"
   ]
  },
  {
   "cell_type": "code",
   "execution_count": null,
   "metadata": {},
   "outputs": [],
   "source": [
    "#next is family status\n",
    "family = credit['Family_Status']\n",
    "family = np.array(list(family))\n",
    "family\n",
    "print(type(family))"
   ]
  },
  {
   "cell_type": "code",
   "execution_count": null,
   "metadata": {},
   "outputs": [],
   "source": [
    "namesForOneHotFamily, oneHotFamily = one_hot_encode(family)\n",
    "#oneHotHousing = arrHouse[:]\n",
    "#namesForOneHotHousing = arrHouse[0]\n",
    "print(namesForOneHotFamily)\n",
    "print(oneHotFamily)\n",
    "print(oneHotFamily.shape)"
   ]
  },
  {
   "cell_type": "code",
   "execution_count": null,
   "metadata": {},
   "outputs": [],
   "source": [
    "sum(oneHotFamily[:,1])\n",
    "print(sum((oneHotFamily))) #just shows how many in each category\n",
    "print(sum(sum(oneHotFamily)))"
   ]
  },
  {
   "cell_type": "code",
   "execution_count": null,
   "metadata": {},
   "outputs": [],
   "source": [
    "#next is Family_Status\n",
    "credit['Family_Status'].unique()"
   ]
  },
  {
   "cell_type": "code",
   "execution_count": null,
   "metadata": {},
   "outputs": [],
   "source": [
    "print(namesForOneHotFamily[0])\n",
    "for i in range(oneHotFamily.shape[1]):\n",
    "    credit[namesForOneHotFamily[i]] = oneHotFamily[:,i]\n",
    "credit.head()"
   ]
  },
  {
   "cell_type": "code",
   "execution_count": null,
   "metadata": {},
   "outputs": [],
   "source": [
    "credit.shape"
   ]
  },
  {
   "cell_type": "code",
   "execution_count": null,
   "metadata": {},
   "outputs": [],
   "source": [
    "credit['Education_Type'].unique()"
   ]
  },
  {
   "cell_type": "code",
   "execution_count": null,
   "metadata": {},
   "outputs": [],
   "source": [
    "credit = credit.drop(columns=['Education_Type','Family_Status','Housing_Type'])"
   ]
  },
  {
   "cell_type": "code",
   "execution_count": null,
   "metadata": {},
   "outputs": [],
   "source": [
    "credit['Applicant_Gender'].unique()"
   ]
  },
  {
   "cell_type": "code",
   "execution_count": null,
   "metadata": {},
   "outputs": [],
   "source": [
    "credit.dtypes"
   ]
  },
  {
   "cell_type": "code",
   "execution_count": null,
   "metadata": {},
   "outputs": [],
   "source": [
    "credit.head()"
   ]
  },
  {
   "cell_type": "code",
   "execution_count": null,
   "metadata": {},
   "outputs": [],
   "source": [
    "#credit.shape()"
   ]
  },
  {
   "cell_type": "code",
   "execution_count": null,
   "metadata": {},
   "outputs": [],
   "source": [
    "from imblearn.over_sampling import SMOTE\n",
    "sm = SMOTE(random_state=42)\n",
    "X_res, y_res = sm.fit_resample(X_train, y_train)"
   ]
  },
  {
   "cell_type": "code",
   "execution_count": null,
   "metadata": {},
   "outputs": [],
   "source": [
    " #now we are done one hot encoding everything"
   ]
  },
  {
   "cell_type": "code",
   "execution_count": null,
   "metadata": {},
   "outputs": [],
   "source": [
    "#!pip install imblearn\n",
    "#!pip install sklearn"
   ]
  },
  {
   "cell_type": "code",
   "execution_count": null,
   "metadata": {},
   "outputs": [],
   "source": [
    "from sklearn.model_selection import train_test_split\n",
    "from sklearn.preprocessing import OneHotEncoder\n",
    "from imblearn.over_sampling import ADASYN\n",
    "from imblearn.pipeline import make_pipeline\n",
    "from sklearn.compose import make_column_transformer\n",
    "from sklearn.ensemble import RandomForestClassifier\n",
    "\n",
    "# Split data into train and test sets\n",
    "X_train, X_test, y_train, y_test = train_test_split(credit.drop('Status', axis=1),\n",
    "                                                    credit['Status'],\n",
    "                                                    test_size=0.2,\n",
    "                                                    random_state=123)\n",
    "\n",
    "# Define column transformer for categorical features\n",
    "categorical_features = ['Applicant_Gender', 'Owned_Car', 'Owned_Realty', 'Income_Type',\n",
    "                     'Owned_Mobile_Phone',\n",
    "                        'Owned_Work_Phone', 'Owned_Phone', 'Owned_Email', 'Job_Title']\n",
    "\n",
    "preprocessor = make_column_transformer((OneHotEncoder(handle_unknown='ignore'), categorical_features))\n",
    "\n",
    "# Define ADASYN pipeline with random forest classifier\n",
    "pipeline = make_pipeline(preprocessor, ADASYN(random_state=123), RandomForestClassifier(random_state=123))\n",
    "#pipeline = make_pipeline(ADASYN(random_state=123))\n",
    "\n",
    "# Fit pipeline to training data\n",
    "pipeline.fit(X_train, y_train)\n",
    "#"
   ]
  },
  {
   "cell_type": "code",
   "execution_count": null,
   "metadata": {},
   "outputs": [],
   "source": [
    "#next is visualization\n",
    "credit.head()\n",
    "X_train.shape"
   ]
  },
  {
   "cell_type": "code",
   "execution_count": null,
   "metadata": {},
   "outputs": [],
   "source": [
    "#Base Model is  just if the income is better than the mean than approve otherwise don't\n",
    "\n",
    "\n",
    "#train test split\n",
    "from sklearn.model_selection import train_test_split\n",
    "\n",
    "train, test = train_test_split(credit, test_size=0.2)"
   ]
  },
  {
   "cell_type": "code",
   "execution_count": null,
   "metadata": {},
   "outputs": [],
   "source": [
    "print(train.shape)\n",
    "train.head()\n"
   ]
  },
  {
   "cell_type": "code",
   "execution_count": null,
   "metadata": {},
   "outputs": [],
   "source": [
    "print(test.shape)\n",
    "test.head()"
   ]
  },
  {
   "cell_type": "code",
   "execution_count": null,
   "metadata": {},
   "outputs": [],
   "source": [
    "train_income_mean = train['Total_Income'].mean()\n",
    "print(train_income_mean)"
   ]
  },
  {
   "cell_type": "code",
   "execution_count": null,
   "metadata": {},
   "outputs": [],
   "source": []
  },
  {
   "cell_type": "code",
   "execution_count": null,
   "metadata": {},
   "outputs": [],
   "source": [
    "gThanM = [1 if i >= train_income_mean else 0 for i in train['Total_Income']]"
   ]
  },
  {
   "cell_type": "code",
   "execution_count": null,
   "metadata": {},
   "outputs": [],
   "source": [
    "train['prediction'] = gThanM"
   ]
  },
  {
   "cell_type": "code",
   "execution_count": null,
   "metadata": {},
   "outputs": [],
   "source": [
    "train.head()"
   ]
  },
  {
   "cell_type": "code",
   "execution_count": null,
   "metadata": {},
   "outputs": [],
   "source": [
    "y_true_num = list(train['Status'])\n",
    "y_pred_num = list(train['prediction'])\n",
    "#print(y_pred_num)"
   ]
  },
  {
   "cell_type": "code",
   "execution_count": null,
   "metadata": {},
   "outputs": [],
   "source": [
    "fp = 0\n",
    "tp = 0\n",
    "fn = 0\n",
    "tn = 0\n",
    "\n",
    "tpPoints = []\n",
    "xTp = []\n",
    "fpPoints = []\n",
    "xFp = []\n",
    "fnPoints = []\n",
    "xFn = []\n",
    "tnPoints = []\n",
    "xTn = []\n",
    "\n",
    "for i in range (len(y_true_num)):\n",
    "    if y_true_num[i] == 1 and y_pred_num[i] == 1:\n",
    "        tp += 1\n",
    "        tpPoints.append(credit['Total_Income'].iloc[i])\n",
    "        xTp.append(i)\n",
    "        #tpPoints.append(credits['Total_Income'][i]) #fix this doesnt make sense\n",
    "    if y_true_num[i] == 0 and y_pred_num[i] == 1:\n",
    "        fp += 1\n",
    "        fpPoints.append(credit['Total_Income'].iloc[i])\n",
    "        xFp.append(i)\n",
    "        #fpPoints.append(y_true_)\n",
    "    if y_true_num[i] == 1 and y_pred_num[i] == 0:\n",
    "        fn += 1\n",
    "        fnPoints.append(credit['Total_Income'].iloc[i])\n",
    "        xFn.append(i)\n",
    "    if y_true_num[i] == 0 and y_pred_num[i] == 0:\n",
    "        tn += 1\n",
    "        tnPoints.append(credit['Total_Income'].iloc[i])\n",
    "        xTn.append(i)\n",
    "        \n",
    "\n",
    "precision = float (tp) / float(tp + fp)\n",
    "recall = float(tp) / float(tp + fn)\n",
    "        #precision1 = precision_score(y_true_num, y_pred_num)\n",
    "        #print(precision1)\n",
    "        #print(precision)\n",
    "#precise[j] = precision\n",
    "    #j += 1\n",
    "print(\"Precision: \", precision)\n",
    "print()\n",
    "print(\"Recall: \", recall)\n",
    "print()\n",
    "print(\"False Positive: \", fp)\n",
    "print()\n",
    "print(\"False Negative: \", fn)\n",
    "print()\n",
    "f1 = 2*precision *recall / (precision + recall)\n",
    "print(\"F1 Score: \", f1)"
   ]
  },
  {
   "cell_type": "markdown",
   "metadata": {},
   "source": [
    "An extrememly low f1 score indicates the baseline isnt great which is what we are aiming for but its a start and what we should beat at the very least"
   ]
  },
  {
   "cell_type": "code",
   "execution_count": null,
   "metadata": {},
   "outputs": [],
   "source": [
    "#Next comes the graph for this\n",
    "plt.scatter(xTp, tpPoints, color = 'green', label=\"True Positive\")\n",
    "plt.scatter(xFp, fpPoints, color = 'yellow', label=\"False Positive\")\n",
    "plt.scatter(xFn, fnPoints, color = 'blue', label = \"False Negatives\")\n",
    "plt.scatter(xTn, tnPoints, color = 'red', label = \"True Negatives\")\n",
    "plt.legend([\"True Positive\" , \"False Positive\", \"False Negative\", \"True Negative\"], ncol = 4 )\n",
    "plt.figure(figsize=(10000,10000))\n",
    "#plt.show()"
   ]
  },
  {
   "cell_type": "code",
   "execution_count": null,
   "metadata": {},
   "outputs": [],
   "source": [
    "#for our graphs we can use an ROC Curve to evaluate since we are doing a binary classification task\n",
    "#it make sense to compare the tpr to the fpr as the roc curve does\n",
    "\n",
    "\n",
    "#same with doing any of the validation methods like kfold validation or gridsearch their methods only work on methods which\n",
    "#use some sort of classifier"
   ]
  },
  {
   "cell_type": "markdown",
   "metadata": {},
   "source": [
    "# Ethics & Privacy"
   ]
  },
  {
   "cell_type": "markdown",
   "metadata": {},
   "source": [
    "We referenced the ethics checklist at https://deon.drivendata.org. We have no knowledge of the data collection process since we are using a publicly available dataset at Kaggle, however, we do know that no names are part of the dataset since each applicant was identified by their  ID which protects them. One of the ethical issues with this data is that some information such as the name and date of birth can be identifiable,even though this data set has omitted such private information by using unidentifiable id numbers and age instead of the date of birth.  We haven’t gotten towards the modeling or the deployment therefore we can’t answer the ethics of these two yet. However, basing off of our base model we see that false negatives are a large ethical concern for us as many individuals are considered ineligible by just comparing income. Making our model robust with other economic and credit-worthy factors such as car and home ownership as well as number of family members can help predict individuals who can pay off credit debt more accurately. This ethical corncern will get addressed once a more robust and complex model is in place which takes many factors into account. We will continue to monitor this concern within our model by tracking false positivity rates more closely. Additionally, one confounding variable that could impact our data is race. This variable could possibly be biasing our data, however this variable is not tracked within our dataset hence it is difficult to evaluate whether it is biasing our data and hence biaisng our model. This can be resolved if our model is implemented and trained on data which tracks racial characteristics to further understand the bias.\n"
   ]
  },
  {
   "cell_type": "markdown",
   "metadata": {},
   "source": [
    "# Team Expectations "
   ]
  },
  {
   "cell_type": "markdown",
   "metadata": {},
   "source": [
    "- *We will communicate multiple times a week through our messages groupchat to collaborate on the project components.*\n",
    "- *We have set aside weekly meetings to work together in person and online via Zoom.* \n",
    "- *We expect to split all components equally and have multiple people working on different sections of the project to have the best output.*\n",
    "\n"
   ]
  },
  {
   "cell_type": "markdown",
   "metadata": {},
   "source": [
    "# Project Timeline Proposal"
   ]
  },
  {
   "cell_type": "markdown",
   "metadata": {},
   "source": [
    "| Meeting Date  | Meeting Time| Completed Before Meeting  | Discuss at Meeting |\n",
    "|---|---|---|---|\n",
    "| 2/19  |  6 PM |  Brainstorm topics/questions. Everyone brought different project ideas to the meeting.  | Discussed different project ideas; Finalized topic for the project;  discuss hypothesis; began background research | \n",
    "| 2/20  |  N/A |  Found background information. |Presented the background information we found. | \n",
    "| 2/21  | 6 PM  | Edit, finalize, and submit proposal; Search for datasets   | Discuss Wrangling and possible analytical approaches; Assign group members to lead each specific part; Figured out timeline to work for the project |\n",
    "| 2/28  | 6 PM  | Import & Wrangle Data, do  EDA |Review/Edit wrangling/EDA; Discuss Analysis Plan |\n",
    "| 3/1  | 6 PM  | Finalize wrangling/EDA; Begin programming for project |Discuss/edit project code; Complete project |\n",
    "| 3/13  | NA  | Complete analysis; Draft results/conclusion/discussion | Discuss/edit full project |\n",
    "| 3/22  | Before 11:59 PM  | NA | Turn in Final Project  |"
   ]
  },
  {
   "cell_type": "markdown",
   "metadata": {},
   "source": [
    "# Footnotes\n",
    "<a name=\"lorenznote\"></a>1.[^](#lorenz): Hemkiran, S., et al. “Design of Automatic Credit Card Approval System Using Machine Learning.” SpringerLink, Springer Singapore, 1 Jan. 1970, https://link.springer.com/chapter/10.1007/978-981-16-6448-9_1. <br> \n",
    "<a name=\"admonishnote\"></a>2.[^](#admonish): Kibria, Golam, and Mehmet Sevkli. “Application of Deep Learning for Credit Card Approval: A Comparison ...” Application of Deep Learning for Credit Card Approval: A Comparison with Two Machine Learning Techniques, https://www.researchgate.net/profile/Md-Kibria-12/publication/348755769_Application_of_Deep_Learning_for_Credit_Card_Approval_A_Comparison_with_Two_Machine_Learning_Techniques/links/600f495f92851c13fe39bb38/Application-of-Deep-Learning-for-Credit-Card-Approval-A-Comparison-with-Two-Machine-Learning-Techniques.pdf?origin=publication_detail. <br>\n",
    "<a name=\"sotanote\"></a>3.[^](#sota):Markova, Maya. “Credit Card Approval Model: An Application of Deep Neural Networks.” AIP Publishing, AIP Publishing LLC AIP Publishing, 24 Feb. 2021, https://aip.scitation.org/doi/abs/10.1063/5.0040744?journalCode=apc. \n"
   ]
  },
  {
   "cell_type": "code",
   "execution_count": null,
   "metadata": {},
   "outputs": [],
   "source": []
  },
  {
   "cell_type": "code",
   "execution_count": null,
   "metadata": {},
   "outputs": [],
   "source": []
  },
  {
   "cell_type": "code",
   "execution_count": null,
   "metadata": {},
   "outputs": [],
   "source": []
  }
 ],
 "metadata": {
  "kernelspec": {
   "display_name": "Python 3 (ipykernel)",
   "language": "python",
   "name": "python3"
  },
  "language_info": {
   "codemirror_mode": {
    "name": "ipython",
    "version": 3
   },
   "file_extension": ".py",
   "mimetype": "text/x-python",
   "name": "python",
   "nbconvert_exporter": "python",
   "pygments_lexer": "ipython3",
   "version": "3.9.13"
  }
 },
 "nbformat": 4,
 "nbformat_minor": 2
}
